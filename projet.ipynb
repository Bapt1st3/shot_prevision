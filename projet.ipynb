{
 "cells": [
  {
   "cell_type": "markdown",
   "id": "c0377935",
   "metadata": {},
   "source": [
    "# Import des données et exploration"
   ]
  },
  {
   "cell_type": "code",
   "execution_count": 81,
   "id": "f0be263e",
   "metadata": {},
   "outputs": [],
   "source": [
    "import pandas as pd\n",
    "import numpy as np\n",
    "import matplotlib.pyplot as plt\n",
    "from scipy.stats import zscore\n",
    "import seaborn as sns"
   ]
  },
  {
   "cell_type": "code",
   "execution_count": 102,
   "id": "d84e9ea0",
   "metadata": {},
   "outputs": [],
   "source": [
    "csv_path = \"archive/shot_logs.csv\"  \n",
    "df = pd.read_csv(csv_path, encoding='utf-8')"
   ]
  },
  {
   "cell_type": "code",
   "execution_count": 103,
   "id": "27f77f0e",
   "metadata": {},
   "outputs": [
    {
     "data": {
      "application/vnd.microsoft.datawrangler.viewer.v0+json": {
       "columns": [
        {
         "name": "index",
         "rawType": "int64",
         "type": "integer"
        },
        {
         "name": "GAME_ID",
         "rawType": "int64",
         "type": "integer"
        },
        {
         "name": "MATCHUP",
         "rawType": "object",
         "type": "string"
        },
        {
         "name": "LOCATION",
         "rawType": "object",
         "type": "string"
        },
        {
         "name": "W",
         "rawType": "object",
         "type": "string"
        },
        {
         "name": "FINAL_MARGIN",
         "rawType": "int64",
         "type": "integer"
        },
        {
         "name": "SHOT_NUMBER",
         "rawType": "int64",
         "type": "integer"
        },
        {
         "name": "PERIOD",
         "rawType": "int64",
         "type": "integer"
        },
        {
         "name": "GAME_CLOCK",
         "rawType": "object",
         "type": "string"
        },
        {
         "name": "SHOT_CLOCK",
         "rawType": "float64",
         "type": "float"
        },
        {
         "name": "DRIBBLES",
         "rawType": "int64",
         "type": "integer"
        },
        {
         "name": "TOUCH_TIME",
         "rawType": "float64",
         "type": "float"
        },
        {
         "name": "SHOT_DIST",
         "rawType": "float64",
         "type": "float"
        },
        {
         "name": "PTS_TYPE",
         "rawType": "int64",
         "type": "integer"
        },
        {
         "name": "SHOT_RESULT",
         "rawType": "object",
         "type": "string"
        },
        {
         "name": "CLOSEST_DEFENDER",
         "rawType": "object",
         "type": "string"
        },
        {
         "name": "CLOSEST_DEFENDER_PLAYER_ID",
         "rawType": "int64",
         "type": "integer"
        },
        {
         "name": "CLOSE_DEF_DIST",
         "rawType": "float64",
         "type": "float"
        },
        {
         "name": "FGM",
         "rawType": "int64",
         "type": "integer"
        },
        {
         "name": "PTS",
         "rawType": "int64",
         "type": "integer"
        },
        {
         "name": "player_name",
         "rawType": "object",
         "type": "string"
        },
        {
         "name": "player_id",
         "rawType": "int64",
         "type": "integer"
        }
       ],
       "ref": "808e1224-50f8-4061-ab47-302b40527f06",
       "rows": [
        [
         "0",
         "21400899",
         "MAR 04, 2015 - CHA @ BKN",
         "A",
         "W",
         "24",
         "1",
         "1",
         "1:09",
         "10.8",
         "2",
         "1.9",
         "7.7",
         "2",
         "made",
         "Anderson, Alan",
         "101187",
         "1.3",
         "1",
         "2",
         "brian roberts",
         "203148"
        ],
        [
         "1",
         "21400899",
         "MAR 04, 2015 - CHA @ BKN",
         "A",
         "W",
         "24",
         "2",
         "1",
         "0:14",
         "3.4",
         "0",
         "0.8",
         "28.2",
         "3",
         "missed",
         "Bogdanovic, Bojan",
         "202711",
         "6.1",
         "0",
         "0",
         "brian roberts",
         "203148"
        ],
        [
         "2",
         "21400899",
         "MAR 04, 2015 - CHA @ BKN",
         "A",
         "W",
         "24",
         "3",
         "1",
         "0:00",
         null,
         "3",
         "2.7",
         "10.1",
         "2",
         "missed",
         "Bogdanovic, Bojan",
         "202711",
         "0.9",
         "0",
         "0",
         "brian roberts",
         "203148"
        ],
        [
         "3",
         "21400899",
         "MAR 04, 2015 - CHA @ BKN",
         "A",
         "W",
         "24",
         "4",
         "2",
         "11:47",
         "10.3",
         "2",
         "1.9",
         "17.2",
         "2",
         "missed",
         "Brown, Markel",
         "203900",
         "3.4",
         "0",
         "0",
         "brian roberts",
         "203148"
        ],
        [
         "4",
         "21400899",
         "MAR 04, 2015 - CHA @ BKN",
         "A",
         "W",
         "24",
         "5",
         "2",
         "10:34",
         "10.9",
         "2",
         "2.7",
         "3.7",
         "2",
         "missed",
         "Young, Thaddeus",
         "201152",
         "1.1",
         "0",
         "0",
         "brian roberts",
         "203148"
        ]
       ],
       "shape": {
        "columns": 21,
        "rows": 5
       }
      },
      "text/html": [
       "<div>\n",
       "<style scoped>\n",
       "    .dataframe tbody tr th:only-of-type {\n",
       "        vertical-align: middle;\n",
       "    }\n",
       "\n",
       "    .dataframe tbody tr th {\n",
       "        vertical-align: top;\n",
       "    }\n",
       "\n",
       "    .dataframe thead th {\n",
       "        text-align: right;\n",
       "    }\n",
       "</style>\n",
       "<table border=\"1\" class=\"dataframe\">\n",
       "  <thead>\n",
       "    <tr style=\"text-align: right;\">\n",
       "      <th></th>\n",
       "      <th>GAME_ID</th>\n",
       "      <th>MATCHUP</th>\n",
       "      <th>LOCATION</th>\n",
       "      <th>W</th>\n",
       "      <th>FINAL_MARGIN</th>\n",
       "      <th>SHOT_NUMBER</th>\n",
       "      <th>PERIOD</th>\n",
       "      <th>GAME_CLOCK</th>\n",
       "      <th>SHOT_CLOCK</th>\n",
       "      <th>DRIBBLES</th>\n",
       "      <th>...</th>\n",
       "      <th>SHOT_DIST</th>\n",
       "      <th>PTS_TYPE</th>\n",
       "      <th>SHOT_RESULT</th>\n",
       "      <th>CLOSEST_DEFENDER</th>\n",
       "      <th>CLOSEST_DEFENDER_PLAYER_ID</th>\n",
       "      <th>CLOSE_DEF_DIST</th>\n",
       "      <th>FGM</th>\n",
       "      <th>PTS</th>\n",
       "      <th>player_name</th>\n",
       "      <th>player_id</th>\n",
       "    </tr>\n",
       "  </thead>\n",
       "  <tbody>\n",
       "    <tr>\n",
       "      <th>0</th>\n",
       "      <td>21400899</td>\n",
       "      <td>MAR 04, 2015 - CHA @ BKN</td>\n",
       "      <td>A</td>\n",
       "      <td>W</td>\n",
       "      <td>24</td>\n",
       "      <td>1</td>\n",
       "      <td>1</td>\n",
       "      <td>1:09</td>\n",
       "      <td>10.8</td>\n",
       "      <td>2</td>\n",
       "      <td>...</td>\n",
       "      <td>7.7</td>\n",
       "      <td>2</td>\n",
       "      <td>made</td>\n",
       "      <td>Anderson, Alan</td>\n",
       "      <td>101187</td>\n",
       "      <td>1.3</td>\n",
       "      <td>1</td>\n",
       "      <td>2</td>\n",
       "      <td>brian roberts</td>\n",
       "      <td>203148</td>\n",
       "    </tr>\n",
       "    <tr>\n",
       "      <th>1</th>\n",
       "      <td>21400899</td>\n",
       "      <td>MAR 04, 2015 - CHA @ BKN</td>\n",
       "      <td>A</td>\n",
       "      <td>W</td>\n",
       "      <td>24</td>\n",
       "      <td>2</td>\n",
       "      <td>1</td>\n",
       "      <td>0:14</td>\n",
       "      <td>3.4</td>\n",
       "      <td>0</td>\n",
       "      <td>...</td>\n",
       "      <td>28.2</td>\n",
       "      <td>3</td>\n",
       "      <td>missed</td>\n",
       "      <td>Bogdanovic, Bojan</td>\n",
       "      <td>202711</td>\n",
       "      <td>6.1</td>\n",
       "      <td>0</td>\n",
       "      <td>0</td>\n",
       "      <td>brian roberts</td>\n",
       "      <td>203148</td>\n",
       "    </tr>\n",
       "    <tr>\n",
       "      <th>2</th>\n",
       "      <td>21400899</td>\n",
       "      <td>MAR 04, 2015 - CHA @ BKN</td>\n",
       "      <td>A</td>\n",
       "      <td>W</td>\n",
       "      <td>24</td>\n",
       "      <td>3</td>\n",
       "      <td>1</td>\n",
       "      <td>0:00</td>\n",
       "      <td>NaN</td>\n",
       "      <td>3</td>\n",
       "      <td>...</td>\n",
       "      <td>10.1</td>\n",
       "      <td>2</td>\n",
       "      <td>missed</td>\n",
       "      <td>Bogdanovic, Bojan</td>\n",
       "      <td>202711</td>\n",
       "      <td>0.9</td>\n",
       "      <td>0</td>\n",
       "      <td>0</td>\n",
       "      <td>brian roberts</td>\n",
       "      <td>203148</td>\n",
       "    </tr>\n",
       "    <tr>\n",
       "      <th>3</th>\n",
       "      <td>21400899</td>\n",
       "      <td>MAR 04, 2015 - CHA @ BKN</td>\n",
       "      <td>A</td>\n",
       "      <td>W</td>\n",
       "      <td>24</td>\n",
       "      <td>4</td>\n",
       "      <td>2</td>\n",
       "      <td>11:47</td>\n",
       "      <td>10.3</td>\n",
       "      <td>2</td>\n",
       "      <td>...</td>\n",
       "      <td>17.2</td>\n",
       "      <td>2</td>\n",
       "      <td>missed</td>\n",
       "      <td>Brown, Markel</td>\n",
       "      <td>203900</td>\n",
       "      <td>3.4</td>\n",
       "      <td>0</td>\n",
       "      <td>0</td>\n",
       "      <td>brian roberts</td>\n",
       "      <td>203148</td>\n",
       "    </tr>\n",
       "    <tr>\n",
       "      <th>4</th>\n",
       "      <td>21400899</td>\n",
       "      <td>MAR 04, 2015 - CHA @ BKN</td>\n",
       "      <td>A</td>\n",
       "      <td>W</td>\n",
       "      <td>24</td>\n",
       "      <td>5</td>\n",
       "      <td>2</td>\n",
       "      <td>10:34</td>\n",
       "      <td>10.9</td>\n",
       "      <td>2</td>\n",
       "      <td>...</td>\n",
       "      <td>3.7</td>\n",
       "      <td>2</td>\n",
       "      <td>missed</td>\n",
       "      <td>Young, Thaddeus</td>\n",
       "      <td>201152</td>\n",
       "      <td>1.1</td>\n",
       "      <td>0</td>\n",
       "      <td>0</td>\n",
       "      <td>brian roberts</td>\n",
       "      <td>203148</td>\n",
       "    </tr>\n",
       "  </tbody>\n",
       "</table>\n",
       "<p>5 rows × 21 columns</p>\n",
       "</div>"
      ],
      "text/plain": [
       "    GAME_ID                   MATCHUP LOCATION  W  FINAL_MARGIN  SHOT_NUMBER  \\\n",
       "0  21400899  MAR 04, 2015 - CHA @ BKN        A  W            24            1   \n",
       "1  21400899  MAR 04, 2015 - CHA @ BKN        A  W            24            2   \n",
       "2  21400899  MAR 04, 2015 - CHA @ BKN        A  W            24            3   \n",
       "3  21400899  MAR 04, 2015 - CHA @ BKN        A  W            24            4   \n",
       "4  21400899  MAR 04, 2015 - CHA @ BKN        A  W            24            5   \n",
       "\n",
       "   PERIOD GAME_CLOCK  SHOT_CLOCK  DRIBBLES  ...  SHOT_DIST  PTS_TYPE  \\\n",
       "0       1       1:09        10.8         2  ...        7.7         2   \n",
       "1       1       0:14         3.4         0  ...       28.2         3   \n",
       "2       1       0:00         NaN         3  ...       10.1         2   \n",
       "3       2      11:47        10.3         2  ...       17.2         2   \n",
       "4       2      10:34        10.9         2  ...        3.7         2   \n",
       "\n",
       "   SHOT_RESULT   CLOSEST_DEFENDER CLOSEST_DEFENDER_PLAYER_ID  CLOSE_DEF_DIST  \\\n",
       "0         made     Anderson, Alan                     101187             1.3   \n",
       "1       missed  Bogdanovic, Bojan                     202711             6.1   \n",
       "2       missed  Bogdanovic, Bojan                     202711             0.9   \n",
       "3       missed      Brown, Markel                     203900             3.4   \n",
       "4       missed    Young, Thaddeus                     201152             1.1   \n",
       "\n",
       "   FGM  PTS    player_name player_id  \n",
       "0    1    2  brian roberts    203148  \n",
       "1    0    0  brian roberts    203148  \n",
       "2    0    0  brian roberts    203148  \n",
       "3    0    0  brian roberts    203148  \n",
       "4    0    0  brian roberts    203148  \n",
       "\n",
       "[5 rows x 21 columns]"
      ]
     },
     "execution_count": 103,
     "metadata": {},
     "output_type": "execute_result"
    }
   ],
   "source": [
    "df.head()\n"
   ]
  },
  {
   "cell_type": "markdown",
   "id": "e6a5d1b1",
   "metadata": {},
   "source": [
    "| **Nom de la colonne**          | **Description**                                                                                                |\n",
    "| ------------------------------ | -------------------------------------------------------------------------------------------------------------- |\n",
    "| **SHOT_CLOCK**                 | Temps restant sur l’horloge des tirs (en secondes) au moment du tir. Peut être manquant sur certaines actions. |\n",
    "| **MATCHUP**                    | Indique le match joué, souvent sous la forme `\"LAL vs GSW\"` ou `\"GSW @ LAL\"`.                                  |\n",
    "| **LOCATION**                   | Désigne si l’équipe du joueur jouait à domicile (`HOME`) ou à l’extérieur (`AWAY`).                            |\n",
    "| **W**                          | Résultat final du match pour l’équipe du joueur : `W` = victoire, `L` = défaite.                               |\n",
    "| **GAME_ID**                    | Identifiant unique du match dans la base de données NBA.                                                       |\n",
    "| **FINAL_MARGIN**               | Écart de points final du match (positif = victoire, négatif = défaite).                                        |\n",
    "| **SHOT_NUMBER**                | Numéro d’ordre du tir tenté par le joueur dans le match (1er tir, 2e tir, etc.).                               |\n",
    "| **PERIOD**                     | Quart-temps dans lequel le tir a eu lieu (1 à 4, parfois plus pour les prolongations).                         |\n",
    "| **GAME_CLOCK**                 | Temps restant dans le quart-temps au moment du tir (format `MM:SS`).                                           |\n",
    "| **DRIBBLES**                   | Nombre de dribbles effectués par le joueur avant de tirer.                                                     |\n",
    "| **TOUCH_TIME**                 | Durée (en secondes) pendant laquelle le joueur a eu la balle avant de tirer.                                   |\n",
    "| **SHOT_DIST**                  | Distance du tir par rapport au panier (en pieds).                                                              |\n",
    "| **PTS_TYPE**                   | Type de tir : `2` pour un tir à 2 points, `3` pour un tir à 3 points.                                          |\n",
    "| **SHOT_RESULT**                | Résultat du tir : `\"Made\"` = réussi, `\"Missed\"` = raté.                                                        |\n",
    "| **CLOSEST_DEFENDER**           | Nom du défenseur le plus proche au moment du tir.                                                              |\n",
    "| **CLOSEST_DEFENDER_PLAYER_ID** | Identifiant du défenseur le plus proche.                                                                       |\n",
    "| **CLOSE_DEF_DIST**             | Distance (en pieds) entre le tireur et le défenseur le plus proche.                                            |\n",
    "| **FGM**                        | *Field Goal Made* : 1 si le tir est marqué, 0 sinon.                                                           |\n",
    "| **PTS**                        | Nombre de points marqués sur l’action (0, 2 ou 3).                                                             |\n",
    "| **player_name**                | Nom du joueur qui a tenté le tir.                                                                              |\n",
    "| **player_id**                  | Identifiant unique du joueur dans la base NBA.                                                                 |\n"
   ]
  },
  {
   "cell_type": "code",
   "execution_count": 104,
   "id": "c246eb7a",
   "metadata": {},
   "outputs": [
    {
     "name": "stdout",
     "output_type": "stream",
     "text": [
      "shape : (128069, 21)\n",
      "GAME_ID                         int64\n",
      "MATCHUP                        object\n",
      "LOCATION                       object\n",
      "W                              object\n",
      "FINAL_MARGIN                    int64\n",
      "SHOT_NUMBER                     int64\n",
      "PERIOD                          int64\n",
      "GAME_CLOCK                     object\n",
      "SHOT_CLOCK                    float64\n",
      "DRIBBLES                        int64\n",
      "TOUCH_TIME                    float64\n",
      "SHOT_DIST                     float64\n",
      "PTS_TYPE                        int64\n",
      "SHOT_RESULT                    object\n",
      "CLOSEST_DEFENDER               object\n",
      "CLOSEST_DEFENDER_PLAYER_ID      int64\n",
      "CLOSE_DEF_DIST                float64\n",
      "FGM                             int64\n",
      "PTS                             int64\n",
      "player_name                    object\n",
      "player_id                       int64\n",
      "dtype: object\n"
     ]
    }
   ],
   "source": [
    "print(\"shape :\" ,df.shape)\n",
    "print(df.dtypes)\n"
   ]
  },
  {
   "cell_type": "code",
   "execution_count": 105,
   "id": "1ca59052",
   "metadata": {},
   "outputs": [
    {
     "name": "stdout",
     "output_type": "stream",
     "text": [
      "\n",
      "=== VALEURS MANQUANTES ===\n",
      "                            missing  missing_%\n",
      "SHOT_CLOCK                     5567       4.35\n",
      "MATCHUP                           0       0.00\n",
      "LOCATION                          0       0.00\n",
      "W                                 0       0.00\n",
      "GAME_ID                           0       0.00\n",
      "FINAL_MARGIN                      0       0.00\n",
      "SHOT_NUMBER                       0       0.00\n",
      "PERIOD                            0       0.00\n",
      "GAME_CLOCK                        0       0.00\n",
      "DRIBBLES                          0       0.00\n",
      "TOUCH_TIME                        0       0.00\n",
      "SHOT_DIST                         0       0.00\n",
      "PTS_TYPE                          0       0.00\n",
      "SHOT_RESULT                       0       0.00\n",
      "CLOSEST_DEFENDER                  0       0.00\n",
      "CLOSEST_DEFENDER_PLAYER_ID        0       0.00\n",
      "CLOSE_DEF_DIST                    0       0.00\n",
      "FGM                               0       0.00\n",
      "PTS                               0       0.00\n",
      "player_name                       0       0.00\n",
      "player_id                         0       0.00\n",
      "\n",
      "SHOT_RESULT\n",
      "missed    70164\n",
      "made      57905\n",
      "Name: count, dtype: int64\n"
     ]
    }
   ],
   "source": [
    "print(\"\\n=== VALEURS MANQUANTES ===\")\n",
    "na_counts = df.isna().sum()\n",
    "na_pct = (na_counts / len(df)) * 100\n",
    "na_summary = pd.DataFrame({'missing': na_counts, 'missing_%': na_pct.round(2)})\n",
    "print(na_summary.sort_values(by='missing_%', ascending=False))\n",
    "print()\n",
    "print(df['SHOT_RESULT'].value_counts())"
   ]
  },
  {
   "cell_type": "code",
   "execution_count": 106,
   "id": "3dc74f57",
   "metadata": {},
   "outputs": [
    {
     "data": {
      "application/vnd.microsoft.datawrangler.viewer.v0+json": {
       "columns": [
        {
         "name": "PTS_TYPE",
         "rawType": "int64",
         "type": "integer"
        },
        {
         "name": "count",
         "rawType": "int64",
         "type": "integer"
        }
       ],
       "ref": "53d8a28b-0fb4-4422-941a-6281876c0d59",
       "rows": [
        [
         "2",
         "3321"
        ],
        [
         "3",
         "2246"
        ]
       ],
       "shape": {
        "columns": 1,
        "rows": 2
       }
      },
      "text/plain": [
       "PTS_TYPE\n",
       "2    3321\n",
       "3    2246\n",
       "Name: count, dtype: int64"
      ]
     },
     "execution_count": 106,
     "metadata": {},
     "output_type": "execute_result"
    }
   ],
   "source": [
    "#pourquoi shot_clock a parfois des valuers manquantes ? \n",
    "\n",
    "#h1 se sont les fautes (lancés frants) ou quel cas on devrais avoir de pts_types a 1 (faux)\n",
    "df[df['SHOT_CLOCK'].isna()]['PTS_TYPE'].value_counts()"
   ]
  },
  {
   "cell_type": "code",
   "execution_count": 107,
   "id": "cc7183fb",
   "metadata": {},
   "outputs": [
    {
     "data": {
      "application/vnd.microsoft.datawrangler.viewer.v0+json": {
       "columns": [
        {
         "name": "PERIOD",
         "rawType": "int64",
         "type": "integer"
        },
        {
         "name": "count",
         "rawType": "int64",
         "type": "integer"
        }
       ],
       "ref": "a80153a2-4de9-4f80-a675-de599914ed37",
       "rows": [
        [
         "1",
         "1578"
        ],
        [
         "2",
         "1503"
        ],
        [
         "4",
         "1182"
        ],
        [
         "3",
         "1179"
        ],
        [
         "5",
         "103"
        ],
        [
         "6",
         "19"
        ],
        [
         "7",
         "3"
        ]
       ],
       "shape": {
        "columns": 1,
        "rows": 7
       }
      },
      "text/plain": [
       "PERIOD\n",
       "1    1578\n",
       "2    1503\n",
       "4    1182\n",
       "3    1179\n",
       "5     103\n",
       "6      19\n",
       "7       3\n",
       "Name: count, dtype: int64"
      ]
     },
     "execution_count": 107,
     "metadata": {},
     "output_type": "execute_result"
    }
   ],
   "source": [
    "#h2 en debut de matach ? \n",
    "df[df['SHOT_CLOCK'].isna()]['PERIOD'].value_counts()"
   ]
  },
  {
   "cell_type": "code",
   "execution_count": 108,
   "id": "ec08bf59",
   "metadata": {},
   "outputs": [
    {
     "data": {
      "application/vnd.microsoft.datawrangler.viewer.v0+json": {
       "columns": [
        {
         "name": "GAME_CLOCK",
         "rawType": "object",
         "type": "string"
        },
        {
         "name": "count",
         "rawType": "int64",
         "type": "integer"
        }
       ],
       "ref": "1aa8c7d5-1c4d-434d-b2ed-24a30d82cf28",
       "rows": [
        [
         "0:01",
         "849"
        ],
        [
         "0:02",
         "525"
        ],
        [
         "0:00",
         "480"
        ],
        [
         "0:03",
         "385"
        ],
        [
         "0:04",
         "273"
        ],
        [
         "0:05",
         "190"
        ],
        [
         "0:06",
         "119"
        ],
        [
         "0:07",
         "94"
        ],
        [
         "0:09",
         "72"
        ],
        [
         "0:10",
         "66"
        ],
        [
         "0:08",
         "66"
        ],
        [
         "0:15",
         "54"
        ],
        [
         "0:11",
         "52"
        ],
        [
         "0:12",
         "45"
        ],
        [
         "0:14",
         "43"
        ],
        [
         "0:17",
         "38"
        ],
        [
         "0:18",
         "36"
        ],
        [
         "0:16",
         "35"
        ],
        [
         "0:13",
         "34"
        ],
        [
         "0:19",
         "28"
        ],
        [
         "0:21",
         "26"
        ],
        [
         "0:20",
         "23"
        ],
        [
         "0:52",
         "9"
        ],
        [
         "8:35",
         "9"
        ],
        [
         "9:51",
         "9"
        ],
        [
         "0:22",
         "9"
        ],
        [
         "5:30",
         "8"
        ],
        [
         "0:23",
         "8"
        ],
        [
         "3:07",
         "8"
        ],
        [
         "7:15",
         "7"
        ],
        [
         "7:34",
         "7"
        ],
        [
         "9:53",
         "7"
        ],
        [
         "11:22",
         "7"
        ],
        [
         "11:19",
         "7"
        ],
        [
         "1:02",
         "7"
        ],
        [
         "9:30",
         "7"
        ],
        [
         "11:23",
         "7"
        ],
        [
         "6:50",
         "7"
        ],
        [
         "9:22",
         "7"
        ],
        [
         "10:58",
         "7"
        ],
        [
         "3:46",
         "7"
        ],
        [
         "3:22",
         "7"
        ],
        [
         "2:41",
         "7"
        ],
        [
         "10:36",
         "6"
        ],
        [
         "6:43",
         "6"
        ],
        [
         "1:29",
         "6"
        ],
        [
         "4:40",
         "6"
        ],
        [
         "1:52",
         "6"
        ],
        [
         "6:37",
         "6"
        ],
        [
         "3:45",
         "6"
        ]
       ],
       "shape": {
        "columns": 1,
        "rows": 680
       }
      },
      "text/plain": [
       "GAME_CLOCK\n",
       "0:01     849\n",
       "0:02     525\n",
       "0:00     480\n",
       "0:03     385\n",
       "0:04     273\n",
       "        ... \n",
       "11:52      1\n",
       "2:57       1\n",
       "10:56      1\n",
       "0:42       1\n",
       "10:42      1\n",
       "Name: count, Length: 680, dtype: int64"
      ]
     },
     "execution_count": 108,
     "metadata": {},
     "output_type": "execute_result"
    }
   ],
   "source": [
    "df[df['SHOT_CLOCK'].isna()]['GAME_CLOCK'].value_counts()"
   ]
  },
  {
   "cell_type": "markdown",
   "id": "6a710dec",
   "metadata": {},
   "source": [
    "majoritairement dans les  24 dernières secondes mais  il ya quand même des valeurs plus tard dans la période donc pas de conclusion possible "
   ]
  },
  {
   "cell_type": "code",
   "execution_count": 109,
   "id": "8dd9eb0f",
   "metadata": {},
   "outputs": [
    {
     "name": "stdout",
     "output_type": "stream",
     "text": [
      "     PTS_TYPE  SHOT_DIST SHOT_RESULT\n",
      "2           2       10.1      missed\n",
      "24          3       25.2      missed\n",
      "54          3       34.4      missed\n",
      "76          2       13.1        made\n",
      "129         2       12.0      missed\n",
      "134         2       17.9      missed\n",
      "141         2       10.4        made\n",
      "145         2       18.3      missed\n",
      "184         3       27.1      missed\n",
      "204         3       32.9      missed\n"
     ]
    }
   ],
   "source": [
    "missing_shot_clock = df[df['SHOT_CLOCK'].isna()]\n",
    "print(missing_shot_clock[['PTS_TYPE', 'SHOT_DIST', 'SHOT_RESULT']].head(10))\n"
   ]
  },
  {
   "cell_type": "code",
   "execution_count": 110,
   "id": "bb233282",
   "metadata": {},
   "outputs": [],
   "source": [
    "#TODO pour l'instant drop mais on verra plus tard si on trouve pourquoi c'est manquant\n",
    "df = df.dropna(subset=['SHOT_CLOCK'])"
   ]
  },
  {
   "cell_type": "code",
   "execution_count": null,
   "id": "8341b092",
   "metadata": {},
   "outputs": [
    {
     "data": {
      "application/vnd.microsoft.datawrangler.viewer.v0+json": {
       "columns": [
        {
         "name": "index",
         "rawType": "int64",
         "type": "integer"
        },
        {
         "name": "GAME_TIME_TOTAL",
         "rawType": "int64",
         "type": "integer"
        }
       ],
       "ref": "ad1a0222-ee66-4535-8103-e8f385baf62c",
       "rows": [
        [
         "0",
         "651"
        ],
        [
         "1",
         "706"
        ],
        [
         "3",
         "733"
        ],
        [
         "4",
         "806"
        ],
        [
         "5",
         "945"
        ]
       ],
       "shape": {
        "columns": 1,
        "rows": 5
       }
      },
      "text/html": [
       "<div>\n",
       "<style scoped>\n",
       "    .dataframe tbody tr th:only-of-type {\n",
       "        vertical-align: middle;\n",
       "    }\n",
       "\n",
       "    .dataframe tbody tr th {\n",
       "        vertical-align: top;\n",
       "    }\n",
       "\n",
       "    .dataframe thead th {\n",
       "        text-align: right;\n",
       "    }\n",
       "</style>\n",
       "<table border=\"1\" class=\"dataframe\">\n",
       "  <thead>\n",
       "    <tr style=\"text-align: right;\">\n",
       "      <th></th>\n",
       "      <th>GAME_TIME_TOTAL</th>\n",
       "    </tr>\n",
       "  </thead>\n",
       "  <tbody>\n",
       "    <tr>\n",
       "      <th>0</th>\n",
       "      <td>651</td>\n",
       "    </tr>\n",
       "    <tr>\n",
       "      <th>1</th>\n",
       "      <td>706</td>\n",
       "    </tr>\n",
       "    <tr>\n",
       "      <th>3</th>\n",
       "      <td>733</td>\n",
       "    </tr>\n",
       "    <tr>\n",
       "      <th>4</th>\n",
       "      <td>806</td>\n",
       "    </tr>\n",
       "    <tr>\n",
       "      <th>5</th>\n",
       "      <td>945</td>\n",
       "    </tr>\n",
       "  </tbody>\n",
       "</table>\n",
       "</div>"
      ],
      "text/plain": [
       "   GAME_TIME_TOTAL\n",
       "0              651\n",
       "1              706\n",
       "3              733\n",
       "4              806\n",
       "5              945"
      ]
     },
     "execution_count": 112,
     "metadata": {},
     "output_type": "execute_result"
    }
   ],
   "source": [
    "\n",
    "#TODO mettre le game clock en temps complet prendre la periode (1,2,3,4) 1 quart temps = 12 min \n",
    "# additionne apres avec game_clock \n",
    "#drop ensuite period\n",
    "#a refaore \n",
    "\n",
    "# --- Convertir GAME_CLOCK en secondes ---\n",
    "def clock_to_seconds(clock_str):\n",
    "    \"\"\"Convertit une chaîne 'MM:SS' en secondes.\"\"\"\n",
    "    if isinstance(clock_str, str):\n",
    "        minutes, seconds = map(int, clock_str.split(':'))\n",
    "        return minutes * 60 + seconds\n",
    "    return None\n",
    "\n",
    "df['GAME_CLOCK_SEC'] = df['GAME_CLOCK'].apply(clock_to_seconds)\n",
    "\n",
    "# --- Calculer le temps absolu depuis le début du match ---\n",
    "# Chaque période dure 12 minutes = 720 secondes\n",
    "df['GAME_TIME_TOTAL'] = (df['PERIOD'] - 1) * 720 + (720 - df['GAME_CLOCK_SEC'])\n",
    "\n",
    "df[['GAME_TIME_TOTAL']].head()\n"
   ]
  },
  {
   "cell_type": "code",
   "execution_count": 113,
   "id": "8ece6416",
   "metadata": {},
   "outputs": [
    {
     "name": "stdout",
     "output_type": "stream",
     "text": [
      "GAME_TIME_TOTAL\n",
      "14      79\n",
      "1406    77\n",
      "1407    77\n",
      "1408    76\n",
      "1455    75\n",
      "        ..\n",
      "3389     1\n",
      "4879     1\n",
      "4096     1\n",
      "4170     1\n",
      "4896     1\n",
      "Name: count, Length: 3291, dtype: int64\n"
     ]
    }
   ],
   "source": [
    "print(df['GAME_TIME_TOTAL'].value_counts())"
   ]
  },
  {
   "cell_type": "code",
   "execution_count": null,
   "id": "03d7c046",
   "metadata": {},
   "outputs": [
    {
     "data": {
      "application/vnd.microsoft.datawrangler.viewer.v0+json": {
       "columns": [
        {
         "name": "index",
         "rawType": "int64",
         "type": "integer"
        },
        {
         "name": "LOCATION",
         "rawType": "int64",
         "type": "integer"
        },
        {
         "name": "FINAL_MARGIN",
         "rawType": "int64",
         "type": "integer"
        },
        {
         "name": "SHOT_NUMBER",
         "rawType": "int64",
         "type": "integer"
        },
        {
         "name": "PERIOD",
         "rawType": "int64",
         "type": "integer"
        },
        {
         "name": "GAME_CLOCK",
         "rawType": "object",
         "type": "string"
        },
        {
         "name": "SHOT_CLOCK",
         "rawType": "float64",
         "type": "float"
        },
        {
         "name": "DRIBBLES",
         "rawType": "int64",
         "type": "integer"
        },
        {
         "name": "TOUCH_TIME",
         "rawType": "float64",
         "type": "float"
        },
        {
         "name": "SHOT_DIST",
         "rawType": "float64",
         "type": "float"
        },
        {
         "name": "PTS_TYPE",
         "rawType": "int64",
         "type": "integer"
        },
        {
         "name": "SHOT_RESULT",
         "rawType": "int64",
         "type": "integer"
        },
        {
         "name": "CLOSE_DEF_DIST",
         "rawType": "float64",
         "type": "float"
        },
        {
         "name": "player_name",
         "rawType": "object",
         "type": "string"
        }
       ],
       "ref": "d44b4a57-c335-47ee-808f-e6ab2458a588",
       "rows": [
        [
         "0",
         "0",
         "24",
         "1",
         "1",
         "1:09",
         "10.8",
         "2",
         "1.9",
         "7.7",
         "2",
         "1",
         "1.3",
         "brian roberts"
        ],
        [
         "1",
         "0",
         "24",
         "2",
         "1",
         "0:14",
         "3.4",
         "0",
         "0.8",
         "28.2",
         "3",
         "0",
         "6.1",
         "brian roberts"
        ],
        [
         "3",
         "0",
         "24",
         "4",
         "2",
         "11:47",
         "10.3",
         "2",
         "1.9",
         "17.2",
         "2",
         "0",
         "3.4",
         "brian roberts"
        ],
        [
         "4",
         "0",
         "24",
         "5",
         "2",
         "10:34",
         "10.9",
         "2",
         "2.7",
         "3.7",
         "2",
         "0",
         "1.1",
         "brian roberts"
        ],
        [
         "5",
         "0",
         "24",
         "6",
         "2",
         "8:15",
         "9.1",
         "2",
         "4.4",
         "18.4",
         "2",
         "0",
         "2.6",
         "brian roberts"
        ]
       ],
       "shape": {
        "columns": 13,
        "rows": 5
       }
      },
      "text/html": [
       "<div>\n",
       "<style scoped>\n",
       "    .dataframe tbody tr th:only-of-type {\n",
       "        vertical-align: middle;\n",
       "    }\n",
       "\n",
       "    .dataframe tbody tr th {\n",
       "        vertical-align: top;\n",
       "    }\n",
       "\n",
       "    .dataframe thead th {\n",
       "        text-align: right;\n",
       "    }\n",
       "</style>\n",
       "<table border=\"1\" class=\"dataframe\">\n",
       "  <thead>\n",
       "    <tr style=\"text-align: right;\">\n",
       "      <th></th>\n",
       "      <th>LOCATION</th>\n",
       "      <th>FINAL_MARGIN</th>\n",
       "      <th>SHOT_NUMBER</th>\n",
       "      <th>PERIOD</th>\n",
       "      <th>GAME_CLOCK</th>\n",
       "      <th>SHOT_CLOCK</th>\n",
       "      <th>DRIBBLES</th>\n",
       "      <th>TOUCH_TIME</th>\n",
       "      <th>SHOT_DIST</th>\n",
       "      <th>PTS_TYPE</th>\n",
       "      <th>SHOT_RESULT</th>\n",
       "      <th>CLOSE_DEF_DIST</th>\n",
       "      <th>player_name</th>\n",
       "    </tr>\n",
       "  </thead>\n",
       "  <tbody>\n",
       "    <tr>\n",
       "      <th>0</th>\n",
       "      <td>0</td>\n",
       "      <td>24</td>\n",
       "      <td>1</td>\n",
       "      <td>1</td>\n",
       "      <td>1:09</td>\n",
       "      <td>10.8</td>\n",
       "      <td>2</td>\n",
       "      <td>1.9</td>\n",
       "      <td>7.7</td>\n",
       "      <td>2</td>\n",
       "      <td>1</td>\n",
       "      <td>1.3</td>\n",
       "      <td>brian roberts</td>\n",
       "    </tr>\n",
       "    <tr>\n",
       "      <th>1</th>\n",
       "      <td>0</td>\n",
       "      <td>24</td>\n",
       "      <td>2</td>\n",
       "      <td>1</td>\n",
       "      <td>0:14</td>\n",
       "      <td>3.4</td>\n",
       "      <td>0</td>\n",
       "      <td>0.8</td>\n",
       "      <td>28.2</td>\n",
       "      <td>3</td>\n",
       "      <td>0</td>\n",
       "      <td>6.1</td>\n",
       "      <td>brian roberts</td>\n",
       "    </tr>\n",
       "    <tr>\n",
       "      <th>3</th>\n",
       "      <td>0</td>\n",
       "      <td>24</td>\n",
       "      <td>4</td>\n",
       "      <td>2</td>\n",
       "      <td>11:47</td>\n",
       "      <td>10.3</td>\n",
       "      <td>2</td>\n",
       "      <td>1.9</td>\n",
       "      <td>17.2</td>\n",
       "      <td>2</td>\n",
       "      <td>0</td>\n",
       "      <td>3.4</td>\n",
       "      <td>brian roberts</td>\n",
       "    </tr>\n",
       "    <tr>\n",
       "      <th>4</th>\n",
       "      <td>0</td>\n",
       "      <td>24</td>\n",
       "      <td>5</td>\n",
       "      <td>2</td>\n",
       "      <td>10:34</td>\n",
       "      <td>10.9</td>\n",
       "      <td>2</td>\n",
       "      <td>2.7</td>\n",
       "      <td>3.7</td>\n",
       "      <td>2</td>\n",
       "      <td>0</td>\n",
       "      <td>1.1</td>\n",
       "      <td>brian roberts</td>\n",
       "    </tr>\n",
       "    <tr>\n",
       "      <th>5</th>\n",
       "      <td>0</td>\n",
       "      <td>24</td>\n",
       "      <td>6</td>\n",
       "      <td>2</td>\n",
       "      <td>8:15</td>\n",
       "      <td>9.1</td>\n",
       "      <td>2</td>\n",
       "      <td>4.4</td>\n",
       "      <td>18.4</td>\n",
       "      <td>2</td>\n",
       "      <td>0</td>\n",
       "      <td>2.6</td>\n",
       "      <td>brian roberts</td>\n",
       "    </tr>\n",
       "  </tbody>\n",
       "</table>\n",
       "</div>"
      ],
      "text/plain": [
       "   LOCATION  FINAL_MARGIN  SHOT_NUMBER  PERIOD GAME_CLOCK  SHOT_CLOCK  \\\n",
       "0         0            24            1       1       1:09        10.8   \n",
       "1         0            24            2       1       0:14         3.4   \n",
       "3         0            24            4       2      11:47        10.3   \n",
       "4         0            24            5       2      10:34        10.9   \n",
       "5         0            24            6       2       8:15         9.1   \n",
       "\n",
       "   DRIBBLES  TOUCH_TIME  SHOT_DIST  PTS_TYPE  SHOT_RESULT  CLOSE_DEF_DIST  \\\n",
       "0         2         1.9        7.7         2            1             1.3   \n",
       "1         0         0.8       28.2         3            0             6.1   \n",
       "3         2         1.9       17.2         2            0             3.4   \n",
       "4         2         2.7        3.7         2            0             1.1   \n",
       "5         2         4.4       18.4         2            0             2.6   \n",
       "\n",
       "     player_name  \n",
       "0  brian roberts  \n",
       "1  brian roberts  \n",
       "3  brian roberts  \n",
       "4  brian roberts  \n",
       "5  brian roberts  "
      ]
     },
     "execution_count": 91,
     "metadata": {},
     "output_type": "execute_result"
    }
   ],
   "source": [
    "#on one hot code les collonnes interresantes et drop le non intéressantes \n",
    "df['SHOT_RESULT'] = df['SHOT_RESULT'].map({'made': 1, 'missed': 0})\n",
    "df['LOCATION'] = df['LOCATION'].map({'H': 1, 'A': 0}) #home = 1 et away = 0\n",
    "\n",
    "df = df.drop([\n",
    "    'MATCHUP',\n",
    "    'W',\n",
    "    'GAME_ID',\n",
    "    'CLOSEST_DEFENDER',\n",
    "    'CLOSEST_DEFENDER_PLAYER_ID',\n",
    "    'FGM',\n",
    "    'PTS',\n",
    "    'player_id',\n",
    "    'PERIOD', \n",
    "    'GAME_CLOCK',\n",
    "    'GAME_CLOCK_SEC'\n",
    "], axis=1)\n",
    "\n",
    "df.head()"
   ]
  },
  {
   "cell_type": "code",
   "execution_count": 92,
   "id": "4a91b366",
   "metadata": {},
   "outputs": [],
   "source": [
    "from sklearn.preprocessing import StandardScaler\n",
    "\n",
    "features = ['SHOT_CLOCK', 'DRIBBLES', 'TOUCH_TIME', 'SHOT_DIST', 'CLOSE_DEF_DIST', 'PERIOD', 'PTS_TYPE', 'LOCATION']\n",
    "scaler = StandardScaler()\n",
    "df[features] = scaler.fit_transform(df[features])\n"
   ]
  },
  {
   "cell_type": "code",
   "execution_count": 93,
   "id": "79a7a76f",
   "metadata": {},
   "outputs": [
    {
     "name": "stdout",
     "output_type": "stream",
     "text": [
      "player_name\n",
      "lamarcus aldridge    1010\n",
      "james harden         1006\n",
      "mnta ellis           1004\n",
      "klay thompson         953\n",
      "lebron james          947\n",
      "                     ... \n",
      "mike miller            94\n",
      "joey dorsey            88\n",
      "alan crabbe            87\n",
      "jerome jordan          80\n",
      "greg smith             46\n",
      "Name: count, Length: 281, dtype: int64\n"
     ]
    }
   ],
   "source": [
    "print(df['player_name'].value_counts())"
   ]
  },
  {
   "cell_type": "code",
   "execution_count": 94,
   "id": "2f075f3b",
   "metadata": {},
   "outputs": [
    {
     "data": {
      "text/plain": [
       "np.int64(941)"
      ]
     },
     "execution_count": 94,
     "metadata": {},
     "output_type": "execute_result"
    }
   ],
   "source": [
    "df['player_name'].value_counts()['stephen curry']"
   ]
  },
  {
   "cell_type": "code",
   "execution_count": 95,
   "id": "d5968cb7",
   "metadata": {},
   "outputs": [
    {
     "data": {
      "application/vnd.microsoft.datawrangler.viewer.v0+json": {
       "columns": [
        {
         "name": "index",
         "rawType": "object",
         "type": "string"
        },
        {
         "name": "LOCATION",
         "rawType": "float64",
         "type": "float"
        },
        {
         "name": "FINAL_MARGIN",
         "rawType": "float64",
         "type": "float"
        },
        {
         "name": "SHOT_NUMBER",
         "rawType": "float64",
         "type": "float"
        },
        {
         "name": "PERIOD",
         "rawType": "float64",
         "type": "float"
        },
        {
         "name": "SHOT_CLOCK",
         "rawType": "float64",
         "type": "float"
        },
        {
         "name": "DRIBBLES",
         "rawType": "float64",
         "type": "float"
        },
        {
         "name": "TOUCH_TIME",
         "rawType": "float64",
         "type": "float"
        },
        {
         "name": "SHOT_DIST",
         "rawType": "float64",
         "type": "float"
        },
        {
         "name": "PTS_TYPE",
         "rawType": "float64",
         "type": "float"
        },
        {
         "name": "SHOT_RESULT",
         "rawType": "float64",
         "type": "float"
        },
        {
         "name": "CLOSE_DEF_DIST",
         "rawType": "float64",
         "type": "float"
        }
       ],
       "ref": "22823b1b-4632-48a6-b235-1f612b7a6746",
       "rows": [
        [
         "count",
         "122502.0",
         "122502.0",
         "122502.0",
         "122502.0",
         "122502.0",
         "122502.0",
         "122502.0",
         "122502.0",
         "122502.0",
         "122502.0",
         "122502.0"
        ],
        [
         "mean",
         "-2.0045678395347883e-16",
         "0.252395879250951",
         "6.476163654470947",
         "6.009063315272108e-17",
         "-4.640203332256454e-16",
         "3.06253419928926e-17",
         "-1.0162045297641635e-16",
         "-4.547399265611325e-16",
         "-3.6750410391471116e-16",
         "0.4561558178641981",
         "1.6797536062768365e-16"
        ],
        [
         "std",
         "1.000004081591004",
         "13.311417832750926",
         "4.681245241463738",
         "1.0000040815910043",
         "1.000004081591004",
         "1.0000040815910043",
         "1.000004081591004",
         "1.0000040815910043",
         "1.000004081591004",
         "0.49807601106687754",
         "1.000004081591004"
        ],
        [
         "min",
         "-0.9989556644182024",
         "-53.0",
         "1.0",
         "-1.2931386456770324",
         "-2.1608228015387487",
         "-0.5831519082218621",
         "-34.91388621144632",
         "-1.5316895403922275",
         "-0.590227731973915",
         "0.0",
         "-1.497943754461392"
        ],
        [
         "25%",
         "-0.9989556644182024",
         "-8.0",
         "3.0",
         "-1.2931386456770324",
         "-0.7380123889395563",
         "-0.5831519082218621",
         "-0.6249787354657643",
         "-0.9962037762412252",
         "-0.590227731973915",
         "0.0",
         "-0.6620590918656877"
        ],
        [
         "50%",
         "-0.9989556644182024",
         "1.0",
         "5.0",
         "-0.4143214613795453",
         "-0.0266071826399598",
         "-0.28999773352504227",
         "-0.38827030121343303",
         "-0.004985446855327536",
         "-0.590227731973915",
         "0.0",
         "-0.15325973202482407"
        ],
        [
         "75%",
         "1.0010454273587863",
         "9.0",
         "9.0",
         "0.4644957229179417",
         "0.7325142265211946",
         "0.003156441171777671",
         "0.3218550015435606",
         "1.0204128249231872",
         "1.6942612924263531",
         "1.0",
         "0.42822525065044836"
        ],
        [
         "max",
         "1.0010454273587863",
         "53.0",
         "37.0",
         "3.97976446010789",
         "2.0035003572881562",
         "8.797781682076376",
         "7.490739010328448",
         "3.424402106537261",
         "1.6942612924263531",
         "1.0",
         "17.83643191949142"
        ]
       ],
       "shape": {
        "columns": 11,
        "rows": 8
       }
      },
      "text/html": [
       "<div>\n",
       "<style scoped>\n",
       "    .dataframe tbody tr th:only-of-type {\n",
       "        vertical-align: middle;\n",
       "    }\n",
       "\n",
       "    .dataframe tbody tr th {\n",
       "        vertical-align: top;\n",
       "    }\n",
       "\n",
       "    .dataframe thead th {\n",
       "        text-align: right;\n",
       "    }\n",
       "</style>\n",
       "<table border=\"1\" class=\"dataframe\">\n",
       "  <thead>\n",
       "    <tr style=\"text-align: right;\">\n",
       "      <th></th>\n",
       "      <th>LOCATION</th>\n",
       "      <th>FINAL_MARGIN</th>\n",
       "      <th>SHOT_NUMBER</th>\n",
       "      <th>PERIOD</th>\n",
       "      <th>SHOT_CLOCK</th>\n",
       "      <th>DRIBBLES</th>\n",
       "      <th>TOUCH_TIME</th>\n",
       "      <th>SHOT_DIST</th>\n",
       "      <th>PTS_TYPE</th>\n",
       "      <th>SHOT_RESULT</th>\n",
       "      <th>CLOSE_DEF_DIST</th>\n",
       "    </tr>\n",
       "  </thead>\n",
       "  <tbody>\n",
       "    <tr>\n",
       "      <th>count</th>\n",
       "      <td>1.225020e+05</td>\n",
       "      <td>122502.000000</td>\n",
       "      <td>122502.000000</td>\n",
       "      <td>1.225020e+05</td>\n",
       "      <td>1.225020e+05</td>\n",
       "      <td>1.225020e+05</td>\n",
       "      <td>1.225020e+05</td>\n",
       "      <td>1.225020e+05</td>\n",
       "      <td>1.225020e+05</td>\n",
       "      <td>122502.000000</td>\n",
       "      <td>1.225020e+05</td>\n",
       "    </tr>\n",
       "    <tr>\n",
       "      <th>mean</th>\n",
       "      <td>-2.004568e-16</td>\n",
       "      <td>0.252396</td>\n",
       "      <td>6.476164</td>\n",
       "      <td>6.009063e-17</td>\n",
       "      <td>-4.640203e-16</td>\n",
       "      <td>3.062534e-17</td>\n",
       "      <td>-1.016205e-16</td>\n",
       "      <td>-4.547399e-16</td>\n",
       "      <td>-3.675041e-16</td>\n",
       "      <td>0.456156</td>\n",
       "      <td>1.679754e-16</td>\n",
       "    </tr>\n",
       "    <tr>\n",
       "      <th>std</th>\n",
       "      <td>1.000004e+00</td>\n",
       "      <td>13.311418</td>\n",
       "      <td>4.681245</td>\n",
       "      <td>1.000004e+00</td>\n",
       "      <td>1.000004e+00</td>\n",
       "      <td>1.000004e+00</td>\n",
       "      <td>1.000004e+00</td>\n",
       "      <td>1.000004e+00</td>\n",
       "      <td>1.000004e+00</td>\n",
       "      <td>0.498076</td>\n",
       "      <td>1.000004e+00</td>\n",
       "    </tr>\n",
       "    <tr>\n",
       "      <th>min</th>\n",
       "      <td>-9.989557e-01</td>\n",
       "      <td>-53.000000</td>\n",
       "      <td>1.000000</td>\n",
       "      <td>-1.293139e+00</td>\n",
       "      <td>-2.160823e+00</td>\n",
       "      <td>-5.831519e-01</td>\n",
       "      <td>-3.491389e+01</td>\n",
       "      <td>-1.531690e+00</td>\n",
       "      <td>-5.902277e-01</td>\n",
       "      <td>0.000000</td>\n",
       "      <td>-1.497944e+00</td>\n",
       "    </tr>\n",
       "    <tr>\n",
       "      <th>25%</th>\n",
       "      <td>-9.989557e-01</td>\n",
       "      <td>-8.000000</td>\n",
       "      <td>3.000000</td>\n",
       "      <td>-1.293139e+00</td>\n",
       "      <td>-7.380124e-01</td>\n",
       "      <td>-5.831519e-01</td>\n",
       "      <td>-6.249787e-01</td>\n",
       "      <td>-9.962038e-01</td>\n",
       "      <td>-5.902277e-01</td>\n",
       "      <td>0.000000</td>\n",
       "      <td>-6.620591e-01</td>\n",
       "    </tr>\n",
       "    <tr>\n",
       "      <th>50%</th>\n",
       "      <td>-9.989557e-01</td>\n",
       "      <td>1.000000</td>\n",
       "      <td>5.000000</td>\n",
       "      <td>-4.143215e-01</td>\n",
       "      <td>-2.660718e-02</td>\n",
       "      <td>-2.899977e-01</td>\n",
       "      <td>-3.882703e-01</td>\n",
       "      <td>-4.985447e-03</td>\n",
       "      <td>-5.902277e-01</td>\n",
       "      <td>0.000000</td>\n",
       "      <td>-1.532597e-01</td>\n",
       "    </tr>\n",
       "    <tr>\n",
       "      <th>75%</th>\n",
       "      <td>1.001045e+00</td>\n",
       "      <td>9.000000</td>\n",
       "      <td>9.000000</td>\n",
       "      <td>4.644957e-01</td>\n",
       "      <td>7.325142e-01</td>\n",
       "      <td>3.156441e-03</td>\n",
       "      <td>3.218550e-01</td>\n",
       "      <td>1.020413e+00</td>\n",
       "      <td>1.694261e+00</td>\n",
       "      <td>1.000000</td>\n",
       "      <td>4.282253e-01</td>\n",
       "    </tr>\n",
       "    <tr>\n",
       "      <th>max</th>\n",
       "      <td>1.001045e+00</td>\n",
       "      <td>53.000000</td>\n",
       "      <td>37.000000</td>\n",
       "      <td>3.979764e+00</td>\n",
       "      <td>2.003500e+00</td>\n",
       "      <td>8.797782e+00</td>\n",
       "      <td>7.490739e+00</td>\n",
       "      <td>3.424402e+00</td>\n",
       "      <td>1.694261e+00</td>\n",
       "      <td>1.000000</td>\n",
       "      <td>1.783643e+01</td>\n",
       "    </tr>\n",
       "  </tbody>\n",
       "</table>\n",
       "</div>"
      ],
      "text/plain": [
       "           LOCATION   FINAL_MARGIN    SHOT_NUMBER        PERIOD    SHOT_CLOCK  \\\n",
       "count  1.225020e+05  122502.000000  122502.000000  1.225020e+05  1.225020e+05   \n",
       "mean  -2.004568e-16       0.252396       6.476164  6.009063e-17 -4.640203e-16   \n",
       "std    1.000004e+00      13.311418       4.681245  1.000004e+00  1.000004e+00   \n",
       "min   -9.989557e-01     -53.000000       1.000000 -1.293139e+00 -2.160823e+00   \n",
       "25%   -9.989557e-01      -8.000000       3.000000 -1.293139e+00 -7.380124e-01   \n",
       "50%   -9.989557e-01       1.000000       5.000000 -4.143215e-01 -2.660718e-02   \n",
       "75%    1.001045e+00       9.000000       9.000000  4.644957e-01  7.325142e-01   \n",
       "max    1.001045e+00      53.000000      37.000000  3.979764e+00  2.003500e+00   \n",
       "\n",
       "           DRIBBLES    TOUCH_TIME     SHOT_DIST      PTS_TYPE    SHOT_RESULT  \\\n",
       "count  1.225020e+05  1.225020e+05  1.225020e+05  1.225020e+05  122502.000000   \n",
       "mean   3.062534e-17 -1.016205e-16 -4.547399e-16 -3.675041e-16       0.456156   \n",
       "std    1.000004e+00  1.000004e+00  1.000004e+00  1.000004e+00       0.498076   \n",
       "min   -5.831519e-01 -3.491389e+01 -1.531690e+00 -5.902277e-01       0.000000   \n",
       "25%   -5.831519e-01 -6.249787e-01 -9.962038e-01 -5.902277e-01       0.000000   \n",
       "50%   -2.899977e-01 -3.882703e-01 -4.985447e-03 -5.902277e-01       0.000000   \n",
       "75%    3.156441e-03  3.218550e-01  1.020413e+00  1.694261e+00       1.000000   \n",
       "max    8.797782e+00  7.490739e+00  3.424402e+00  1.694261e+00       1.000000   \n",
       "\n",
       "       CLOSE_DEF_DIST  \n",
       "count    1.225020e+05  \n",
       "mean     1.679754e-16  \n",
       "std      1.000004e+00  \n",
       "min     -1.497944e+00  \n",
       "25%     -6.620591e-01  \n",
       "50%     -1.532597e-01  \n",
       "75%      4.282253e-01  \n",
       "max      1.783643e+01  "
      ]
     },
     "execution_count": 95,
     "metadata": {},
     "output_type": "execute_result"
    }
   ],
   "source": [
    "df.describe()\n"
   ]
  },
  {
   "cell_type": "code",
   "execution_count": 96,
   "id": "8e0ae4d1",
   "metadata": {},
   "outputs": [],
   "source": [
    "# Dataset pour LeBron James\n",
    "df_lebron = df[df['player_name'] == 'lebron james']\n",
    "\n",
    "# Dataset pour Stephen Curry\n",
    "df_curry = df[df['player_name'] == 'stephen curry']"
   ]
  },
  {
   "cell_type": "code",
   "execution_count": 97,
   "id": "2516b98a",
   "metadata": {},
   "outputs": [
    {
     "data": {
      "application/vnd.microsoft.datawrangler.viewer.v0+json": {
       "columns": [
        {
         "name": "index",
         "rawType": "int64",
         "type": "integer"
        },
        {
         "name": "LOCATION",
         "rawType": "float64",
         "type": "float"
        },
        {
         "name": "FINAL_MARGIN",
         "rawType": "int64",
         "type": "integer"
        },
        {
         "name": "SHOT_NUMBER",
         "rawType": "int64",
         "type": "integer"
        },
        {
         "name": "PERIOD",
         "rawType": "float64",
         "type": "float"
        },
        {
         "name": "GAME_CLOCK",
         "rawType": "object",
         "type": "string"
        },
        {
         "name": "SHOT_CLOCK",
         "rawType": "float64",
         "type": "float"
        },
        {
         "name": "DRIBBLES",
         "rawType": "float64",
         "type": "float"
        },
        {
         "name": "TOUCH_TIME",
         "rawType": "float64",
         "type": "float"
        },
        {
         "name": "SHOT_DIST",
         "rawType": "float64",
         "type": "float"
        },
        {
         "name": "PTS_TYPE",
         "rawType": "float64",
         "type": "float"
        },
        {
         "name": "SHOT_RESULT",
         "rawType": "int64",
         "type": "integer"
        },
        {
         "name": "CLOSE_DEF_DIST",
         "rawType": "float64",
         "type": "float"
        },
        {
         "name": "player_name",
         "rawType": "object",
         "type": "string"
        }
       ],
       "ref": "37adb48a-7304-4c07-adbb-cfdeb5a3cb9a",
       "rows": [
        [
         "45834",
         "-0.9989556644182024",
         "8",
         "1",
         "-1.2931386456770324",
         "9:09",
         "0.21631166829160942",
         "2.055235664049517",
         "2.283153456777162",
         "-0.7341575512311604",
         "-0.590227731973915",
         "0",
         "-1.2072012631237556",
         "lebron james"
        ],
        [
         "45835",
         "-0.9989556644182024",
         "8",
         "2",
         "-1.2931386456770324",
         "6:08",
         "0.47658186571829103",
         "1.762081489352697",
         "1.7421056070575478",
         "-0.9164505773251186",
         "-0.590227731973915",
         "0",
         "-0.5893734690312785",
         "lebron james"
        ],
        [
         "45836",
         "-0.9989556644182024",
         "8",
         "3",
         "-1.2931386456770324",
         "4:38",
         "-0.0266071826399598",
         "-0.5831519082218621",
         "0.9643493230856023",
         "1.1115593379701663",
         "1.6942612924263531",
         "1",
         "-0.22594535485923323",
         "lebron james"
        ],
        [
         "45838",
         "-0.9989556644182024",
         "8",
         "5",
         "-0.4143214613795453",
         "10:17",
         "1.4482572694445692",
         "0.003156441171777671",
         "-0.01629990453119827",
         "-1.1784968023351836",
         "-0.590227731973915",
         "1",
         "-0.22594535485923323",
         "lebron james"
        ],
        [
         "45839",
         "-0.9989556644182024",
         "8",
         "6",
         "-0.4143214613795453",
         "6:14",
         "0.650095330669412",
         "1.4689273146558772",
         "1.8773675694874516",
         "-0.8822706349325015",
         "-0.590227731973915",
         "0",
         "-1.4252581316269828",
         "lebron james"
        ],
        [
         "45840",
         "-0.9989556644182024",
         "8",
         "7",
         "-0.4143214613795453",
         "6:14",
         "0.5633385981938516",
         "-0.5831519082218621",
         "-0.9293181509330473",
         "-1.2012834305969282",
         "-0.590227731973915",
         "1",
         "-1.0254872060377331",
         "lebron james"
        ],
        [
         "45841",
         "-0.9989556644182024",
         "8",
         "8",
         "0.4644957229179417",
         "7:54",
         "0.33777109375739434",
         "-0.5831519082218621",
         "1.4377661915902649",
         "1.1115593379701663",
         "1.6942612924263531",
         "0",
         "-0.553030657614074",
         "lebron james"
        ],
        [
         "45842",
         "-0.9989556644182024",
         "8",
         "9",
         "0.4644957229179417",
         "2:02",
         "1.5350140019201297",
         "-0.5831519082218621",
         "-0.5911632448582884",
         "1.191312536886273",
         "1.6942612924263531",
         "0",
         "1.2277671018289482",
         "lebron james"
        ],
        [
         "45843",
         "-0.9989556644182024",
         "8",
         "10",
         "0.4644957229179417",
         "1:32",
         "-1.9179039506071793",
         "-0.28999773352504227",
         "-0.05011539513867418",
         "0.22288083576212023",
         "-0.590227731973915",
         "1",
         "0.21016838214722128",
         "lebron james"
        ],
        [
         "45845",
         "-0.9989556644182024",
         "8",
         "12",
         "1.3433129072154288",
         "6:41",
         "-0.09601256862040829",
         "1.762081489352697",
         "1.708290116450072",
         "-0.9278438914559911",
         "-0.590227731973915",
         "0",
         "-0.5893734690312785",
         "lebron james"
        ],
        [
         "45846",
         "-0.9989556644182024",
         "8",
         "13",
         "1.3433129072154288",
         "5:55",
         "-0.5818502704835473",
         "0.5894647905654175",
         "0.017515586076277498",
         "-1.1557101740734388",
         "-0.590227731973915",
         "1",
         "0.6462821191536757",
         "lebron james"
        ],
        [
         "45847",
         "-0.9989556644182024",
         "8",
         "14",
         "1.3433129072154288",
         "4:10",
         "-1.8137958716365068",
         "-0.5831519082218621",
         "0.5247479451884158",
         "1.4191788195037207",
         "1.6942612924263531",
         "1",
         "0.028454325061198594",
         "lebron james"
        ],
        [
         "45848",
         "-0.9989556644182024",
         "8",
         "15",
         "1.3433129072154288",
         "3:29",
         "-1.6576337531804977",
         "-0.5831519082218621",
         "-0.4559012824283849",
         "1.5217186466815724",
         "1.6942612924263531",
         "1",
         "-0.15325973202482407",
         "lebron james"
        ],
        [
         "45849",
         "-0.9989556644182024",
         "8",
         "16",
         "1.3433129072154288",
         "0:56",
         "-1.9005526041120673",
         "5.866239935108176",
         "6.40864331088922",
         "-1.2354633729895454",
         "-0.590227731973915",
         "1",
         "0.028454325061198594",
         "lebron james"
        ],
        [
         "45850",
         "1.0010454273587863",
         "31",
         "1",
         "-1.2931386456770324",
         "11:09",
         "-0.32158007305686576",
         "4.107314886927257",
         "3.906297005936005",
         "0.15452095097688592",
         "-0.590227731973915",
         "1",
         "0.24651119356442566",
         "lebron james"
        ],
        [
         "45851",
         "1.0010454273587863",
         "31",
         "2",
         "-1.2931386456770324",
         "9:57",
         "-0.7380123889395563",
         "0.003156441171777671",
         "0.7276408888332713",
         "0.7241866575205054",
         "-0.590227731973915",
         "0",
         "-0.29863097769364233",
         "lebron james"
        ],
        [
         "45852",
         "1.0010454273587863",
         "31",
         "3",
         "-1.2931386456770324",
         "7:54",
         "1.2573924579983358",
         "2.055235664049517",
         "1.3363197197678371",
         "-1.041777032764715",
         "-0.590227731973915",
         "1",
         "-1.497943754461392",
         "lebron james"
        ],
        [
         "45853",
         "1.0010454273587863",
         "31",
         "4",
         "-1.2931386456770324",
         "5:17",
         "-0.39098545903731424",
         "1.762081489352697",
         "2.4860464004220173",
         "0.3937805477252058",
         "-0.590227731973915",
         "1",
         "0.17382557073001653",
         "lebron james"
        ],
        [
         "45854",
         "1.0010454273587863",
         "31",
         "5",
         "-1.2931386456770324",
         "2:02",
         "-1.6576337531804977",
         "3.2278523628367966",
         "2.925647778319204",
         "1.0431994531849322",
         "-0.590227731973915",
         "0",
         "0.21016838214722128",
         "lebron james"
        ],
        [
         "45855",
         "1.0010454273587863",
         "31",
         "6",
         "-1.2931386456770324",
         "1:55",
         "1.3441491904738962",
         "0.2963106158685976",
         "-0.0839308857461501",
         "-0.3581781849123715",
         "-0.590227731973915",
         "1",
         "-0.3713166005280513",
         "lebron james"
        ],
        [
         "45856",
         "1.0010454273587863",
         "31",
         "7",
         "-1.2931386456770324",
         "1:13",
         "-0.16541795460085676",
         "3.2278523628367966",
         "3.0270942501416314",
         "-1.2012834305969282",
         "-0.590227731973915",
         "1",
         "-0.33497378911084674",
         "lebron james"
        ],
        [
         "45857",
         "1.0010454273587863",
         "31",
         "8",
         "-1.2931386456770324",
         "0:19",
         "-0.49509353800798683",
         "3.5210065375336166",
         "3.8724815153285284",
         "-0.6316177240533088",
         "-0.590227731973915",
         "0",
         "-0.3713166005280513",
         "lebron james"
        ],
        [
         "45858",
         "1.0010454273587863",
         "31",
         "9",
         "-0.4143214613795453",
         "11:41",
         "-1.3453095162684798",
         "0.2963106158685976",
         "2.4860464004220173",
         "0.952052940137953",
         "-0.590227731973915",
         "1",
         "0.028454325061198594",
         "lebron james"
        ],
        [
         "45859",
         "1.0010454273587863",
         "31",
         "10",
         "-0.4143214613795453",
         "10:55",
         "-1.3279581697733678",
         "4.693623236320897",
         "5.123654667805136",
         "-0.9848104621103531",
         "-0.590227731973915",
         "0",
         "-1.497943754461392",
         "lebron james"
        ],
        [
         "45860",
         "1.0010454273587863",
         "31",
         "11",
         "-0.4143214613795453",
         "10:54",
         "-1.4320662487440403",
         "-0.5831519082218621",
         "-0.9293181509330473",
         "-1.0759569751573321",
         "-0.590227731973915",
         "0",
         "-1.497943754461392",
         "lebron james"
        ],
        [
         "45861",
         "1.0010454273587863",
         "31",
         "12",
         "-0.4143214613795453",
         "10:04",
         "1.6217707343956902",
         "-0.28999773352504227",
         "-0.1853773575685777",
         "-1.132923545811694",
         "-0.590227731973915",
         "1",
         "-1.24354407454096",
         "lebron james"
        ],
        [
         "45862",
         "1.0010454273587863",
         "31",
         "13",
         "-0.4143214613795453",
         "9:41",
         "-0.009255836144847757",
         "0.003156441171777671",
         "-0.1853773575685777",
         "0.74697328578225",
         "-0.590227731973915",
         "0",
         "0.3555396278160392",
         "lebron james"
        ],
        [
         "45863",
         "1.0010454273587863",
         "31",
         "14",
         "-0.4143214613795453",
         "1:57",
         "0.7021493701547485",
         "1.762081489352697",
         "1.5053971728052167",
         "-0.8822706349325015",
         "-0.590227731973915",
         "1",
         "-1.497943754461392",
         "lebron james"
        ],
        [
         "45864",
         "1.0010454273587863",
         "31",
         "15",
         "-0.4143214613795453",
         "0:34",
         "1.4829599624347933",
         "0.5894647905654175",
         "0.22040852972113284",
         "-1.2924299436439075",
         "-0.590227731973915",
         "1",
         "1.7002236502526074",
         "lebron james"
        ],
        [
         "45866",
         "1.0010454273587863",
         "31",
         "17",
         "0.4644957229179417",
         "11:18",
         "1.0491763000569907",
         "1.1757731399590572",
         "0.5585634357958918",
         "-0.31260492838888215",
         "-0.590227731973915",
         "0",
         "-0.33497378911084674",
         "lebron james"
        ],
        [
         "45867",
         "1.0010454273587863",
         "31",
         "18",
         "0.4644957229179417",
         "10:47",
         "-1.4494175952391526",
         "0.003156441171777671",
         "1.099611285515506",
         "-1.2924299436439075",
         "-0.590227731973915",
         "1",
         "-1.1345156402893466",
         "lebron james"
        ],
        [
         "45868",
         "1.0010454273587863",
         "31",
         "19",
         "0.4644957229179417",
         "7:51",
         "1.3962032299592326",
         "-0.28999773352504227",
         "-0.48971677303586075",
         "-0.8936639490633739",
         "-0.590227731973915",
         "1",
         "-0.6257162804484832",
         "lebron james"
        ],
        [
         "45869",
         "1.0010454273587863",
         "31",
         "20",
         "0.4644957229179417",
         "7:24",
         "1.066527646552103",
         "-0.5831519082218621",
         "-0.5911632448582884",
         "-1.394969770821759",
         "-0.590227731973915",
         "0",
         "0.937024610491312",
         "lebron james"
        ],
        [
         "45870",
         "1.0010454273587863",
         "31",
         "21",
         "0.4644957229179417",
         "6:02",
         "-1.9526066435974037",
         "0.5894647905654175",
         "0.7952718700482229",
         "0.6216468303426536",
         "-0.590227731973915",
         "1",
         "0.2828540049816304",
         "lebron james"
        ],
        [
         "45871",
         "1.0010454273587863",
         "31",
         "22",
         "0.4644957229179417",
         "5:31",
         "0.33777109375739434",
         "2.055235664049517",
         "2.2155224755622105",
         "-0.870877320801629",
         "-0.590227731973915",
         "0",
         "-1.0254872060377331",
         "lebron james"
        ],
        [
         "45872",
         "1.0010454273587863",
         "31",
         "23",
         "0.4644957229179417",
         "5:12",
         "-0.7727150819297804",
         "0.5894647905654175",
         "2.5874928722444452",
         "0.359600605332589",
         "-0.590227731973915",
         "0",
         "0.064797136478403",
         "lebron james"
        ],
        [
         "45873",
         "-0.9989556644182024",
         "-2",
         "1",
         "-1.2931386456770324",
         "11:32",
         "-0.9809312398711257",
         "0.2963106158685976",
         "0.38948598275851226",
         "-1.224070058858673",
         "-0.590227731973915",
         "1",
         "-1.098172828872142",
         "lebron james"
        ],
        [
         "45874",
         "-0.9989556644182024",
         "-2",
         "2",
         "-1.2931386456770324",
         "9:31",
         "-1.1544447048222468",
         "0.2963106158685976",
         "0.35567049215103635",
         "-0.4721113262210954",
         "-0.590227731973915",
         "0",
         "-0.33497378911084674",
         "lebron james"
        ],
        [
         "45875",
         "-0.9989556644182024",
         "-2",
         "3",
         "-1.2931386456770324",
         "7:25",
         "-0.876823160900453",
         "2.348389838746337",
         "2.824201306496776",
         "-1.041777032764715",
         "-0.590227731973915",
         "1",
         "-0.7710875261173012",
         "lebron james"
        ],
        [
         "45876",
         "-0.9989556644182024",
         "-2",
         "4",
         "-1.2931386456770324",
         "1:50",
         "1.7432301598614748",
         "-0.28999773352504227",
         "-0.2868238293910055",
         "-0.870877320801629",
         "-0.590227731973915",
         "1",
         "-0.5893734690312785",
         "lebron james"
        ],
        [
         "45877",
         "-0.9989556644182024",
         "-2",
         "5",
         "-1.2931386456770324",
         "0:30",
         "-1.3800122092587042",
         "4.693623236320897",
         "5.5294405550948476",
         "1.3280323064567419",
         "1.6942612924263531",
         "0",
         "0.21016838214722128",
         "lebron james"
        ],
        [
         "45878",
         "-0.9989556644182024",
         "-2",
         "6",
         "-0.4143214613795453",
         "11:44",
         "-0.8247691214151167",
         "-0.5831519082218621",
         "-0.01629990453119827",
         "1.4305721336345933",
         "1.6942612924263531",
         "1",
         "0.5735964963192666",
         "lebron james"
        ],
        [
         "45879",
         "-0.9989556644182024",
         "-2",
         "7",
         "-0.4143214613795453",
         "11:03",
         "-0.9635798933760136",
         "-0.28999773352504227",
         "1.7421056070575478",
         "-1.0645636610264597",
         "-0.590227731973915",
         "1",
         "-0.7347447147000967",
         "lebron james"
        ],
        [
         "45880",
         "-0.9989556644182024",
         "-2",
         "8",
         "-0.4143214613795453",
         "10:26",
         "-0.25217468707641727",
         "-0.5831519082218621",
         "0.4233014733659882",
         "1.6470451021211685",
         "1.6942612924263531",
         "0",
         "1.1914242904117438",
         "lebron james"
        ],
        [
         "45881",
         "-0.9989556644182024",
         "-2",
         "9",
         "-0.4143214613795453",
         "8:33",
         "1.5350140019201297",
         "-0.5831519082218621",
         "-0.1853773575685777",
         "-0.6544043523150537",
         "-0.590227731973915",
         "1",
         "4.280563260874129",
         "lebron james"
        ],
        [
         "45882",
         "-0.9989556644182024",
         "-2",
         "10",
         "-0.4143214613795453",
         "8:07",
         "0.21631166829160942",
         "-0.5831519082218621",
         "-0.15156186696110194",
         "-0.07334533164056183",
         "-0.590227731973915",
         "0",
         "-0.6257162804484832",
         "lebron james"
        ],
        [
         "45883",
         "-0.9989556644182024",
         "-2",
         "11",
         "-0.4143214613795453",
         "7:07",
         "-0.5992016169786594",
         "2.9346981881399765",
         "3.263802684393963",
         "-0.17588515881841335",
         "-0.590227731973915",
         "1",
         "0.028454325061198594",
         "lebron james"
        ],
        [
         "45884",
         "-0.9989556644182024",
         "-2",
         "12",
         "-0.4143214613795453",
         "2:10",
         "0.37247378674761844",
         "0.2963106158685976",
         "0.5247479451884158",
         "-1.2468566871204179",
         "-0.590227731973915",
         "0",
         "-1.3889153202097784",
         "lebron james"
        ],
        [
         "45885",
         "-0.9989556644182024",
         "-2",
         "13",
         "-0.4143214613795453",
         "1:45",
         "-1.2932554767831437",
         "-0.5831519082218621",
         "-0.1853773575685777",
         "-0.6885842947076708",
         "-0.590227731973915",
         "0",
         "-0.8437731489517104",
         "lebron james"
        ],
        [
         "45886",
         "-0.9989556644182024",
         "-2",
         "14",
         "-0.4143214613795453",
         "0:45",
         "-0.547147577493323",
         "3.2278523628367966",
         "4.075374458973384",
         "-1.2582500012512903",
         "-0.590227731973915",
         "0",
         "-0.22594535485923323",
         "lebron james"
        ]
       ],
       "shape": {
        "columns": 13,
        "rows": 947
       }
      },
      "text/html": [
       "<div>\n",
       "<style scoped>\n",
       "    .dataframe tbody tr th:only-of-type {\n",
       "        vertical-align: middle;\n",
       "    }\n",
       "\n",
       "    .dataframe tbody tr th {\n",
       "        vertical-align: top;\n",
       "    }\n",
       "\n",
       "    .dataframe thead th {\n",
       "        text-align: right;\n",
       "    }\n",
       "</style>\n",
       "<table border=\"1\" class=\"dataframe\">\n",
       "  <thead>\n",
       "    <tr style=\"text-align: right;\">\n",
       "      <th></th>\n",
       "      <th>LOCATION</th>\n",
       "      <th>FINAL_MARGIN</th>\n",
       "      <th>SHOT_NUMBER</th>\n",
       "      <th>PERIOD</th>\n",
       "      <th>GAME_CLOCK</th>\n",
       "      <th>SHOT_CLOCK</th>\n",
       "      <th>DRIBBLES</th>\n",
       "      <th>TOUCH_TIME</th>\n",
       "      <th>SHOT_DIST</th>\n",
       "      <th>PTS_TYPE</th>\n",
       "      <th>SHOT_RESULT</th>\n",
       "      <th>CLOSE_DEF_DIST</th>\n",
       "      <th>player_name</th>\n",
       "    </tr>\n",
       "  </thead>\n",
       "  <tbody>\n",
       "    <tr>\n",
       "      <th>45834</th>\n",
       "      <td>-0.998956</td>\n",
       "      <td>8</td>\n",
       "      <td>1</td>\n",
       "      <td>-1.293139</td>\n",
       "      <td>9:09</td>\n",
       "      <td>0.216312</td>\n",
       "      <td>2.055236</td>\n",
       "      <td>2.283153</td>\n",
       "      <td>-0.734158</td>\n",
       "      <td>-0.590228</td>\n",
       "      <td>0</td>\n",
       "      <td>-1.207201</td>\n",
       "      <td>lebron james</td>\n",
       "    </tr>\n",
       "    <tr>\n",
       "      <th>45835</th>\n",
       "      <td>-0.998956</td>\n",
       "      <td>8</td>\n",
       "      <td>2</td>\n",
       "      <td>-1.293139</td>\n",
       "      <td>6:08</td>\n",
       "      <td>0.476582</td>\n",
       "      <td>1.762081</td>\n",
       "      <td>1.742106</td>\n",
       "      <td>-0.916451</td>\n",
       "      <td>-0.590228</td>\n",
       "      <td>0</td>\n",
       "      <td>-0.589373</td>\n",
       "      <td>lebron james</td>\n",
       "    </tr>\n",
       "    <tr>\n",
       "      <th>45836</th>\n",
       "      <td>-0.998956</td>\n",
       "      <td>8</td>\n",
       "      <td>3</td>\n",
       "      <td>-1.293139</td>\n",
       "      <td>4:38</td>\n",
       "      <td>-0.026607</td>\n",
       "      <td>-0.583152</td>\n",
       "      <td>0.964349</td>\n",
       "      <td>1.111559</td>\n",
       "      <td>1.694261</td>\n",
       "      <td>1</td>\n",
       "      <td>-0.225945</td>\n",
       "      <td>lebron james</td>\n",
       "    </tr>\n",
       "    <tr>\n",
       "      <th>45838</th>\n",
       "      <td>-0.998956</td>\n",
       "      <td>8</td>\n",
       "      <td>5</td>\n",
       "      <td>-0.414321</td>\n",
       "      <td>10:17</td>\n",
       "      <td>1.448257</td>\n",
       "      <td>0.003156</td>\n",
       "      <td>-0.016300</td>\n",
       "      <td>-1.178497</td>\n",
       "      <td>-0.590228</td>\n",
       "      <td>1</td>\n",
       "      <td>-0.225945</td>\n",
       "      <td>lebron james</td>\n",
       "    </tr>\n",
       "    <tr>\n",
       "      <th>45839</th>\n",
       "      <td>-0.998956</td>\n",
       "      <td>8</td>\n",
       "      <td>6</td>\n",
       "      <td>-0.414321</td>\n",
       "      <td>6:14</td>\n",
       "      <td>0.650095</td>\n",
       "      <td>1.468927</td>\n",
       "      <td>1.877368</td>\n",
       "      <td>-0.882271</td>\n",
       "      <td>-0.590228</td>\n",
       "      <td>0</td>\n",
       "      <td>-1.425258</td>\n",
       "      <td>lebron james</td>\n",
       "    </tr>\n",
       "    <tr>\n",
       "      <th>...</th>\n",
       "      <td>...</td>\n",
       "      <td>...</td>\n",
       "      <td>...</td>\n",
       "      <td>...</td>\n",
       "      <td>...</td>\n",
       "      <td>...</td>\n",
       "      <td>...</td>\n",
       "      <td>...</td>\n",
       "      <td>...</td>\n",
       "      <td>...</td>\n",
       "      <td>...</td>\n",
       "      <td>...</td>\n",
       "      <td>...</td>\n",
       "    </tr>\n",
       "    <tr>\n",
       "      <th>46807</th>\n",
       "      <td>1.001045</td>\n",
       "      <td>-5</td>\n",
       "      <td>11</td>\n",
       "      <td>0.464496</td>\n",
       "      <td>3:52</td>\n",
       "      <td>1.829987</td>\n",
       "      <td>-0.583152</td>\n",
       "      <td>-0.557348</td>\n",
       "      <td>-1.098744</td>\n",
       "      <td>-0.590228</td>\n",
       "      <td>1</td>\n",
       "      <td>1.445824</td>\n",
       "      <td>lebron james</td>\n",
       "    </tr>\n",
       "    <tr>\n",
       "      <th>46808</th>\n",
       "      <td>1.001045</td>\n",
       "      <td>-5</td>\n",
       "      <td>12</td>\n",
       "      <td>0.464496</td>\n",
       "      <td>0:40</td>\n",
       "      <td>1.066528</td>\n",
       "      <td>0.589465</td>\n",
       "      <td>1.065796</td>\n",
       "      <td>-0.335392</td>\n",
       "      <td>-0.590228</td>\n",
       "      <td>0</td>\n",
       "      <td>0.755311</td>\n",
       "      <td>lebron james</td>\n",
       "    </tr>\n",
       "    <tr>\n",
       "      <th>46809</th>\n",
       "      <td>1.001045</td>\n",
       "      <td>-5</td>\n",
       "      <td>13</td>\n",
       "      <td>1.343313</td>\n",
       "      <td>7:32</td>\n",
       "      <td>-0.772715</td>\n",
       "      <td>-0.583152</td>\n",
       "      <td>-0.354455</td>\n",
       "      <td>1.601472</td>\n",
       "      <td>1.694261</td>\n",
       "      <td>0</td>\n",
       "      <td>0.137483</td>\n",
       "      <td>lebron james</td>\n",
       "    </tr>\n",
       "    <tr>\n",
       "      <th>46810</th>\n",
       "      <td>1.001045</td>\n",
       "      <td>-5</td>\n",
       "      <td>14</td>\n",
       "      <td>1.343313</td>\n",
       "      <td>4:37</td>\n",
       "      <td>1.656473</td>\n",
       "      <td>-0.583152</td>\n",
       "      <td>-0.692610</td>\n",
       "      <td>-1.429150</td>\n",
       "      <td>-0.590228</td>\n",
       "      <td>1</td>\n",
       "      <td>-0.189603</td>\n",
       "      <td>lebron james</td>\n",
       "    </tr>\n",
       "    <tr>\n",
       "      <th>46811</th>\n",
       "      <td>1.001045</td>\n",
       "      <td>-5</td>\n",
       "      <td>15</td>\n",
       "      <td>1.343313</td>\n",
       "      <td>0:46</td>\n",
       "      <td>1.569717</td>\n",
       "      <td>-0.289998</td>\n",
       "      <td>-0.083931</td>\n",
       "      <td>-1.053170</td>\n",
       "      <td>-0.590228</td>\n",
       "      <td>1</td>\n",
       "      <td>-1.098173</td>\n",
       "      <td>lebron james</td>\n",
       "    </tr>\n",
       "  </tbody>\n",
       "</table>\n",
       "<p>947 rows × 13 columns</p>\n",
       "</div>"
      ],
      "text/plain": [
       "       LOCATION  FINAL_MARGIN  SHOT_NUMBER    PERIOD GAME_CLOCK  SHOT_CLOCK  \\\n",
       "45834 -0.998956             8            1 -1.293139       9:09    0.216312   \n",
       "45835 -0.998956             8            2 -1.293139       6:08    0.476582   \n",
       "45836 -0.998956             8            3 -1.293139       4:38   -0.026607   \n",
       "45838 -0.998956             8            5 -0.414321      10:17    1.448257   \n",
       "45839 -0.998956             8            6 -0.414321       6:14    0.650095   \n",
       "...         ...           ...          ...       ...        ...         ...   \n",
       "46807  1.001045            -5           11  0.464496       3:52    1.829987   \n",
       "46808  1.001045            -5           12  0.464496       0:40    1.066528   \n",
       "46809  1.001045            -5           13  1.343313       7:32   -0.772715   \n",
       "46810  1.001045            -5           14  1.343313       4:37    1.656473   \n",
       "46811  1.001045            -5           15  1.343313       0:46    1.569717   \n",
       "\n",
       "       DRIBBLES  TOUCH_TIME  SHOT_DIST  PTS_TYPE  SHOT_RESULT  CLOSE_DEF_DIST  \\\n",
       "45834  2.055236    2.283153  -0.734158 -0.590228            0       -1.207201   \n",
       "45835  1.762081    1.742106  -0.916451 -0.590228            0       -0.589373   \n",
       "45836 -0.583152    0.964349   1.111559  1.694261            1       -0.225945   \n",
       "45838  0.003156   -0.016300  -1.178497 -0.590228            1       -0.225945   \n",
       "45839  1.468927    1.877368  -0.882271 -0.590228            0       -1.425258   \n",
       "...         ...         ...        ...       ...          ...             ...   \n",
       "46807 -0.583152   -0.557348  -1.098744 -0.590228            1        1.445824   \n",
       "46808  0.589465    1.065796  -0.335392 -0.590228            0        0.755311   \n",
       "46809 -0.583152   -0.354455   1.601472  1.694261            0        0.137483   \n",
       "46810 -0.583152   -0.692610  -1.429150 -0.590228            1       -0.189603   \n",
       "46811 -0.289998   -0.083931  -1.053170 -0.590228            1       -1.098173   \n",
       "\n",
       "        player_name  \n",
       "45834  lebron james  \n",
       "45835  lebron james  \n",
       "45836  lebron james  \n",
       "45838  lebron james  \n",
       "45839  lebron james  \n",
       "...             ...  \n",
       "46807  lebron james  \n",
       "46808  lebron james  \n",
       "46809  lebron james  \n",
       "46810  lebron james  \n",
       "46811  lebron james  \n",
       "\n",
       "[947 rows x 13 columns]"
      ]
     },
     "execution_count": 97,
     "metadata": {},
     "output_type": "execute_result"
    }
   ],
   "source": [
    "df_lebron"
   ]
  },
  {
   "cell_type": "code",
   "execution_count": 98,
   "id": "f06aca3d",
   "metadata": {},
   "outputs": [
    {
     "data": {
      "image/png": "[encoded data removed]",
      "text/plain": [
       "<Figure size 800x600 with 2 Axes>"
      ]
     },
     "metadata": {},
     "output_type": "display_data"
    }
   ],
   "source": [
    "corr_matrix = df_curry.corr(numeric_only=True)\n",
    "\n",
    "corr_matrix\n",
    "plt.figure(figsize=(8,6))\n",
    "sns.heatmap(corr_matrix, annot=True, cmap='coolwarm', fmt=\".2f\")\n",
    "plt.title('Matrice de corrélation')\n",
    "plt.show()\n"
   ]
  },
  {
   "cell_type": "code",
   "execution_count": 99,
   "id": "77c8cb8d",
   "metadata": {},
   "outputs": [
    {
     "data": {
      "image/png": "[encoded data removed]",
      "text/plain": [
       "<Figure size 800x600 with 2 Axes>"
      ]
     },
     "metadata": {},
     "output_type": "display_data"
    }
   ],
   "source": [
    "corr_matrix = df_lebron.corr(numeric_only=True)\n",
    "\n",
    "corr_matrix\n",
    "plt.figure(figsize=(8,6))\n",
    "sns.heatmap(corr_matrix, annot=True, cmap='coolwarm', fmt=\".2f\")\n",
    "plt.title('Matrice de corrélation')\n",
    "plt.show()\n"
   ]
  }
 ],
 "metadata": {
  "kernelspec": {
   "display_name": "Python 3",
   "language": "python",
   "name": "python3"
  },
  "language_info": {
   "codemirror_mode": {
    "name": "ipython",
    "version": 3
   },
   "file_extension": ".py",
   "mimetype": "text/x-python",
   "name": "python",
   "nbconvert_exporter": "python",
   "pygments_lexer": "ipython3",
   "version": "3.12.2"
  }
 },
 "nbformat": 4,
 "nbformat_minor": 5
}
