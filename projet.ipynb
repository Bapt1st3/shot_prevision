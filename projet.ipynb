{
 "cells": [
  {
   "cell_type": "markdown",
   "id": "c0377935",
   "metadata": {},
   "source": [
    "# Import des données et exploration"
   ]
  },
  {
   "cell_type": "code",
   "execution_count": 1,
   "id": "f0be263e",
   "metadata": {},
   "outputs": [],
   "source": [
    "import pandas as pd\n",
    "import numpy as np\n",
    "import matplotlib.pyplot as plt\n",
    "from scipy.stats import zscore\n",
    "import seaborn as sns"
   ]
  },
  {
   "cell_type": "code",
   "execution_count": 43,
   "id": "d84e9ea0",
   "metadata": {},
   "outputs": [],
   "source": [
    "csv_path = \"archive/shot_logs.csv\"  \n",
    "df = pd.read_csv(csv_path, encoding='utf-8')"
   ]
  },
  {
   "cell_type": "code",
   "execution_count": 44,
   "id": "27f77f0e",
   "metadata": {},
   "outputs": [
    {
     "data": {
      "application/vnd.microsoft.datawrangler.viewer.v0+json": {
       "columns": [
        {
         "name": "index",
         "rawType": "int64",
         "type": "integer"
        },
        {
         "name": "GAME_ID",
         "rawType": "int64",
         "type": "integer"
        },
        {
         "name": "MATCHUP",
         "rawType": "object",
         "type": "string"
        },
        {
         "name": "LOCATION",
         "rawType": "object",
         "type": "string"
        },
        {
         "name": "W",
         "rawType": "object",
         "type": "string"
        },
        {
         "name": "FINAL_MARGIN",
         "rawType": "int64",
         "type": "integer"
        },
        {
         "name": "SHOT_NUMBER",
         "rawType": "int64",
         "type": "integer"
        },
        {
         "name": "PERIOD",
         "rawType": "int64",
         "type": "integer"
        },
        {
         "name": "GAME_CLOCK",
         "rawType": "object",
         "type": "string"
        },
        {
         "name": "SHOT_CLOCK",
         "rawType": "float64",
         "type": "float"
        },
        {
         "name": "DRIBBLES",
         "rawType": "int64",
         "type": "integer"
        },
        {
         "name": "TOUCH_TIME",
         "rawType": "float64",
         "type": "float"
        },
        {
         "name": "SHOT_DIST",
         "rawType": "float64",
         "type": "float"
        },
        {
         "name": "PTS_TYPE",
         "rawType": "int64",
         "type": "integer"
        },
        {
         "name": "SHOT_RESULT",
         "rawType": "object",
         "type": "string"
        },
        {
         "name": "CLOSEST_DEFENDER",
         "rawType": "object",
         "type": "string"
        },
        {
         "name": "CLOSEST_DEFENDER_PLAYER_ID",
         "rawType": "int64",
         "type": "integer"
        },
        {
         "name": "CLOSE_DEF_DIST",
         "rawType": "float64",
         "type": "float"
        },
        {
         "name": "FGM",
         "rawType": "int64",
         "type": "integer"
        },
        {
         "name": "PTS",
         "rawType": "int64",
         "type": "integer"
        },
        {
         "name": "player_name",
         "rawType": "object",
         "type": "string"
        },
        {
         "name": "player_id",
         "rawType": "int64",
         "type": "integer"
        }
       ],
       "ref": "c06d803f-16b3-4fba-a1bb-349e9ca8e8cc",
       "rows": [
        [
         "0",
         "21400899",
         "MAR 04, 2015 - CHA @ BKN",
         "A",
         "W",
         "24",
         "1",
         "1",
         "1:09",
         "10.8",
         "2",
         "1.9",
         "7.7",
         "2",
         "made",
         "Anderson, Alan",
         "101187",
         "1.3",
         "1",
         "2",
         "brian roberts",
         "203148"
        ],
        [
         "1",
         "21400899",
         "MAR 04, 2015 - CHA @ BKN",
         "A",
         "W",
         "24",
         "2",
         "1",
         "0:14",
         "3.4",
         "0",
         "0.8",
         "28.2",
         "3",
         "missed",
         "Bogdanovic, Bojan",
         "202711",
         "6.1",
         "0",
         "0",
         "brian roberts",
         "203148"
        ],
        [
         "2",
         "21400899",
         "MAR 04, 2015 - CHA @ BKN",
         "A",
         "W",
         "24",
         "3",
         "1",
         "0:00",
         null,
         "3",
         "2.7",
         "10.1",
         "2",
         "missed",
         "Bogdanovic, Bojan",
         "202711",
         "0.9",
         "0",
         "0",
         "brian roberts",
         "203148"
        ],
        [
         "3",
         "21400899",
         "MAR 04, 2015 - CHA @ BKN",
         "A",
         "W",
         "24",
         "4",
         "2",
         "11:47",
         "10.3",
         "2",
         "1.9",
         "17.2",
         "2",
         "missed",
         "Brown, Markel",
         "203900",
         "3.4",
         "0",
         "0",
         "brian roberts",
         "203148"
        ],
        [
         "4",
         "21400899",
         "MAR 04, 2015 - CHA @ BKN",
         "A",
         "W",
         "24",
         "5",
         "2",
         "10:34",
         "10.9",
         "2",
         "2.7",
         "3.7",
         "2",
         "missed",
         "Young, Thaddeus",
         "201152",
         "1.1",
         "0",
         "0",
         "brian roberts",
         "203148"
        ]
       ],
       "shape": {
        "columns": 21,
        "rows": 5
       }
      },
      "text/html": [
       "<div>\n",
       "<style scoped>\n",
       "    .dataframe tbody tr th:only-of-type {\n",
       "        vertical-align: middle;\n",
       "    }\n",
       "\n",
       "    .dataframe tbody tr th {\n",
       "        vertical-align: top;\n",
       "    }\n",
       "\n",
       "    .dataframe thead th {\n",
       "        text-align: right;\n",
       "    }\n",
       "</style>\n",
       "<table border=\"1\" class=\"dataframe\">\n",
       "  <thead>\n",
       "    <tr style=\"text-align: right;\">\n",
       "      <th></th>\n",
       "      <th>GAME_ID</th>\n",
       "      <th>MATCHUP</th>\n",
       "      <th>LOCATION</th>\n",
       "      <th>W</th>\n",
       "      <th>FINAL_MARGIN</th>\n",
       "      <th>SHOT_NUMBER</th>\n",
       "      <th>PERIOD</th>\n",
       "      <th>GAME_CLOCK</th>\n",
       "      <th>SHOT_CLOCK</th>\n",
       "      <th>DRIBBLES</th>\n",
       "      <th>...</th>\n",
       "      <th>SHOT_DIST</th>\n",
       "      <th>PTS_TYPE</th>\n",
       "      <th>SHOT_RESULT</th>\n",
       "      <th>CLOSEST_DEFENDER</th>\n",
       "      <th>CLOSEST_DEFENDER_PLAYER_ID</th>\n",
       "      <th>CLOSE_DEF_DIST</th>\n",
       "      <th>FGM</th>\n",
       "      <th>PTS</th>\n",
       "      <th>player_name</th>\n",
       "      <th>player_id</th>\n",
       "    </tr>\n",
       "  </thead>\n",
       "  <tbody>\n",
       "    <tr>\n",
       "      <th>0</th>\n",
       "      <td>21400899</td>\n",
       "      <td>MAR 04, 2015 - CHA @ BKN</td>\n",
       "      <td>A</td>\n",
       "      <td>W</td>\n",
       "      <td>24</td>\n",
       "      <td>1</td>\n",
       "      <td>1</td>\n",
       "      <td>1:09</td>\n",
       "      <td>10.8</td>\n",
       "      <td>2</td>\n",
       "      <td>...</td>\n",
       "      <td>7.7</td>\n",
       "      <td>2</td>\n",
       "      <td>made</td>\n",
       "      <td>Anderson, Alan</td>\n",
       "      <td>101187</td>\n",
       "      <td>1.3</td>\n",
       "      <td>1</td>\n",
       "      <td>2</td>\n",
       "      <td>brian roberts</td>\n",
       "      <td>203148</td>\n",
       "    </tr>\n",
       "    <tr>\n",
       "      <th>1</th>\n",
       "      <td>21400899</td>\n",
       "      <td>MAR 04, 2015 - CHA @ BKN</td>\n",
       "      <td>A</td>\n",
       "      <td>W</td>\n",
       "      <td>24</td>\n",
       "      <td>2</td>\n",
       "      <td>1</td>\n",
       "      <td>0:14</td>\n",
       "      <td>3.4</td>\n",
       "      <td>0</td>\n",
       "      <td>...</td>\n",
       "      <td>28.2</td>\n",
       "      <td>3</td>\n",
       "      <td>missed</td>\n",
       "      <td>Bogdanovic, Bojan</td>\n",
       "      <td>202711</td>\n",
       "      <td>6.1</td>\n",
       "      <td>0</td>\n",
       "      <td>0</td>\n",
       "      <td>brian roberts</td>\n",
       "      <td>203148</td>\n",
       "    </tr>\n",
       "    <tr>\n",
       "      <th>2</th>\n",
       "      <td>21400899</td>\n",
       "      <td>MAR 04, 2015 - CHA @ BKN</td>\n",
       "      <td>A</td>\n",
       "      <td>W</td>\n",
       "      <td>24</td>\n",
       "      <td>3</td>\n",
       "      <td>1</td>\n",
       "      <td>0:00</td>\n",
       "      <td>NaN</td>\n",
       "      <td>3</td>\n",
       "      <td>...</td>\n",
       "      <td>10.1</td>\n",
       "      <td>2</td>\n",
       "      <td>missed</td>\n",
       "      <td>Bogdanovic, Bojan</td>\n",
       "      <td>202711</td>\n",
       "      <td>0.9</td>\n",
       "      <td>0</td>\n",
       "      <td>0</td>\n",
       "      <td>brian roberts</td>\n",
       "      <td>203148</td>\n",
       "    </tr>\n",
       "    <tr>\n",
       "      <th>3</th>\n",
       "      <td>21400899</td>\n",
       "      <td>MAR 04, 2015 - CHA @ BKN</td>\n",
       "      <td>A</td>\n",
       "      <td>W</td>\n",
       "      <td>24</td>\n",
       "      <td>4</td>\n",
       "      <td>2</td>\n",
       "      <td>11:47</td>\n",
       "      <td>10.3</td>\n",
       "      <td>2</td>\n",
       "      <td>...</td>\n",
       "      <td>17.2</td>\n",
       "      <td>2</td>\n",
       "      <td>missed</td>\n",
       "      <td>Brown, Markel</td>\n",
       "      <td>203900</td>\n",
       "      <td>3.4</td>\n",
       "      <td>0</td>\n",
       "      <td>0</td>\n",
       "      <td>brian roberts</td>\n",
       "      <td>203148</td>\n",
       "    </tr>\n",
       "    <tr>\n",
       "      <th>4</th>\n",
       "      <td>21400899</td>\n",
       "      <td>MAR 04, 2015 - CHA @ BKN</td>\n",
       "      <td>A</td>\n",
       "      <td>W</td>\n",
       "      <td>24</td>\n",
       "      <td>5</td>\n",
       "      <td>2</td>\n",
       "      <td>10:34</td>\n",
       "      <td>10.9</td>\n",
       "      <td>2</td>\n",
       "      <td>...</td>\n",
       "      <td>3.7</td>\n",
       "      <td>2</td>\n",
       "      <td>missed</td>\n",
       "      <td>Young, Thaddeus</td>\n",
       "      <td>201152</td>\n",
       "      <td>1.1</td>\n",
       "      <td>0</td>\n",
       "      <td>0</td>\n",
       "      <td>brian roberts</td>\n",
       "      <td>203148</td>\n",
       "    </tr>\n",
       "  </tbody>\n",
       "</table>\n",
       "<p>5 rows × 21 columns</p>\n",
       "</div>"
      ],
      "text/plain": [
       "    GAME_ID                   MATCHUP LOCATION  W  FINAL_MARGIN  SHOT_NUMBER  \\\n",
       "0  21400899  MAR 04, 2015 - CHA @ BKN        A  W            24            1   \n",
       "1  21400899  MAR 04, 2015 - CHA @ BKN        A  W            24            2   \n",
       "2  21400899  MAR 04, 2015 - CHA @ BKN        A  W            24            3   \n",
       "3  21400899  MAR 04, 2015 - CHA @ BKN        A  W            24            4   \n",
       "4  21400899  MAR 04, 2015 - CHA @ BKN        A  W            24            5   \n",
       "\n",
       "   PERIOD GAME_CLOCK  SHOT_CLOCK  DRIBBLES  ...  SHOT_DIST  PTS_TYPE  \\\n",
       "0       1       1:09        10.8         2  ...        7.7         2   \n",
       "1       1       0:14         3.4         0  ...       28.2         3   \n",
       "2       1       0:00         NaN         3  ...       10.1         2   \n",
       "3       2      11:47        10.3         2  ...       17.2         2   \n",
       "4       2      10:34        10.9         2  ...        3.7         2   \n",
       "\n",
       "   SHOT_RESULT   CLOSEST_DEFENDER CLOSEST_DEFENDER_PLAYER_ID  CLOSE_DEF_DIST  \\\n",
       "0         made     Anderson, Alan                     101187             1.3   \n",
       "1       missed  Bogdanovic, Bojan                     202711             6.1   \n",
       "2       missed  Bogdanovic, Bojan                     202711             0.9   \n",
       "3       missed      Brown, Markel                     203900             3.4   \n",
       "4       missed    Young, Thaddeus                     201152             1.1   \n",
       "\n",
       "   FGM  PTS    player_name player_id  \n",
       "0    1    2  brian roberts    203148  \n",
       "1    0    0  brian roberts    203148  \n",
       "2    0    0  brian roberts    203148  \n",
       "3    0    0  brian roberts    203148  \n",
       "4    0    0  brian roberts    203148  \n",
       "\n",
       "[5 rows x 21 columns]"
      ]
     },
     "execution_count": 44,
     "metadata": {},
     "output_type": "execute_result"
    }
   ],
   "source": [
    "df.head()\n"
   ]
  },
  {
   "cell_type": "markdown",
   "id": "e6a5d1b1",
   "metadata": {},
   "source": [
    "| **Nom de la colonne**          | **Description**                                                                                                |\n",
    "| ------------------------------ | -------------------------------------------------------------------------------------------------------------- |\n",
    "| **SHOT_CLOCK**                 | Temps restant sur l’horloge des tirs (en secondes) au moment du tir. Peut être manquant sur certaines actions. |\n",
    "| **MATCHUP**                    | Indique le match joué, souvent sous la forme `\"LAL vs GSW\"` ou `\"GSW @ LAL\"`.                                  |\n",
    "| **LOCATION**                   | Désigne si l’équipe du joueur jouait à domicile (`HOME`) ou à l’extérieur (`AWAY`).                            |\n",
    "| **W**                          | Résultat final du match pour l’équipe du joueur : `W` = victoire, `L` = défaite.                               |\n",
    "| **GAME_ID**                    | Identifiant unique du match dans la base de données NBA.                                                       |\n",
    "| **FINAL_MARGIN**               | Écart de points final du match (positif = victoire, négatif = défaite).                                        |\n",
    "| **SHOT_NUMBER**                | Numéro d’ordre du tir tenté par le joueur dans le match (1er tir, 2e tir, etc.).                               |\n",
    "| **PERIOD**                     | Quart-temps dans lequel le tir a eu lieu (1 à 4, parfois plus pour les prolongations).                         |\n",
    "| **GAME_CLOCK**                 | Temps restant dans le quart-temps au moment du tir (format `MM:SS`).                                           |\n",
    "| **DRIBBLES**                   | Nombre de dribbles effectués par le joueur avant de tirer.                                                     |\n",
    "| **TOUCH_TIME**                 | Durée (en secondes) pendant laquelle le joueur a eu la balle avant de tirer.                                   |\n",
    "| **SHOT_DIST**                  | Distance du tir par rapport au panier (en pieds).                                                              |\n",
    "| **PTS_TYPE**                   | Type de tir : `2` pour un tir à 2 points, `3` pour un tir à 3 points.                                          |\n",
    "| **SHOT_RESULT**                | Résultat du tir : `\"Made\"` = réussi, `\"Missed\"` = raté.                                                        |\n",
    "| **CLOSEST_DEFENDER**           | Nom du défenseur le plus proche au moment du tir.                                                              |\n",
    "| **CLOSEST_DEFENDER_PLAYER_ID** | Identifiant du défenseur le plus proche.                                                                       |\n",
    "| **CLOSE_DEF_DIST**             | Distance (en pieds) entre le tireur et le défenseur le plus proche.                                            |\n",
    "| **FGM**                        | *Field Goal Made* : 1 si le tir est marqué, 0 sinon.                                                           |\n",
    "| **PTS**                        | Nombre de points marqués sur l’action (0, 2 ou 3).                                                             |\n",
    "| **player_name**                | Nom du joueur qui a tenté le tir.                                                                              |\n",
    "| **player_id**                  | Identifiant unique du joueur dans la base NBA.                                                                 |\n"
   ]
  },
  {
   "cell_type": "code",
   "execution_count": 45,
   "id": "c246eb7a",
   "metadata": {},
   "outputs": [
    {
     "name": "stdout",
     "output_type": "stream",
     "text": [
      "shape : (128069, 21)\n",
      "GAME_ID                         int64\n",
      "MATCHUP                        object\n",
      "LOCATION                       object\n",
      "W                              object\n",
      "FINAL_MARGIN                    int64\n",
      "SHOT_NUMBER                     int64\n",
      "PERIOD                          int64\n",
      "GAME_CLOCK                     object\n",
      "SHOT_CLOCK                    float64\n",
      "DRIBBLES                        int64\n",
      "TOUCH_TIME                    float64\n",
      "SHOT_DIST                     float64\n",
      "PTS_TYPE                        int64\n",
      "SHOT_RESULT                    object\n",
      "CLOSEST_DEFENDER               object\n",
      "CLOSEST_DEFENDER_PLAYER_ID      int64\n",
      "CLOSE_DEF_DIST                float64\n",
      "FGM                             int64\n",
      "PTS                             int64\n",
      "player_name                    object\n",
      "player_id                       int64\n",
      "dtype: object\n"
     ]
    }
   ],
   "source": [
    "print(\"shape :\" ,df.shape)\n",
    "print(df.dtypes)"
   ]
  },
  {
   "cell_type": "code",
   "execution_count": 46,
   "id": "5bb45f51",
   "metadata": {},
   "outputs": [],
   "source": [
    "def check_na():\n",
    "    print(\"\\n=== VALEURS MANQUANTES ===\")\n",
    "    na_counts = df.isna().sum()\n",
    "    na_pct = (na_counts / len(df)) * 100\n",
    "    na_summary = pd.DataFrame({'missing': na_counts, 'missing_%': na_pct.round(2)})\n",
    "    print(na_summary.sort_values(by='missing_%', ascending=False))"
   ]
  },
  {
   "cell_type": "code",
   "execution_count": 47,
   "id": "1ca59052",
   "metadata": {},
   "outputs": [
    {
     "name": "stdout",
     "output_type": "stream",
     "text": [
      "\n",
      "=== VALEURS MANQUANTES ===\n",
      "                            missing  missing_%\n",
      "SHOT_CLOCK                     5567       4.35\n",
      "MATCHUP                           0       0.00\n",
      "LOCATION                          0       0.00\n",
      "W                                 0       0.00\n",
      "GAME_ID                           0       0.00\n",
      "FINAL_MARGIN                      0       0.00\n",
      "SHOT_NUMBER                       0       0.00\n",
      "PERIOD                            0       0.00\n",
      "GAME_CLOCK                        0       0.00\n",
      "DRIBBLES                          0       0.00\n",
      "TOUCH_TIME                        0       0.00\n",
      "SHOT_DIST                         0       0.00\n",
      "PTS_TYPE                          0       0.00\n",
      "SHOT_RESULT                       0       0.00\n",
      "CLOSEST_DEFENDER                  0       0.00\n",
      "CLOSEST_DEFENDER_PLAYER_ID        0       0.00\n",
      "CLOSE_DEF_DIST                    0       0.00\n",
      "FGM                               0       0.00\n",
      "PTS                               0       0.00\n",
      "player_name                       0       0.00\n",
      "player_id                         0       0.00\n",
      "\n",
      "SHOT_RESULT\n",
      "missed    70164\n",
      "made      57905\n",
      "Name: count, dtype: int64\n"
     ]
    }
   ],
   "source": [
    "check_na()\n",
    "print()\n",
    "print(df['SHOT_RESULT'].value_counts())"
   ]
  },
  {
   "cell_type": "code",
   "execution_count": 48,
   "id": "3dc74f57",
   "metadata": {},
   "outputs": [
    {
     "data": {
      "application/vnd.microsoft.datawrangler.viewer.v0+json": {
       "columns": [
        {
         "name": "PTS_TYPE",
         "rawType": "int64",
         "type": "integer"
        },
        {
         "name": "count",
         "rawType": "int64",
         "type": "integer"
        }
       ],
       "ref": "4c7e4a20-494c-4291-94ca-33790e4cd2e9",
       "rows": [
        [
         "2",
         "3321"
        ],
        [
         "3",
         "2246"
        ]
       ],
       "shape": {
        "columns": 1,
        "rows": 2
       }
      },
      "text/plain": [
       "PTS_TYPE\n",
       "2    3321\n",
       "3    2246\n",
       "Name: count, dtype: int64"
      ]
     },
     "execution_count": 48,
     "metadata": {},
     "output_type": "execute_result"
    }
   ],
   "source": [
    "#pourquoi shot_clock a parfois des valuers manquantes ? \n",
    "\n",
    "#h1 se sont les fautes (lancés frants) ou quel cas on devrais avoir de pts_types a 1 (faux)\n",
    "df[df['SHOT_CLOCK'].isna()]['PTS_TYPE'].value_counts()"
   ]
  },
  {
   "cell_type": "code",
   "execution_count": 49,
   "id": "cc7183fb",
   "metadata": {},
   "outputs": [
    {
     "data": {
      "application/vnd.microsoft.datawrangler.viewer.v0+json": {
       "columns": [
        {
         "name": "PERIOD",
         "rawType": "int64",
         "type": "integer"
        },
        {
         "name": "count",
         "rawType": "int64",
         "type": "integer"
        }
       ],
       "ref": "e273415b-24fe-4eb5-8cc0-2eb9e8907f20",
       "rows": [
        [
         "1",
         "1578"
        ],
        [
         "2",
         "1503"
        ],
        [
         "4",
         "1182"
        ],
        [
         "3",
         "1179"
        ],
        [
         "5",
         "103"
        ],
        [
         "6",
         "19"
        ],
        [
         "7",
         "3"
        ]
       ],
       "shape": {
        "columns": 1,
        "rows": 7
       }
      },
      "text/plain": [
       "PERIOD\n",
       "1    1578\n",
       "2    1503\n",
       "4    1182\n",
       "3    1179\n",
       "5     103\n",
       "6      19\n",
       "7       3\n",
       "Name: count, dtype: int64"
      ]
     },
     "execution_count": 49,
     "metadata": {},
     "output_type": "execute_result"
    }
   ],
   "source": [
    "#h2 en debut de matach ? \n",
    "df[df['SHOT_CLOCK'].isna()]['PERIOD'].value_counts()"
   ]
  },
  {
   "cell_type": "code",
   "execution_count": 50,
   "id": "ec08bf59",
   "metadata": {},
   "outputs": [
    {
     "data": {
      "application/vnd.microsoft.datawrangler.viewer.v0+json": {
       "columns": [
        {
         "name": "GAME_CLOCK",
         "rawType": "object",
         "type": "string"
        },
        {
         "name": "count",
         "rawType": "int64",
         "type": "integer"
        }
       ],
       "ref": "9b703647-1148-4259-adad-c925e62c4fd2",
       "rows": [
        [
         "0:01",
         "849"
        ],
        [
         "0:02",
         "525"
        ],
        [
         "0:00",
         "480"
        ],
        [
         "0:03",
         "385"
        ],
        [
         "0:04",
         "273"
        ],
        [
         "0:05",
         "190"
        ],
        [
         "0:06",
         "119"
        ],
        [
         "0:07",
         "94"
        ],
        [
         "0:09",
         "72"
        ],
        [
         "0:10",
         "66"
        ],
        [
         "0:08",
         "66"
        ],
        [
         "0:15",
         "54"
        ],
        [
         "0:11",
         "52"
        ],
        [
         "0:12",
         "45"
        ],
        [
         "0:14",
         "43"
        ],
        [
         "0:17",
         "38"
        ],
        [
         "0:18",
         "36"
        ],
        [
         "0:16",
         "35"
        ],
        [
         "0:13",
         "34"
        ],
        [
         "0:19",
         "28"
        ],
        [
         "0:21",
         "26"
        ],
        [
         "0:20",
         "23"
        ],
        [
         "0:52",
         "9"
        ],
        [
         "8:35",
         "9"
        ],
        [
         "9:51",
         "9"
        ],
        [
         "0:22",
         "9"
        ],
        [
         "5:30",
         "8"
        ],
        [
         "0:23",
         "8"
        ],
        [
         "3:07",
         "8"
        ],
        [
         "7:15",
         "7"
        ],
        [
         "7:34",
         "7"
        ],
        [
         "9:53",
         "7"
        ],
        [
         "11:22",
         "7"
        ],
        [
         "11:19",
         "7"
        ],
        [
         "1:02",
         "7"
        ],
        [
         "9:30",
         "7"
        ],
        [
         "11:23",
         "7"
        ],
        [
         "6:50",
         "7"
        ],
        [
         "9:22",
         "7"
        ],
        [
         "10:58",
         "7"
        ],
        [
         "3:46",
         "7"
        ],
        [
         "3:22",
         "7"
        ],
        [
         "2:41",
         "7"
        ],
        [
         "10:36",
         "6"
        ],
        [
         "6:43",
         "6"
        ],
        [
         "1:29",
         "6"
        ],
        [
         "4:40",
         "6"
        ],
        [
         "1:52",
         "6"
        ],
        [
         "6:37",
         "6"
        ],
        [
         "3:45",
         "6"
        ]
       ],
       "shape": {
        "columns": 1,
        "rows": 680
       }
      },
      "text/plain": [
       "GAME_CLOCK\n",
       "0:01     849\n",
       "0:02     525\n",
       "0:00     480\n",
       "0:03     385\n",
       "0:04     273\n",
       "        ... \n",
       "11:52      1\n",
       "2:57       1\n",
       "10:56      1\n",
       "0:42       1\n",
       "10:42      1\n",
       "Name: count, Length: 680, dtype: int64"
      ]
     },
     "execution_count": 50,
     "metadata": {},
     "output_type": "execute_result"
    }
   ],
   "source": [
    "df[df['SHOT_CLOCK'].isna()]['GAME_CLOCK'].value_counts()"
   ]
  },
  {
   "cell_type": "markdown",
   "id": "6a710dec",
   "metadata": {},
   "source": [
    "Les valeurs manquantes dans SHOT_CLOCK apparaissent majoritairement lorsque le GAME_CLOCK est inférieur à 24 secondes.\n",
    "Cela correspond à la fin des quart-temps, moment où le chronomètre des tirs (shot clock) n’est plus affiché car il est absorbé par le chronomètre principal du jeu.\n",
    "Ces valeurs NaN sont donc logiques et ne traduisent pas une erreur de données.\n",
    "\n",
    "Cependant certaines données sont plus tard pour l'instant aucune conclusion n'est possible."
   ]
  },
  {
   "cell_type": "code",
   "execution_count": 51,
   "id": "8dd9eb0f",
   "metadata": {},
   "outputs": [
    {
     "name": "stdout",
     "output_type": "stream",
     "text": [
      "     PTS_TYPE  SHOT_DIST SHOT_RESULT\n",
      "2           2       10.1      missed\n",
      "24          3       25.2      missed\n",
      "54          3       34.4      missed\n",
      "76          2       13.1        made\n",
      "129         2       12.0      missed\n",
      "134         2       17.9      missed\n",
      "141         2       10.4        made\n",
      "145         2       18.3      missed\n",
      "184         3       27.1      missed\n",
      "204         3       32.9      missed\n"
     ]
    }
   ],
   "source": [
    "missing_shot_clock = df[df['SHOT_CLOCK'].isna()]\n",
    "print(missing_shot_clock[['PTS_TYPE', 'SHOT_DIST', 'SHOT_RESULT']].head(10))"
   ]
  },
  {
   "cell_type": "code",
   "execution_count": 52,
   "id": "bb233282",
   "metadata": {},
   "outputs": [
    {
     "name": "stdout",
     "output_type": "stream",
     "text": [
      "\n",
      "=== VALEURS MANQUANTES ===\n",
      "                            missing  missing_%\n",
      "GAME_ID                           0        0.0\n",
      "MATCHUP                           0        0.0\n",
      "LOCATION                          0        0.0\n",
      "W                                 0        0.0\n",
      "FINAL_MARGIN                      0        0.0\n",
      "SHOT_NUMBER                       0        0.0\n",
      "PERIOD                            0        0.0\n",
      "GAME_CLOCK                        0        0.0\n",
      "SHOT_CLOCK                        0        0.0\n",
      "DRIBBLES                          0        0.0\n",
      "TOUCH_TIME                        0        0.0\n",
      "SHOT_DIST                         0        0.0\n",
      "PTS_TYPE                          0        0.0\n",
      "SHOT_RESULT                       0        0.0\n",
      "CLOSEST_DEFENDER                  0        0.0\n",
      "CLOSEST_DEFENDER_PLAYER_ID        0        0.0\n",
      "CLOSE_DEF_DIST                    0        0.0\n",
      "FGM                               0        0.0\n",
      "PTS                               0        0.0\n",
      "player_name                       0        0.0\n",
      "player_id                         0        0.0\n"
     ]
    }
   ],
   "source": [
    "#TODO pour l'instant drop mais on verra plus tard si on trouve pourquoi c'est manquant\n",
    "df = df.dropna(subset=['SHOT_CLOCK'])\n",
    "check_na()"
   ]
  },
  {
   "cell_type": "code",
   "execution_count": 53,
   "id": "8341b092",
   "metadata": {},
   "outputs": [
    {
     "data": {
      "application/vnd.microsoft.datawrangler.viewer.v0+json": {
       "columns": [
        {
         "name": "index",
         "rawType": "int64",
         "type": "integer"
        },
        {
         "name": "GAME_ID",
         "rawType": "int64",
         "type": "integer"
        },
        {
         "name": "MATCHUP",
         "rawType": "object",
         "type": "string"
        },
        {
         "name": "LOCATION",
         "rawType": "object",
         "type": "string"
        },
        {
         "name": "W",
         "rawType": "object",
         "type": "string"
        },
        {
         "name": "FINAL_MARGIN",
         "rawType": "int64",
         "type": "integer"
        },
        {
         "name": "SHOT_NUMBER",
         "rawType": "int64",
         "type": "integer"
        },
        {
         "name": "PERIOD",
         "rawType": "int64",
         "type": "integer"
        },
        {
         "name": "GAME_CLOCK",
         "rawType": "object",
         "type": "string"
        },
        {
         "name": "SHOT_CLOCK",
         "rawType": "float64",
         "type": "float"
        },
        {
         "name": "DRIBBLES",
         "rawType": "int64",
         "type": "integer"
        },
        {
         "name": "TOUCH_TIME",
         "rawType": "float64",
         "type": "float"
        },
        {
         "name": "SHOT_DIST",
         "rawType": "float64",
         "type": "float"
        },
        {
         "name": "PTS_TYPE",
         "rawType": "int64",
         "type": "integer"
        },
        {
         "name": "SHOT_RESULT",
         "rawType": "object",
         "type": "string"
        },
        {
         "name": "CLOSEST_DEFENDER",
         "rawType": "object",
         "type": "string"
        },
        {
         "name": "CLOSEST_DEFENDER_PLAYER_ID",
         "rawType": "int64",
         "type": "integer"
        },
        {
         "name": "CLOSE_DEF_DIST",
         "rawType": "float64",
         "type": "float"
        },
        {
         "name": "FGM",
         "rawType": "int64",
         "type": "integer"
        },
        {
         "name": "PTS",
         "rawType": "int64",
         "type": "integer"
        },
        {
         "name": "player_name",
         "rawType": "object",
         "type": "string"
        },
        {
         "name": "player_id",
         "rawType": "int64",
         "type": "integer"
        },
        {
         "name": "TIME_SPENT_QUATER_SEC",
         "rawType": "int64",
         "type": "integer"
        },
        {
         "name": "GAME_TIME_TOTAL",
         "rawType": "int64",
         "type": "integer"
        }
       ],
       "ref": "cecf27e3-c106-4e3c-8ede-306bc944346d",
       "rows": [
        [
         "0",
         "21400899",
         "MAR 04, 2015 - CHA @ BKN",
         "A",
         "W",
         "24",
         "1",
         "1",
         "1:09",
         "10.8",
         "2",
         "1.9",
         "7.7",
         "2",
         "made",
         "Anderson, Alan",
         "101187",
         "1.3",
         "1",
         "2",
         "brian roberts",
         "203148",
         "651",
         "651"
        ],
        [
         "1",
         "21400899",
         "MAR 04, 2015 - CHA @ BKN",
         "A",
         "W",
         "24",
         "2",
         "1",
         "0:14",
         "3.4",
         "0",
         "0.8",
         "28.2",
         "3",
         "missed",
         "Bogdanovic, Bojan",
         "202711",
         "6.1",
         "0",
         "0",
         "brian roberts",
         "203148",
         "706",
         "706"
        ],
        [
         "3",
         "21400899",
         "MAR 04, 2015 - CHA @ BKN",
         "A",
         "W",
         "24",
         "4",
         "2",
         "11:47",
         "10.3",
         "2",
         "1.9",
         "17.2",
         "2",
         "missed",
         "Brown, Markel",
         "203900",
         "3.4",
         "0",
         "0",
         "brian roberts",
         "203148",
         "13",
         "733"
        ],
        [
         "4",
         "21400899",
         "MAR 04, 2015 - CHA @ BKN",
         "A",
         "W",
         "24",
         "5",
         "2",
         "10:34",
         "10.9",
         "2",
         "2.7",
         "3.7",
         "2",
         "missed",
         "Young, Thaddeus",
         "201152",
         "1.1",
         "0",
         "0",
         "brian roberts",
         "203148",
         "86",
         "806"
        ],
        [
         "5",
         "21400899",
         "MAR 04, 2015 - CHA @ BKN",
         "A",
         "W",
         "24",
         "6",
         "2",
         "8:15",
         "9.1",
         "2",
         "4.4",
         "18.4",
         "2",
         "missed",
         "Williams, Deron",
         "101114",
         "2.6",
         "0",
         "0",
         "brian roberts",
         "203148",
         "225",
         "945"
        ]
       ],
       "shape": {
        "columns": 23,
        "rows": 5
       }
      },
      "text/html": [
       "<div>\n",
       "<style scoped>\n",
       "    .dataframe tbody tr th:only-of-type {\n",
       "        vertical-align: middle;\n",
       "    }\n",
       "\n",
       "    .dataframe tbody tr th {\n",
       "        vertical-align: top;\n",
       "    }\n",
       "\n",
       "    .dataframe thead th {\n",
       "        text-align: right;\n",
       "    }\n",
       "</style>\n",
       "<table border=\"1\" class=\"dataframe\">\n",
       "  <thead>\n",
       "    <tr style=\"text-align: right;\">\n",
       "      <th></th>\n",
       "      <th>GAME_ID</th>\n",
       "      <th>MATCHUP</th>\n",
       "      <th>LOCATION</th>\n",
       "      <th>W</th>\n",
       "      <th>FINAL_MARGIN</th>\n",
       "      <th>SHOT_NUMBER</th>\n",
       "      <th>PERIOD</th>\n",
       "      <th>GAME_CLOCK</th>\n",
       "      <th>SHOT_CLOCK</th>\n",
       "      <th>DRIBBLES</th>\n",
       "      <th>...</th>\n",
       "      <th>SHOT_RESULT</th>\n",
       "      <th>CLOSEST_DEFENDER</th>\n",
       "      <th>CLOSEST_DEFENDER_PLAYER_ID</th>\n",
       "      <th>CLOSE_DEF_DIST</th>\n",
       "      <th>FGM</th>\n",
       "      <th>PTS</th>\n",
       "      <th>player_name</th>\n",
       "      <th>player_id</th>\n",
       "      <th>TIME_SPENT_QUATER_SEC</th>\n",
       "      <th>GAME_TIME_TOTAL</th>\n",
       "    </tr>\n",
       "  </thead>\n",
       "  <tbody>\n",
       "    <tr>\n",
       "      <th>0</th>\n",
       "      <td>21400899</td>\n",
       "      <td>MAR 04, 2015 - CHA @ BKN</td>\n",
       "      <td>A</td>\n",
       "      <td>W</td>\n",
       "      <td>24</td>\n",
       "      <td>1</td>\n",
       "      <td>1</td>\n",
       "      <td>1:09</td>\n",
       "      <td>10.8</td>\n",
       "      <td>2</td>\n",
       "      <td>...</td>\n",
       "      <td>made</td>\n",
       "      <td>Anderson, Alan</td>\n",
       "      <td>101187</td>\n",
       "      <td>1.3</td>\n",
       "      <td>1</td>\n",
       "      <td>2</td>\n",
       "      <td>brian roberts</td>\n",
       "      <td>203148</td>\n",
       "      <td>651</td>\n",
       "      <td>651</td>\n",
       "    </tr>\n",
       "    <tr>\n",
       "      <th>1</th>\n",
       "      <td>21400899</td>\n",
       "      <td>MAR 04, 2015 - CHA @ BKN</td>\n",
       "      <td>A</td>\n",
       "      <td>W</td>\n",
       "      <td>24</td>\n",
       "      <td>2</td>\n",
       "      <td>1</td>\n",
       "      <td>0:14</td>\n",
       "      <td>3.4</td>\n",
       "      <td>0</td>\n",
       "      <td>...</td>\n",
       "      <td>missed</td>\n",
       "      <td>Bogdanovic, Bojan</td>\n",
       "      <td>202711</td>\n",
       "      <td>6.1</td>\n",
       "      <td>0</td>\n",
       "      <td>0</td>\n",
       "      <td>brian roberts</td>\n",
       "      <td>203148</td>\n",
       "      <td>706</td>\n",
       "      <td>706</td>\n",
       "    </tr>\n",
       "    <tr>\n",
       "      <th>3</th>\n",
       "      <td>21400899</td>\n",
       "      <td>MAR 04, 2015 - CHA @ BKN</td>\n",
       "      <td>A</td>\n",
       "      <td>W</td>\n",
       "      <td>24</td>\n",
       "      <td>4</td>\n",
       "      <td>2</td>\n",
       "      <td>11:47</td>\n",
       "      <td>10.3</td>\n",
       "      <td>2</td>\n",
       "      <td>...</td>\n",
       "      <td>missed</td>\n",
       "      <td>Brown, Markel</td>\n",
       "      <td>203900</td>\n",
       "      <td>3.4</td>\n",
       "      <td>0</td>\n",
       "      <td>0</td>\n",
       "      <td>brian roberts</td>\n",
       "      <td>203148</td>\n",
       "      <td>13</td>\n",
       "      <td>733</td>\n",
       "    </tr>\n",
       "    <tr>\n",
       "      <th>4</th>\n",
       "      <td>21400899</td>\n",
       "      <td>MAR 04, 2015 - CHA @ BKN</td>\n",
       "      <td>A</td>\n",
       "      <td>W</td>\n",
       "      <td>24</td>\n",
       "      <td>5</td>\n",
       "      <td>2</td>\n",
       "      <td>10:34</td>\n",
       "      <td>10.9</td>\n",
       "      <td>2</td>\n",
       "      <td>...</td>\n",
       "      <td>missed</td>\n",
       "      <td>Young, Thaddeus</td>\n",
       "      <td>201152</td>\n",
       "      <td>1.1</td>\n",
       "      <td>0</td>\n",
       "      <td>0</td>\n",
       "      <td>brian roberts</td>\n",
       "      <td>203148</td>\n",
       "      <td>86</td>\n",
       "      <td>806</td>\n",
       "    </tr>\n",
       "    <tr>\n",
       "      <th>5</th>\n",
       "      <td>21400899</td>\n",
       "      <td>MAR 04, 2015 - CHA @ BKN</td>\n",
       "      <td>A</td>\n",
       "      <td>W</td>\n",
       "      <td>24</td>\n",
       "      <td>6</td>\n",
       "      <td>2</td>\n",
       "      <td>8:15</td>\n",
       "      <td>9.1</td>\n",
       "      <td>2</td>\n",
       "      <td>...</td>\n",
       "      <td>missed</td>\n",
       "      <td>Williams, Deron</td>\n",
       "      <td>101114</td>\n",
       "      <td>2.6</td>\n",
       "      <td>0</td>\n",
       "      <td>0</td>\n",
       "      <td>brian roberts</td>\n",
       "      <td>203148</td>\n",
       "      <td>225</td>\n",
       "      <td>945</td>\n",
       "    </tr>\n",
       "  </tbody>\n",
       "</table>\n",
       "<p>5 rows × 23 columns</p>\n",
       "</div>"
      ],
      "text/plain": [
       "    GAME_ID                   MATCHUP LOCATION  W  FINAL_MARGIN  SHOT_NUMBER  \\\n",
       "0  21400899  MAR 04, 2015 - CHA @ BKN        A  W            24            1   \n",
       "1  21400899  MAR 04, 2015 - CHA @ BKN        A  W            24            2   \n",
       "3  21400899  MAR 04, 2015 - CHA @ BKN        A  W            24            4   \n",
       "4  21400899  MAR 04, 2015 - CHA @ BKN        A  W            24            5   \n",
       "5  21400899  MAR 04, 2015 - CHA @ BKN        A  W            24            6   \n",
       "\n",
       "   PERIOD GAME_CLOCK  SHOT_CLOCK  DRIBBLES  ...  SHOT_RESULT  \\\n",
       "0       1       1:09        10.8         2  ...         made   \n",
       "1       1       0:14         3.4         0  ...       missed   \n",
       "3       2      11:47        10.3         2  ...       missed   \n",
       "4       2      10:34        10.9         2  ...       missed   \n",
       "5       2       8:15         9.1         2  ...       missed   \n",
       "\n",
       "    CLOSEST_DEFENDER  CLOSEST_DEFENDER_PLAYER_ID CLOSE_DEF_DIST FGM  PTS  \\\n",
       "0     Anderson, Alan                      101187            1.3   1    2   \n",
       "1  Bogdanovic, Bojan                      202711            6.1   0    0   \n",
       "3      Brown, Markel                      203900            3.4   0    0   \n",
       "4    Young, Thaddeus                      201152            1.1   0    0   \n",
       "5    Williams, Deron                      101114            2.6   0    0   \n",
       "\n",
       "     player_name  player_id  TIME_SPENT_QUATER_SEC GAME_TIME_TOTAL  \n",
       "0  brian roberts     203148                    651             651  \n",
       "1  brian roberts     203148                    706             706  \n",
       "3  brian roberts     203148                     13             733  \n",
       "4  brian roberts     203148                     86             806  \n",
       "5  brian roberts     203148                    225             945  \n",
       "\n",
       "[5 rows x 23 columns]"
      ]
     },
     "execution_count": 53,
     "metadata": {},
     "output_type": "execute_result"
    }
   ],
   "source": [
    "#TODO mettre le game clock en temps complet prendre la periode (1,2,3,4) 1 quart temps = 12 min \n",
    "\n",
    "# --- Convertir GAME_CLOCK en secondes ---\n",
    "def clock_to_seconds(clock_str):\n",
    "    \"\"\"Convertit une chaîne 'MM:SS' en secondes.\"\"\"\n",
    "    if isinstance(clock_str, str):\n",
    "        m, s = clock_str.split(':')\n",
    "        return int(m) * 60 + int(s)\n",
    "    return None\n",
    "\n",
    "#game clock est décroissant on commence à 12 min (ici on veux récupérer le temps écoulé depuis le depuis du quart temps)\n",
    "df['TIME_SPENT_QUATER_SEC'] = 12*60 - df['GAME_CLOCK'].apply(clock_to_seconds) \n",
    "\n",
    "# Calculer le temps absolu depuis le début du match\n",
    "df['GAME_TIME_TOTAL'] = (df['PERIOD'] - 1) * 12*60 + (df['TIME_SPENT_QUATER_SEC'])\n",
    "\n",
    "df.head()\n"
   ]
  },
  {
   "cell_type": "code",
   "execution_count": 56,
   "id": "03d7c046",
   "metadata": {},
   "outputs": [
    {
     "data": {
      "application/vnd.microsoft.datawrangler.viewer.v0+json": {
       "columns": [
        {
         "name": "index",
         "rawType": "int64",
         "type": "integer"
        },
        {
         "name": "LOCATION",
         "rawType": "int64",
         "type": "integer"
        },
        {
         "name": "SHOT_NUMBER",
         "rawType": "int64",
         "type": "integer"
        },
        {
         "name": "DRIBBLES",
         "rawType": "int64",
         "type": "integer"
        },
        {
         "name": "TOUCH_TIME",
         "rawType": "float64",
         "type": "float"
        },
        {
         "name": "SHOT_DIST",
         "rawType": "float64",
         "type": "float"
        },
        {
         "name": "SHOT_RESULT",
         "rawType": "int64",
         "type": "integer"
        },
        {
         "name": "CLOSE_DEF_DIST",
         "rawType": "float64",
         "type": "float"
        },
        {
         "name": "player_name",
         "rawType": "object",
         "type": "string"
        },
        {
         "name": "TIME_SPENT_QUATER_SEC",
         "rawType": "int64",
         "type": "integer"
        },
        {
         "name": "GAME_TIME_TOTAL",
         "rawType": "int64",
         "type": "integer"
        }
       ],
       "ref": "e6a9e17f-9d2c-4257-a351-9b10be11bdd7",
       "rows": [
        [
         "0",
         "0",
         "1",
         "2",
         "1.9",
         "7.7",
         "1",
         "1.3",
         "brian roberts",
         "651",
         "651"
        ],
        [
         "1",
         "0",
         "2",
         "0",
         "0.8",
         "28.2",
         "0",
         "6.1",
         "brian roberts",
         "706",
         "706"
        ],
        [
         "3",
         "0",
         "4",
         "2",
         "1.9",
         "17.2",
         "0",
         "3.4",
         "brian roberts",
         "13",
         "733"
        ],
        [
         "4",
         "0",
         "5",
         "2",
         "2.7",
         "3.7",
         "0",
         "1.1",
         "brian roberts",
         "86",
         "806"
        ],
        [
         "5",
         "0",
         "6",
         "2",
         "4.4",
         "18.4",
         "0",
         "2.6",
         "brian roberts",
         "225",
         "945"
        ]
       ],
       "shape": {
        "columns": 10,
        "rows": 5
       }
      },
      "text/html": [
       "<div>\n",
       "<style scoped>\n",
       "    .dataframe tbody tr th:only-of-type {\n",
       "        vertical-align: middle;\n",
       "    }\n",
       "\n",
       "    .dataframe tbody tr th {\n",
       "        vertical-align: top;\n",
       "    }\n",
       "\n",
       "    .dataframe thead th {\n",
       "        text-align: right;\n",
       "    }\n",
       "</style>\n",
       "<table border=\"1\" class=\"dataframe\">\n",
       "  <thead>\n",
       "    <tr style=\"text-align: right;\">\n",
       "      <th></th>\n",
       "      <th>LOCATION</th>\n",
       "      <th>SHOT_NUMBER</th>\n",
       "      <th>DRIBBLES</th>\n",
       "      <th>TOUCH_TIME</th>\n",
       "      <th>SHOT_DIST</th>\n",
       "      <th>SHOT_RESULT</th>\n",
       "      <th>CLOSE_DEF_DIST</th>\n",
       "      <th>player_name</th>\n",
       "      <th>TIME_SPENT_QUATER_SEC</th>\n",
       "      <th>GAME_TIME_TOTAL</th>\n",
       "    </tr>\n",
       "  </thead>\n",
       "  <tbody>\n",
       "    <tr>\n",
       "      <th>0</th>\n",
       "      <td>0</td>\n",
       "      <td>1</td>\n",
       "      <td>2</td>\n",
       "      <td>1.9</td>\n",
       "      <td>7.7</td>\n",
       "      <td>1</td>\n",
       "      <td>1.3</td>\n",
       "      <td>brian roberts</td>\n",
       "      <td>651</td>\n",
       "      <td>651</td>\n",
       "    </tr>\n",
       "    <tr>\n",
       "      <th>1</th>\n",
       "      <td>0</td>\n",
       "      <td>2</td>\n",
       "      <td>0</td>\n",
       "      <td>0.8</td>\n",
       "      <td>28.2</td>\n",
       "      <td>0</td>\n",
       "      <td>6.1</td>\n",
       "      <td>brian roberts</td>\n",
       "      <td>706</td>\n",
       "      <td>706</td>\n",
       "    </tr>\n",
       "    <tr>\n",
       "      <th>3</th>\n",
       "      <td>0</td>\n",
       "      <td>4</td>\n",
       "      <td>2</td>\n",
       "      <td>1.9</td>\n",
       "      <td>17.2</td>\n",
       "      <td>0</td>\n",
       "      <td>3.4</td>\n",
       "      <td>brian roberts</td>\n",
       "      <td>13</td>\n",
       "      <td>733</td>\n",
       "    </tr>\n",
       "    <tr>\n",
       "      <th>4</th>\n",
       "      <td>0</td>\n",
       "      <td>5</td>\n",
       "      <td>2</td>\n",
       "      <td>2.7</td>\n",
       "      <td>3.7</td>\n",
       "      <td>0</td>\n",
       "      <td>1.1</td>\n",
       "      <td>brian roberts</td>\n",
       "      <td>86</td>\n",
       "      <td>806</td>\n",
       "    </tr>\n",
       "    <tr>\n",
       "      <th>5</th>\n",
       "      <td>0</td>\n",
       "      <td>6</td>\n",
       "      <td>2</td>\n",
       "      <td>4.4</td>\n",
       "      <td>18.4</td>\n",
       "      <td>0</td>\n",
       "      <td>2.6</td>\n",
       "      <td>brian roberts</td>\n",
       "      <td>225</td>\n",
       "      <td>945</td>\n",
       "    </tr>\n",
       "  </tbody>\n",
       "</table>\n",
       "</div>"
      ],
      "text/plain": [
       "   LOCATION  SHOT_NUMBER  DRIBBLES  TOUCH_TIME  SHOT_DIST  SHOT_RESULT  \\\n",
       "0         0            1         2         1.9        7.7            1   \n",
       "1         0            2         0         0.8       28.2            0   \n",
       "3         0            4         2         1.9       17.2            0   \n",
       "4         0            5         2         2.7        3.7            0   \n",
       "5         0            6         2         4.4       18.4            0   \n",
       "\n",
       "   CLOSE_DEF_DIST    player_name  TIME_SPENT_QUATER_SEC  GAME_TIME_TOTAL  \n",
       "0             1.3  brian roberts                    651              651  \n",
       "1             6.1  brian roberts                    706              706  \n",
       "3             3.4  brian roberts                     13              733  \n",
       "4             1.1  brian roberts                     86              806  \n",
       "5             2.6  brian roberts                    225              945  "
      ]
     },
     "execution_count": 56,
     "metadata": {},
     "output_type": "execute_result"
    }
   ],
   "source": [
    "#on one hot code les collonnes interresantes et drop le non intéressantes \n",
    "# Vérifier si SHOT_RESULT contient déjà des valeurs numériques\n",
    "if df['SHOT_RESULT'].dtype == 'object':\n",
    "    df['SHOT_RESULT'] = df['SHOT_RESULT'].map({'made': 1, 'missed': 0})\n",
    "\n",
    "# Vérifier si LOCATION contient déjà des valeurs numériques\n",
    "if df['LOCATION'].dtype == 'object':\n",
    "    df['LOCATION'] = df['LOCATION'].map({'H': 1, 'A': 0})\n",
    "\n",
    "\n",
    "df = df.drop([\n",
    "    'MATCHUP',\n",
    "    'W', \n",
    "    'GAME_ID',\n",
    "    'CLOSEST_DEFENDER',\n",
    "    'CLOSEST_DEFENDER_PLAYER_ID',\n",
    "    'FGM',\n",
    "    'PTS',\n",
    "    'player_id',\n",
    "    'PERIOD', \n",
    "    'GAME_CLOCK',\n",
    "    'PTS_TYPE',  # dépend de la distance au panier, déjà prise en compte\n",
    "    'FINAL_MARGIN',\n",
    "    'SHOT_CLOCK'\n",
    "], axis=1, errors='ignore')\n",
    "\n",
    "\n",
    "df.head()"
   ]
  },
  {
   "cell_type": "code",
   "execution_count": 92,
   "id": "4a91b366",
   "metadata": {},
   "outputs": [],
   "source": [
    "from sklearn.preprocessing import StandardScaler\n",
    "\n",
    "features = ['SHOT_CLOCK', 'DRIBBLES', 'TOUCH_TIME', 'SHOT_DIST', 'CLOSE_DEF_DIST', 'PERIOD', 'PTS_TYPE', 'LOCATION']\n",
    "scaler = StandardScaler()\n",
    "df[features] = scaler.fit_transform(df[features])\n"
   ]
  },
  {
   "cell_type": "code",
   "execution_count": 95,
   "id": "d5968cb7",
   "metadata": {},
   "outputs": [
    {
     "data": {
      "application/vnd.microsoft.datawrangler.viewer.v0+json": {
       "columns": [
        {
         "name": "index",
         "rawType": "object",
         "type": "string"
        },
        {
         "name": "LOCATION",
         "rawType": "float64",
         "type": "float"
        },
        {
         "name": "FINAL_MARGIN",
         "rawType": "float64",
         "type": "float"
        },
        {
         "name": "SHOT_NUMBER",
         "rawType": "float64",
         "type": "float"
        },
        {
         "name": "PERIOD",
         "rawType": "float64",
         "type": "float"
        },
        {
         "name": "SHOT_CLOCK",
         "rawType": "float64",
         "type": "float"
        },
        {
         "name": "DRIBBLES",
         "rawType": "float64",
         "type": "float"
        },
        {
         "name": "TOUCH_TIME",
         "rawType": "float64",
         "type": "float"
        },
        {
         "name": "SHOT_DIST",
         "rawType": "float64",
         "type": "float"
        },
        {
         "name": "PTS_TYPE",
         "rawType": "float64",
         "type": "float"
        },
        {
         "name": "SHOT_RESULT",
         "rawType": "float64",
         "type": "float"
        },
        {
         "name": "CLOSE_DEF_DIST",
         "rawType": "float64",
         "type": "float"
        }
       ],
       "ref": "22823b1b-4632-48a6-b235-1f612b7a6746",
       "rows": [
        [
         "count",
         "122502.0",
         "122502.0",
         "122502.0",
         "122502.0",
         "122502.0",
         "122502.0",
         "122502.0",
         "122502.0",
         "122502.0",
         "122502.0",
         "122502.0"
        ],
        [
         "mean",
         "-2.0045678395347883e-16",
         "0.252395879250951",
         "6.476163654470947",
         "6.009063315272108e-17",
         "-4.640203332256454e-16",
         "3.06253419928926e-17",
         "-1.0162045297641635e-16",
         "-4.547399265611325e-16",
         "-3.6750410391471116e-16",
         "0.4561558178641981",
         "1.6797536062768365e-16"
        ],
        [
         "std",
         "1.000004081591004",
         "13.311417832750926",
         "4.681245241463738",
         "1.0000040815910043",
         "1.000004081591004",
         "1.0000040815910043",
         "1.000004081591004",
         "1.0000040815910043",
         "1.000004081591004",
         "0.49807601106687754",
         "1.000004081591004"
        ],
        [
         "min",
         "-0.9989556644182024",
         "-53.0",
         "1.0",
         "-1.2931386456770324",
         "-2.1608228015387487",
         "-0.5831519082218621",
         "-34.91388621144632",
         "-1.5316895403922275",
         "-0.590227731973915",
         "0.0",
         "-1.497943754461392"
        ],
        [
         "25%",
         "-0.9989556644182024",
         "-8.0",
         "3.0",
         "-1.2931386456770324",
         "-0.7380123889395563",
         "-0.5831519082218621",
         "-0.6249787354657643",
         "-0.9962037762412252",
         "-0.590227731973915",
         "0.0",
         "-0.6620590918656877"
        ],
        [
         "50%",
         "-0.9989556644182024",
         "1.0",
         "5.0",
         "-0.4143214613795453",
         "-0.0266071826399598",
         "-0.28999773352504227",
         "-0.38827030121343303",
         "-0.004985446855327536",
         "-0.590227731973915",
         "0.0",
         "-0.15325973202482407"
        ],
        [
         "75%",
         "1.0010454273587863",
         "9.0",
         "9.0",
         "0.4644957229179417",
         "0.7325142265211946",
         "0.003156441171777671",
         "0.3218550015435606",
         "1.0204128249231872",
         "1.6942612924263531",
         "1.0",
         "0.42822525065044836"
        ],
        [
         "max",
         "1.0010454273587863",
         "53.0",
         "37.0",
         "3.97976446010789",
         "2.0035003572881562",
         "8.797781682076376",
         "7.490739010328448",
         "3.424402106537261",
         "1.6942612924263531",
         "1.0",
         "17.83643191949142"
        ]
       ],
       "shape": {
        "columns": 11,
        "rows": 8
       }
      },
      "text/html": [
       "<div>\n",
       "<style scoped>\n",
       "    .dataframe tbody tr th:only-of-type {\n",
       "        vertical-align: middle;\n",
       "    }\n",
       "\n",
       "    .dataframe tbody tr th {\n",
       "        vertical-align: top;\n",
       "    }\n",
       "\n",
       "    .dataframe thead th {\n",
       "        text-align: right;\n",
       "    }\n",
       "</style>\n",
       "<table border=\"1\" class=\"dataframe\">\n",
       "  <thead>\n",
       "    <tr style=\"text-align: right;\">\n",
       "      <th></th>\n",
       "      <th>LOCATION</th>\n",
       "      <th>FINAL_MARGIN</th>\n",
       "      <th>SHOT_NUMBER</th>\n",
       "      <th>PERIOD</th>\n",
       "      <th>SHOT_CLOCK</th>\n",
       "      <th>DRIBBLES</th>\n",
       "      <th>TOUCH_TIME</th>\n",
       "      <th>SHOT_DIST</th>\n",
       "      <th>PTS_TYPE</th>\n",
       "      <th>SHOT_RESULT</th>\n",
       "      <th>CLOSE_DEF_DIST</th>\n",
       "    </tr>\n",
       "  </thead>\n",
       "  <tbody>\n",
       "    <tr>\n",
       "      <th>count</th>\n",
       "      <td>1.225020e+05</td>\n",
       "      <td>122502.000000</td>\n",
       "      <td>122502.000000</td>\n",
       "      <td>1.225020e+05</td>\n",
       "      <td>1.225020e+05</td>\n",
       "      <td>1.225020e+05</td>\n",
       "      <td>1.225020e+05</td>\n",
       "      <td>1.225020e+05</td>\n",
       "      <td>1.225020e+05</td>\n",
       "      <td>122502.000000</td>\n",
       "      <td>1.225020e+05</td>\n",
       "    </tr>\n",
       "    <tr>\n",
       "      <th>mean</th>\n",
       "      <td>-2.004568e-16</td>\n",
       "      <td>0.252396</td>\n",
       "      <td>6.476164</td>\n",
       "      <td>6.009063e-17</td>\n",
       "      <td>-4.640203e-16</td>\n",
       "      <td>3.062534e-17</td>\n",
       "      <td>-1.016205e-16</td>\n",
       "      <td>-4.547399e-16</td>\n",
       "      <td>-3.675041e-16</td>\n",
       "      <td>0.456156</td>\n",
       "      <td>1.679754e-16</td>\n",
       "    </tr>\n",
       "    <tr>\n",
       "      <th>std</th>\n",
       "      <td>1.000004e+00</td>\n",
       "      <td>13.311418</td>\n",
       "      <td>4.681245</td>\n",
       "      <td>1.000004e+00</td>\n",
       "      <td>1.000004e+00</td>\n",
       "      <td>1.000004e+00</td>\n",
       "      <td>1.000004e+00</td>\n",
       "      <td>1.000004e+00</td>\n",
       "      <td>1.000004e+00</td>\n",
       "      <td>0.498076</td>\n",
       "      <td>1.000004e+00</td>\n",
       "    </tr>\n",
       "    <tr>\n",
       "      <th>min</th>\n",
       "      <td>-9.989557e-01</td>\n",
       "      <td>-53.000000</td>\n",
       "      <td>1.000000</td>\n",
       "      <td>-1.293139e+00</td>\n",
       "      <td>-2.160823e+00</td>\n",
       "      <td>-5.831519e-01</td>\n",
       "      <td>-3.491389e+01</td>\n",
       "      <td>-1.531690e+00</td>\n",
       "      <td>-5.902277e-01</td>\n",
       "      <td>0.000000</td>\n",
       "      <td>-1.497944e+00</td>\n",
       "    </tr>\n",
       "    <tr>\n",
       "      <th>25%</th>\n",
       "      <td>-9.989557e-01</td>\n",
       "      <td>-8.000000</td>\n",
       "      <td>3.000000</td>\n",
       "      <td>-1.293139e+00</td>\n",
       "      <td>-7.380124e-01</td>\n",
       "      <td>-5.831519e-01</td>\n",
       "      <td>-6.249787e-01</td>\n",
       "      <td>-9.962038e-01</td>\n",
       "      <td>-5.902277e-01</td>\n",
       "      <td>0.000000</td>\n",
       "      <td>-6.620591e-01</td>\n",
       "    </tr>\n",
       "    <tr>\n",
       "      <th>50%</th>\n",
       "      <td>-9.989557e-01</td>\n",
       "      <td>1.000000</td>\n",
       "      <td>5.000000</td>\n",
       "      <td>-4.143215e-01</td>\n",
       "      <td>-2.660718e-02</td>\n",
       "      <td>-2.899977e-01</td>\n",
       "      <td>-3.882703e-01</td>\n",
       "      <td>-4.985447e-03</td>\n",
       "      <td>-5.902277e-01</td>\n",
       "      <td>0.000000</td>\n",
       "      <td>-1.532597e-01</td>\n",
       "    </tr>\n",
       "    <tr>\n",
       "      <th>75%</th>\n",
       "      <td>1.001045e+00</td>\n",
       "      <td>9.000000</td>\n",
       "      <td>9.000000</td>\n",
       "      <td>4.644957e-01</td>\n",
       "      <td>7.325142e-01</td>\n",
       "      <td>3.156441e-03</td>\n",
       "      <td>3.218550e-01</td>\n",
       "      <td>1.020413e+00</td>\n",
       "      <td>1.694261e+00</td>\n",
       "      <td>1.000000</td>\n",
       "      <td>4.282253e-01</td>\n",
       "    </tr>\n",
       "    <tr>\n",
       "      <th>max</th>\n",
       "      <td>1.001045e+00</td>\n",
       "      <td>53.000000</td>\n",
       "      <td>37.000000</td>\n",
       "      <td>3.979764e+00</td>\n",
       "      <td>2.003500e+00</td>\n",
       "      <td>8.797782e+00</td>\n",
       "      <td>7.490739e+00</td>\n",
       "      <td>3.424402e+00</td>\n",
       "      <td>1.694261e+00</td>\n",
       "      <td>1.000000</td>\n",
       "      <td>1.783643e+01</td>\n",
       "    </tr>\n",
       "  </tbody>\n",
       "</table>\n",
       "</div>"
      ],
      "text/plain": [
       "           LOCATION   FINAL_MARGIN    SHOT_NUMBER        PERIOD    SHOT_CLOCK  \\\n",
       "count  1.225020e+05  122502.000000  122502.000000  1.225020e+05  1.225020e+05   \n",
       "mean  -2.004568e-16       0.252396       6.476164  6.009063e-17 -4.640203e-16   \n",
       "std    1.000004e+00      13.311418       4.681245  1.000004e+00  1.000004e+00   \n",
       "min   -9.989557e-01     -53.000000       1.000000 -1.293139e+00 -2.160823e+00   \n",
       "25%   -9.989557e-01      -8.000000       3.000000 -1.293139e+00 -7.380124e-01   \n",
       "50%   -9.989557e-01       1.000000       5.000000 -4.143215e-01 -2.660718e-02   \n",
       "75%    1.001045e+00       9.000000       9.000000  4.644957e-01  7.325142e-01   \n",
       "max    1.001045e+00      53.000000      37.000000  3.979764e+00  2.003500e+00   \n",
       "\n",
       "           DRIBBLES    TOUCH_TIME     SHOT_DIST      PTS_TYPE    SHOT_RESULT  \\\n",
       "count  1.225020e+05  1.225020e+05  1.225020e+05  1.225020e+05  122502.000000   \n",
       "mean   3.062534e-17 -1.016205e-16 -4.547399e-16 -3.675041e-16       0.456156   \n",
       "std    1.000004e+00  1.000004e+00  1.000004e+00  1.000004e+00       0.498076   \n",
       "min   -5.831519e-01 -3.491389e+01 -1.531690e+00 -5.902277e-01       0.000000   \n",
       "25%   -5.831519e-01 -6.249787e-01 -9.962038e-01 -5.902277e-01       0.000000   \n",
       "50%   -2.899977e-01 -3.882703e-01 -4.985447e-03 -5.902277e-01       0.000000   \n",
       "75%    3.156441e-03  3.218550e-01  1.020413e+00  1.694261e+00       1.000000   \n",
       "max    8.797782e+00  7.490739e+00  3.424402e+00  1.694261e+00       1.000000   \n",
       "\n",
       "       CLOSE_DEF_DIST  \n",
       "count    1.225020e+05  \n",
       "mean     1.679754e-16  \n",
       "std      1.000004e+00  \n",
       "min     -1.497944e+00  \n",
       "25%     -6.620591e-01  \n",
       "50%     -1.532597e-01  \n",
       "75%      4.282253e-01  \n",
       "max      1.783643e+01  "
      ]
     },
     "execution_count": 95,
     "metadata": {},
     "output_type": "execute_result"
    }
   ],
   "source": [
    "df.describe()\n"
   ]
  },
  {
   "cell_type": "markdown",
   "id": "732d2d69",
   "metadata": {},
   "source": [
    "On cherche à créer un dataset pour un ou deux jouers en particulier pour prédire leur prédiction de shot en particulier "
   ]
  },
  {
   "cell_type": "code",
   "execution_count": 57,
   "id": "79a7a76f",
   "metadata": {},
   "outputs": [
    {
     "name": "stdout",
     "output_type": "stream",
     "text": [
      "player_name\n",
      "lamarcus aldridge    1010\n",
      "james harden         1006\n",
      "mnta ellis           1004\n",
      "klay thompson         953\n",
      "lebron james          947\n",
      "                     ... \n",
      "mike miller            94\n",
      "joey dorsey            88\n",
      "alan crabbe            87\n",
      "jerome jordan          80\n",
      "greg smith             46\n",
      "Name: count, Length: 281, dtype: int64\n"
     ]
    }
   ],
   "source": [
    "print(df['player_name'].value_counts())"
   ]
  },
  {
   "cell_type": "code",
   "execution_count": 58,
   "id": "2f075f3b",
   "metadata": {},
   "outputs": [
    {
     "data": {
      "text/plain": [
       "np.int64(941)"
      ]
     },
     "execution_count": 58,
     "metadata": {},
     "output_type": "execute_result"
    }
   ],
   "source": [
    "df['player_name'].value_counts()['stephen curry']"
   ]
  },
  {
   "cell_type": "code",
   "execution_count": 65,
   "id": "8e0ae4d1",
   "metadata": {},
   "outputs": [],
   "source": [
    "# Dataset pour LeBron James\n",
    "# Dataset pour LeBron James\n",
    "df_lebron = df[df['player_name'] == 'lebron james'].drop(['player_name'], axis=1)\n",
    "\n",
    "# Dataset pour Stephen Curry\n",
    "df_curry = df[df['player_name'] == 'stephen curry'].drop(['player_name'], axis=1)"
   ]
  },
  {
   "cell_type": "code",
   "execution_count": 66,
   "id": "2516b98a",
   "metadata": {},
   "outputs": [
    {
     "data": {
      "application/vnd.microsoft.datawrangler.viewer.v0+json": {
       "columns": [
        {
         "name": "index",
         "rawType": "int64",
         "type": "integer"
        },
        {
         "name": "LOCATION",
         "rawType": "int64",
         "type": "integer"
        },
        {
         "name": "SHOT_NUMBER",
         "rawType": "int64",
         "type": "integer"
        },
        {
         "name": "DRIBBLES",
         "rawType": "int64",
         "type": "integer"
        },
        {
         "name": "TOUCH_TIME",
         "rawType": "float64",
         "type": "float"
        },
        {
         "name": "SHOT_DIST",
         "rawType": "float64",
         "type": "float"
        },
        {
         "name": "SHOT_RESULT",
         "rawType": "int64",
         "type": "integer"
        },
        {
         "name": "CLOSE_DEF_DIST",
         "rawType": "float64",
         "type": "float"
        },
        {
         "name": "TIME_SPENT_QUATER_SEC",
         "rawType": "int64",
         "type": "integer"
        },
        {
         "name": "GAME_TIME_TOTAL",
         "rawType": "int64",
         "type": "integer"
        }
       ],
       "ref": "b9ad76ce-3fdf-4589-a512-d59e04d7dcfc",
       "rows": [
        [
         "45834",
         "0",
         "1",
         "9",
         "9.5",
         "7.0",
         "0",
         "0.8",
         "171",
         "171"
        ],
        [
         "45835",
         "0",
         "2",
         "8",
         "7.9",
         "5.4",
         "0",
         "2.5",
         "352",
         "352"
        ],
        [
         "45836",
         "0",
         "3",
         "0",
         "5.6",
         "23.2",
         "1",
         "3.5",
         "442",
         "442"
        ],
        [
         "45838",
         "0",
         "5",
         "2",
         "2.7",
         "3.1",
         "1",
         "3.5",
         "103",
         "823"
        ],
        [
         "45839",
         "0",
         "6",
         "7",
         "8.3",
         "5.7",
         "0",
         "0.2",
         "346",
         "1066"
        ],
        [
         "45840",
         "0",
         "7",
         "0",
         "0.0",
         "2.9",
         "1",
         "1.3",
         "346",
         "1066"
        ],
        [
         "45841",
         "0",
         "8",
         "0",
         "7.0",
         "23.2",
         "0",
         "2.6",
         "246",
         "1686"
        ],
        [
         "45842",
         "0",
         "9",
         "0",
         "1.0",
         "23.9",
         "0",
         "7.5",
         "598",
         "2038"
        ],
        [
         "45843",
         "0",
         "10",
         "1",
         "2.6",
         "15.4",
         "1",
         "4.7",
         "628",
         "2068"
        ],
        [
         "45845",
         "0",
         "12",
         "8",
         "7.8",
         "5.3",
         "0",
         "2.5",
         "319",
         "2479"
        ],
        [
         "45846",
         "0",
         "13",
         "4",
         "2.8",
         "3.3",
         "1",
         "5.9",
         "365",
         "2525"
        ],
        [
         "45847",
         "0",
         "14",
         "0",
         "4.3",
         "25.9",
         "1",
         "4.2",
         "470",
         "2630"
        ],
        [
         "45848",
         "0",
         "15",
         "0",
         "1.4",
         "26.8",
         "1",
         "3.7",
         "511",
         "2671"
        ],
        [
         "45849",
         "0",
         "16",
         "22",
         "21.7",
         "2.6",
         "1",
         "4.2",
         "664",
         "2824"
        ],
        [
         "45850",
         "1",
         "1",
         "16",
         "14.3",
         "14.8",
         "1",
         "4.8",
         "51",
         "51"
        ],
        [
         "45851",
         "1",
         "2",
         "2",
         "4.9",
         "19.8",
         "0",
         "3.3",
         "123",
         "123"
        ],
        [
         "45852",
         "1",
         "3",
         "9",
         "6.7",
         "4.3",
         "1",
         "0.0",
         "246",
         "246"
        ],
        [
         "45853",
         "1",
         "4",
         "8",
         "10.1",
         "16.9",
         "1",
         "4.6",
         "403",
         "403"
        ],
        [
         "45854",
         "1",
         "5",
         "13",
         "11.4",
         "22.6",
         "0",
         "4.7",
         "598",
         "598"
        ],
        [
         "45855",
         "1",
         "6",
         "3",
         "2.5",
         "10.3",
         "1",
         "3.1",
         "605",
         "605"
        ],
        [
         "45856",
         "1",
         "7",
         "13",
         "11.7",
         "2.9",
         "1",
         "3.2",
         "647",
         "647"
        ],
        [
         "45857",
         "1",
         "8",
         "14",
         "14.2",
         "7.9",
         "0",
         "3.1",
         "701",
         "701"
        ],
        [
         "45858",
         "1",
         "9",
         "3",
         "10.1",
         "21.8",
         "1",
         "4.2",
         "19",
         "739"
        ],
        [
         "45859",
         "1",
         "10",
         "18",
         "17.9",
         "4.8",
         "0",
         "0.0",
         "65",
         "785"
        ],
        [
         "45860",
         "1",
         "11",
         "0",
         "0.0",
         "4.0",
         "0",
         "0.0",
         "66",
         "786"
        ],
        [
         "45861",
         "1",
         "12",
         "1",
         "2.2",
         "3.5",
         "1",
         "0.7",
         "116",
         "836"
        ],
        [
         "45862",
         "1",
         "13",
         "2",
         "2.2",
         "20.0",
         "0",
         "5.1",
         "139",
         "859"
        ],
        [
         "45863",
         "1",
         "14",
         "8",
         "7.2",
         "5.7",
         "1",
         "0.0",
         "603",
         "1323"
        ],
        [
         "45864",
         "1",
         "15",
         "4",
         "3.4",
         "2.1",
         "1",
         "8.8",
         "686",
         "1406"
        ],
        [
         "45866",
         "1",
         "17",
         "6",
         "4.4",
         "10.7",
         "0",
         "3.2",
         "42",
         "1482"
        ],
        [
         "45867",
         "1",
         "18",
         "2",
         "6.0",
         "2.1",
         "1",
         "1.0",
         "73",
         "1513"
        ],
        [
         "45868",
         "1",
         "19",
         "1",
         "1.3",
         "5.6",
         "1",
         "2.4",
         "249",
         "1689"
        ],
        [
         "45869",
         "1",
         "20",
         "0",
         "1.0",
         "1.2",
         "0",
         "6.7",
         "276",
         "1716"
        ],
        [
         "45870",
         "1",
         "21",
         "4",
         "5.1",
         "18.9",
         "1",
         "4.9",
         "358",
         "1798"
        ],
        [
         "45871",
         "1",
         "22",
         "9",
         "9.3",
         "5.8",
         "0",
         "1.3",
         "389",
         "1829"
        ],
        [
         "45872",
         "1",
         "23",
         "4",
         "10.4",
         "16.6",
         "0",
         "4.3",
         "408",
         "1848"
        ],
        [
         "45873",
         "0",
         "1",
         "3",
         "3.9",
         "2.7",
         "1",
         "1.1",
         "28",
         "28"
        ],
        [
         "45874",
         "0",
         "2",
         "3",
         "3.8",
         "9.3",
         "0",
         "3.2",
         "149",
         "149"
        ],
        [
         "45875",
         "0",
         "3",
         "10",
         "11.1",
         "4.3",
         "1",
         "2.0",
         "275",
         "275"
        ],
        [
         "45876",
         "0",
         "4",
         "1",
         "1.9",
         "5.8",
         "1",
         "2.5",
         "610",
         "610"
        ],
        [
         "45877",
         "0",
         "5",
         "18",
         "19.1",
         "25.1",
         "0",
         "4.7",
         "690",
         "690"
        ],
        [
         "45878",
         "0",
         "6",
         "0",
         "2.7",
         "26.0",
         "1",
         "5.7",
         "16",
         "736"
        ],
        [
         "45879",
         "0",
         "7",
         "1",
         "7.9",
         "4.1",
         "1",
         "2.1",
         "57",
         "777"
        ],
        [
         "45880",
         "0",
         "8",
         "0",
         "4.0",
         "27.9",
         "0",
         "7.4",
         "94",
         "814"
        ],
        [
         "45881",
         "0",
         "9",
         "0",
         "2.2",
         "7.7",
         "1",
         "15.9",
         "207",
         "927"
        ],
        [
         "45882",
         "0",
         "10",
         "0",
         "2.3",
         "12.8",
         "0",
         "2.4",
         "233",
         "953"
        ],
        [
         "45883",
         "0",
         "11",
         "12",
         "12.4",
         "11.9",
         "1",
         "4.2",
         "293",
         "1013"
        ],
        [
         "45884",
         "0",
         "12",
         "3",
         "4.3",
         "2.5",
         "0",
         "0.3",
         "590",
         "1310"
        ],
        [
         "45885",
         "0",
         "13",
         "0",
         "2.2",
         "7.4",
         "0",
         "1.8",
         "615",
         "1335"
        ],
        [
         "45886",
         "0",
         "14",
         "13",
         "14.8",
         "2.4",
         "0",
         "3.5",
         "675",
         "1395"
        ]
       ],
       "shape": {
        "columns": 9,
        "rows": 947
       }
      },
      "text/html": [
       "<div>\n",
       "<style scoped>\n",
       "    .dataframe tbody tr th:only-of-type {\n",
       "        vertical-align: middle;\n",
       "    }\n",
       "\n",
       "    .dataframe tbody tr th {\n",
       "        vertical-align: top;\n",
       "    }\n",
       "\n",
       "    .dataframe thead th {\n",
       "        text-align: right;\n",
       "    }\n",
       "</style>\n",
       "<table border=\"1\" class=\"dataframe\">\n",
       "  <thead>\n",
       "    <tr style=\"text-align: right;\">\n",
       "      <th></th>\n",
       "      <th>LOCATION</th>\n",
       "      <th>SHOT_NUMBER</th>\n",
       "      <th>DRIBBLES</th>\n",
       "      <th>TOUCH_TIME</th>\n",
       "      <th>SHOT_DIST</th>\n",
       "      <th>SHOT_RESULT</th>\n",
       "      <th>CLOSE_DEF_DIST</th>\n",
       "      <th>TIME_SPENT_QUATER_SEC</th>\n",
       "      <th>GAME_TIME_TOTAL</th>\n",
       "    </tr>\n",
       "  </thead>\n",
       "  <tbody>\n",
       "    <tr>\n",
       "      <th>45834</th>\n",
       "      <td>0</td>\n",
       "      <td>1</td>\n",
       "      <td>9</td>\n",
       "      <td>9.5</td>\n",
       "      <td>7.0</td>\n",
       "      <td>0</td>\n",
       "      <td>0.8</td>\n",
       "      <td>171</td>\n",
       "      <td>171</td>\n",
       "    </tr>\n",
       "    <tr>\n",
       "      <th>45835</th>\n",
       "      <td>0</td>\n",
       "      <td>2</td>\n",
       "      <td>8</td>\n",
       "      <td>7.9</td>\n",
       "      <td>5.4</td>\n",
       "      <td>0</td>\n",
       "      <td>2.5</td>\n",
       "      <td>352</td>\n",
       "      <td>352</td>\n",
       "    </tr>\n",
       "    <tr>\n",
       "      <th>45836</th>\n",
       "      <td>0</td>\n",
       "      <td>3</td>\n",
       "      <td>0</td>\n",
       "      <td>5.6</td>\n",
       "      <td>23.2</td>\n",
       "      <td>1</td>\n",
       "      <td>3.5</td>\n",
       "      <td>442</td>\n",
       "      <td>442</td>\n",
       "    </tr>\n",
       "    <tr>\n",
       "      <th>45838</th>\n",
       "      <td>0</td>\n",
       "      <td>5</td>\n",
       "      <td>2</td>\n",
       "      <td>2.7</td>\n",
       "      <td>3.1</td>\n",
       "      <td>1</td>\n",
       "      <td>3.5</td>\n",
       "      <td>103</td>\n",
       "      <td>823</td>\n",
       "    </tr>\n",
       "    <tr>\n",
       "      <th>45839</th>\n",
       "      <td>0</td>\n",
       "      <td>6</td>\n",
       "      <td>7</td>\n",
       "      <td>8.3</td>\n",
       "      <td>5.7</td>\n",
       "      <td>0</td>\n",
       "      <td>0.2</td>\n",
       "      <td>346</td>\n",
       "      <td>1066</td>\n",
       "    </tr>\n",
       "    <tr>\n",
       "      <th>...</th>\n",
       "      <td>...</td>\n",
       "      <td>...</td>\n",
       "      <td>...</td>\n",
       "      <td>...</td>\n",
       "      <td>...</td>\n",
       "      <td>...</td>\n",
       "      <td>...</td>\n",
       "      <td>...</td>\n",
       "      <td>...</td>\n",
       "    </tr>\n",
       "    <tr>\n",
       "      <th>46807</th>\n",
       "      <td>1</td>\n",
       "      <td>11</td>\n",
       "      <td>0</td>\n",
       "      <td>1.1</td>\n",
       "      <td>3.8</td>\n",
       "      <td>1</td>\n",
       "      <td>8.1</td>\n",
       "      <td>488</td>\n",
       "      <td>1928</td>\n",
       "    </tr>\n",
       "    <tr>\n",
       "      <th>46808</th>\n",
       "      <td>1</td>\n",
       "      <td>12</td>\n",
       "      <td>4</td>\n",
       "      <td>5.9</td>\n",
       "      <td>10.5</td>\n",
       "      <td>0</td>\n",
       "      <td>6.2</td>\n",
       "      <td>680</td>\n",
       "      <td>2120</td>\n",
       "    </tr>\n",
       "    <tr>\n",
       "      <th>46809</th>\n",
       "      <td>1</td>\n",
       "      <td>13</td>\n",
       "      <td>0</td>\n",
       "      <td>1.7</td>\n",
       "      <td>27.5</td>\n",
       "      <td>0</td>\n",
       "      <td>4.5</td>\n",
       "      <td>268</td>\n",
       "      <td>2428</td>\n",
       "    </tr>\n",
       "    <tr>\n",
       "      <th>46810</th>\n",
       "      <td>1</td>\n",
       "      <td>14</td>\n",
       "      <td>0</td>\n",
       "      <td>0.7</td>\n",
       "      <td>0.9</td>\n",
       "      <td>1</td>\n",
       "      <td>3.6</td>\n",
       "      <td>443</td>\n",
       "      <td>2603</td>\n",
       "    </tr>\n",
       "    <tr>\n",
       "      <th>46811</th>\n",
       "      <td>1</td>\n",
       "      <td>15</td>\n",
       "      <td>1</td>\n",
       "      <td>2.5</td>\n",
       "      <td>4.2</td>\n",
       "      <td>1</td>\n",
       "      <td>1.1</td>\n",
       "      <td>674</td>\n",
       "      <td>2834</td>\n",
       "    </tr>\n",
       "  </tbody>\n",
       "</table>\n",
       "<p>947 rows × 9 columns</p>\n",
       "</div>"
      ],
      "text/plain": [
       "       LOCATION  SHOT_NUMBER  DRIBBLES  TOUCH_TIME  SHOT_DIST  SHOT_RESULT  \\\n",
       "45834         0            1         9         9.5        7.0            0   \n",
       "45835         0            2         8         7.9        5.4            0   \n",
       "45836         0            3         0         5.6       23.2            1   \n",
       "45838         0            5         2         2.7        3.1            1   \n",
       "45839         0            6         7         8.3        5.7            0   \n",
       "...         ...          ...       ...         ...        ...          ...   \n",
       "46807         1           11         0         1.1        3.8            1   \n",
       "46808         1           12         4         5.9       10.5            0   \n",
       "46809         1           13         0         1.7       27.5            0   \n",
       "46810         1           14         0         0.7        0.9            1   \n",
       "46811         1           15         1         2.5        4.2            1   \n",
       "\n",
       "       CLOSE_DEF_DIST  TIME_SPENT_QUATER_SEC  GAME_TIME_TOTAL  \n",
       "45834             0.8                    171              171  \n",
       "45835             2.5                    352              352  \n",
       "45836             3.5                    442              442  \n",
       "45838             3.5                    103              823  \n",
       "45839             0.2                    346             1066  \n",
       "...               ...                    ...              ...  \n",
       "46807             8.1                    488             1928  \n",
       "46808             6.2                    680             2120  \n",
       "46809             4.5                    268             2428  \n",
       "46810             3.6                    443             2603  \n",
       "46811             1.1                    674             2834  \n",
       "\n",
       "[947 rows x 9 columns]"
      ]
     },
     "execution_count": 66,
     "metadata": {},
     "output_type": "execute_result"
    }
   ],
   "source": [
    "df_lebron"
   ]
  },
  {
   "cell_type": "code",
   "execution_count": 67,
   "id": "f06aca3d",
   "metadata": {},
   "outputs": [
    {
     "data": {
      "image/png": "[encoded data removed]",
      "text/plain": [
       "<Figure size 800x600 with 2 Axes>"
      ]
     },
     "metadata": {},
     "output_type": "display_data"
    }
   ],
   "source": [
    "corr_matrix = df_curry.corr(numeric_only=True)\n",
    "\n",
    "corr_matrix\n",
    "plt.figure(figsize=(8,6))\n",
    "sns.heatmap(corr_matrix, annot=True, cmap='coolwarm', fmt=\".2f\")\n",
    "plt.title('Matrice de corrélation Curry dataset')\n",
    "plt.show()\n"
   ]
  },
  {
   "cell_type": "code",
   "execution_count": 68,
   "id": "77c8cb8d",
   "metadata": {},
   "outputs": [
    {
     "data": {
      "image/png": "[encoded data removed]",
      "text/plain": [
       "<Figure size 800x600 with 2 Axes>"
      ]
     },
     "metadata": {},
     "output_type": "display_data"
    }
   ],
   "source": [
    "corr_matrix = df_lebron.corr(numeric_only=True)\n",
    "\n",
    "corr_matrix\n",
    "plt.figure(figsize=(8,6))\n",
    "sns.heatmap(corr_matrix, annot=True, cmap='coolwarm', fmt=\".2f\")\n",
    "plt.title('Matrice de corrélation Lebron dataset')\n",
    "plt.show()\n"
   ]
  },
  {
   "cell_type": "markdown",
   "id": "b3cb50a6",
   "metadata": {},
   "source": [
    "GAME_TIME_TOTAL et SHOT_NUMBER.\n",
    "Cela paraît logique : plus le temps s’écoule, plus un joueur a d’occasions de tirer.\n",
    "Toutefois, il peut être intéressant de conserver ces deux variables, car certains joueurs (les remplaçants) disposent de moins de temps de jeu et donc d’un nombre de tirs plus limité. Leur profil de tir peut différer sensiblement de celui des titulaires. On pourras retirer pour nos jeux de donnés dans un second temps.\n",
    "\n",
    "TOUCH_TIME et DRIBBLES montrent également une corrélation naturelle :\n",
    "plus un joueur dribble, plus il conserve la balle longtemps.\n",
    "Néanmoins, cette relation reste intéressante à analyser, car elle peut révéler des différences d’efficacité selon le style de jeu : par exemple, déterminer si un joueur marque davantage après plusieurs dribbles ou sur réception directe (catch-and-shoot)."
   ]
  },
  {
   "cell_type": "markdown",
   "id": "5cc220d8",
   "metadata": {},
   "source": [
    "TODO standariser les donnees et convertir les pieds en mètres"
   ]
  }
 ],
 "metadata": {
  "kernelspec": {
   "display_name": "Python 3",
   "language": "python",
   "name": "python3"
  },
  "language_info": {
   "codemirror_mode": {
    "name": "ipython",
    "version": 3
   },
   "file_extension": ".py",
   "mimetype": "text/x-python",
   "name": "python",
   "nbconvert_exporter": "python",
   "pygments_lexer": "ipython3",
   "version": "3.12.2"
  }
 },
 "nbformat": 4,
 "nbformat_minor": 5
}
