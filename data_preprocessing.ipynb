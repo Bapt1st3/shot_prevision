{
 "cells": [
  {
   "cell_type": "markdown",
   "id": "c0377935",
   "metadata": {},
   "source": [
    "# Import des données et exploration"
   ]
  },
  {
   "cell_type": "code",
   "execution_count": 37,
   "id": "f0be263e",
   "metadata": {},
   "outputs": [],
   "source": [
    "import pandas as pd\n",
    "import numpy as np\n",
    "import matplotlib.pyplot as plt\n",
    "from scipy.stats import zscore\n",
    "import seaborn as sns\n",
    "from sklearn.preprocessing import StandardScaler"
   ]
  },
  {
   "cell_type": "code",
   "execution_count": 38,
   "id": "d84e9ea0",
   "metadata": {},
   "outputs": [],
   "source": [
    "csv_path = \"archive/shot_logs.csv\"  \n",
    "df = pd.read_csv(csv_path, encoding='utf-8')"
   ]
  },
  {
   "cell_type": "code",
   "execution_count": 39,
   "id": "27f77f0e",
   "metadata": {},
   "outputs": [
    {
     "data": {
      "application/vnd.microsoft.datawrangler.viewer.v0+json": {
       "columns": [
        {
         "name": "index",
         "rawType": "int64",
         "type": "integer"
        },
        {
         "name": "GAME_ID",
         "rawType": "int64",
         "type": "integer"
        },
        {
         "name": "MATCHUP",
         "rawType": "object",
         "type": "string"
        },
        {
         "name": "LOCATION",
         "rawType": "object",
         "type": "string"
        },
        {
         "name": "W",
         "rawType": "object",
         "type": "string"
        },
        {
         "name": "FINAL_MARGIN",
         "rawType": "int64",
         "type": "integer"
        },
        {
         "name": "SHOT_NUMBER",
         "rawType": "int64",
         "type": "integer"
        },
        {
         "name": "PERIOD",
         "rawType": "int64",
         "type": "integer"
        },
        {
         "name": "GAME_CLOCK",
         "rawType": "object",
         "type": "string"
        },
        {
         "name": "SHOT_CLOCK",
         "rawType": "float64",
         "type": "float"
        },
        {
         "name": "DRIBBLES",
         "rawType": "int64",
         "type": "integer"
        },
        {
         "name": "TOUCH_TIME",
         "rawType": "float64",
         "type": "float"
        },
        {
         "name": "SHOT_DIST",
         "rawType": "float64",
         "type": "float"
        },
        {
         "name": "PTS_TYPE",
         "rawType": "int64",
         "type": "integer"
        },
        {
         "name": "SHOT_RESULT",
         "rawType": "object",
         "type": "string"
        },
        {
         "name": "CLOSEST_DEFENDER",
         "rawType": "object",
         "type": "string"
        },
        {
         "name": "CLOSEST_DEFENDER_PLAYER_ID",
         "rawType": "int64",
         "type": "integer"
        },
        {
         "name": "CLOSE_DEF_DIST",
         "rawType": "float64",
         "type": "float"
        },
        {
         "name": "FGM",
         "rawType": "int64",
         "type": "integer"
        },
        {
         "name": "PTS",
         "rawType": "int64",
         "type": "integer"
        },
        {
         "name": "player_name",
         "rawType": "object",
         "type": "string"
        },
        {
         "name": "player_id",
         "rawType": "int64",
         "type": "integer"
        }
       ],
       "ref": "cb2d1d1e-7b97-4371-b127-4f98e2467a0f",
       "rows": [
        [
         "0",
         "21400899",
         "MAR 04, 2015 - CHA @ BKN",
         "A",
         "W",
         "24",
         "1",
         "1",
         "1:09",
         "10.8",
         "2",
         "1.9",
         "7.7",
         "2",
         "made",
         "Anderson, Alan",
         "101187",
         "1.3",
         "1",
         "2",
         "brian roberts",
         "203148"
        ],
        [
         "1",
         "21400899",
         "MAR 04, 2015 - CHA @ BKN",
         "A",
         "W",
         "24",
         "2",
         "1",
         "0:14",
         "3.4",
         "0",
         "0.8",
         "28.2",
         "3",
         "missed",
         "Bogdanovic, Bojan",
         "202711",
         "6.1",
         "0",
         "0",
         "brian roberts",
         "203148"
        ],
        [
         "2",
         "21400899",
         "MAR 04, 2015 - CHA @ BKN",
         "A",
         "W",
         "24",
         "3",
         "1",
         "0:00",
         null,
         "3",
         "2.7",
         "10.1",
         "2",
         "missed",
         "Bogdanovic, Bojan",
         "202711",
         "0.9",
         "0",
         "0",
         "brian roberts",
         "203148"
        ],
        [
         "3",
         "21400899",
         "MAR 04, 2015 - CHA @ BKN",
         "A",
         "W",
         "24",
         "4",
         "2",
         "11:47",
         "10.3",
         "2",
         "1.9",
         "17.2",
         "2",
         "missed",
         "Brown, Markel",
         "203900",
         "3.4",
         "0",
         "0",
         "brian roberts",
         "203148"
        ],
        [
         "4",
         "21400899",
         "MAR 04, 2015 - CHA @ BKN",
         "A",
         "W",
         "24",
         "5",
         "2",
         "10:34",
         "10.9",
         "2",
         "2.7",
         "3.7",
         "2",
         "missed",
         "Young, Thaddeus",
         "201152",
         "1.1",
         "0",
         "0",
         "brian roberts",
         "203148"
        ]
       ],
       "shape": {
        "columns": 21,
        "rows": 5
       }
      },
      "text/html": [
       "<div>\n",
       "<style scoped>\n",
       "    .dataframe tbody tr th:only-of-type {\n",
       "        vertical-align: middle;\n",
       "    }\n",
       "\n",
       "    .dataframe tbody tr th {\n",
       "        vertical-align: top;\n",
       "    }\n",
       "\n",
       "    .dataframe thead th {\n",
       "        text-align: right;\n",
       "    }\n",
       "</style>\n",
       "<table border=\"1\" class=\"dataframe\">\n",
       "  <thead>\n",
       "    <tr style=\"text-align: right;\">\n",
       "      <th></th>\n",
       "      <th>GAME_ID</th>\n",
       "      <th>MATCHUP</th>\n",
       "      <th>LOCATION</th>\n",
       "      <th>W</th>\n",
       "      <th>FINAL_MARGIN</th>\n",
       "      <th>SHOT_NUMBER</th>\n",
       "      <th>PERIOD</th>\n",
       "      <th>GAME_CLOCK</th>\n",
       "      <th>SHOT_CLOCK</th>\n",
       "      <th>DRIBBLES</th>\n",
       "      <th>...</th>\n",
       "      <th>SHOT_DIST</th>\n",
       "      <th>PTS_TYPE</th>\n",
       "      <th>SHOT_RESULT</th>\n",
       "      <th>CLOSEST_DEFENDER</th>\n",
       "      <th>CLOSEST_DEFENDER_PLAYER_ID</th>\n",
       "      <th>CLOSE_DEF_DIST</th>\n",
       "      <th>FGM</th>\n",
       "      <th>PTS</th>\n",
       "      <th>player_name</th>\n",
       "      <th>player_id</th>\n",
       "    </tr>\n",
       "  </thead>\n",
       "  <tbody>\n",
       "    <tr>\n",
       "      <th>0</th>\n",
       "      <td>21400899</td>\n",
       "      <td>MAR 04, 2015 - CHA @ BKN</td>\n",
       "      <td>A</td>\n",
       "      <td>W</td>\n",
       "      <td>24</td>\n",
       "      <td>1</td>\n",
       "      <td>1</td>\n",
       "      <td>1:09</td>\n",
       "      <td>10.8</td>\n",
       "      <td>2</td>\n",
       "      <td>...</td>\n",
       "      <td>7.7</td>\n",
       "      <td>2</td>\n",
       "      <td>made</td>\n",
       "      <td>Anderson, Alan</td>\n",
       "      <td>101187</td>\n",
       "      <td>1.3</td>\n",
       "      <td>1</td>\n",
       "      <td>2</td>\n",
       "      <td>brian roberts</td>\n",
       "      <td>203148</td>\n",
       "    </tr>\n",
       "    <tr>\n",
       "      <th>1</th>\n",
       "      <td>21400899</td>\n",
       "      <td>MAR 04, 2015 - CHA @ BKN</td>\n",
       "      <td>A</td>\n",
       "      <td>W</td>\n",
       "      <td>24</td>\n",
       "      <td>2</td>\n",
       "      <td>1</td>\n",
       "      <td>0:14</td>\n",
       "      <td>3.4</td>\n",
       "      <td>0</td>\n",
       "      <td>...</td>\n",
       "      <td>28.2</td>\n",
       "      <td>3</td>\n",
       "      <td>missed</td>\n",
       "      <td>Bogdanovic, Bojan</td>\n",
       "      <td>202711</td>\n",
       "      <td>6.1</td>\n",
       "      <td>0</td>\n",
       "      <td>0</td>\n",
       "      <td>brian roberts</td>\n",
       "      <td>203148</td>\n",
       "    </tr>\n",
       "    <tr>\n",
       "      <th>2</th>\n",
       "      <td>21400899</td>\n",
       "      <td>MAR 04, 2015 - CHA @ BKN</td>\n",
       "      <td>A</td>\n",
       "      <td>W</td>\n",
       "      <td>24</td>\n",
       "      <td>3</td>\n",
       "      <td>1</td>\n",
       "      <td>0:00</td>\n",
       "      <td>NaN</td>\n",
       "      <td>3</td>\n",
       "      <td>...</td>\n",
       "      <td>10.1</td>\n",
       "      <td>2</td>\n",
       "      <td>missed</td>\n",
       "      <td>Bogdanovic, Bojan</td>\n",
       "      <td>202711</td>\n",
       "      <td>0.9</td>\n",
       "      <td>0</td>\n",
       "      <td>0</td>\n",
       "      <td>brian roberts</td>\n",
       "      <td>203148</td>\n",
       "    </tr>\n",
       "    <tr>\n",
       "      <th>3</th>\n",
       "      <td>21400899</td>\n",
       "      <td>MAR 04, 2015 - CHA @ BKN</td>\n",
       "      <td>A</td>\n",
       "      <td>W</td>\n",
       "      <td>24</td>\n",
       "      <td>4</td>\n",
       "      <td>2</td>\n",
       "      <td>11:47</td>\n",
       "      <td>10.3</td>\n",
       "      <td>2</td>\n",
       "      <td>...</td>\n",
       "      <td>17.2</td>\n",
       "      <td>2</td>\n",
       "      <td>missed</td>\n",
       "      <td>Brown, Markel</td>\n",
       "      <td>203900</td>\n",
       "      <td>3.4</td>\n",
       "      <td>0</td>\n",
       "      <td>0</td>\n",
       "      <td>brian roberts</td>\n",
       "      <td>203148</td>\n",
       "    </tr>\n",
       "    <tr>\n",
       "      <th>4</th>\n",
       "      <td>21400899</td>\n",
       "      <td>MAR 04, 2015 - CHA @ BKN</td>\n",
       "      <td>A</td>\n",
       "      <td>W</td>\n",
       "      <td>24</td>\n",
       "      <td>5</td>\n",
       "      <td>2</td>\n",
       "      <td>10:34</td>\n",
       "      <td>10.9</td>\n",
       "      <td>2</td>\n",
       "      <td>...</td>\n",
       "      <td>3.7</td>\n",
       "      <td>2</td>\n",
       "      <td>missed</td>\n",
       "      <td>Young, Thaddeus</td>\n",
       "      <td>201152</td>\n",
       "      <td>1.1</td>\n",
       "      <td>0</td>\n",
       "      <td>0</td>\n",
       "      <td>brian roberts</td>\n",
       "      <td>203148</td>\n",
       "    </tr>\n",
       "  </tbody>\n",
       "</table>\n",
       "<p>5 rows × 21 columns</p>\n",
       "</div>"
      ],
      "text/plain": [
       "    GAME_ID                   MATCHUP LOCATION  W  FINAL_MARGIN  SHOT_NUMBER  \\\n",
       "0  21400899  MAR 04, 2015 - CHA @ BKN        A  W            24            1   \n",
       "1  21400899  MAR 04, 2015 - CHA @ BKN        A  W            24            2   \n",
       "2  21400899  MAR 04, 2015 - CHA @ BKN        A  W            24            3   \n",
       "3  21400899  MAR 04, 2015 - CHA @ BKN        A  W            24            4   \n",
       "4  21400899  MAR 04, 2015 - CHA @ BKN        A  W            24            5   \n",
       "\n",
       "   PERIOD GAME_CLOCK  SHOT_CLOCK  DRIBBLES  ...  SHOT_DIST  PTS_TYPE  \\\n",
       "0       1       1:09        10.8         2  ...        7.7         2   \n",
       "1       1       0:14         3.4         0  ...       28.2         3   \n",
       "2       1       0:00         NaN         3  ...       10.1         2   \n",
       "3       2      11:47        10.3         2  ...       17.2         2   \n",
       "4       2      10:34        10.9         2  ...        3.7         2   \n",
       "\n",
       "   SHOT_RESULT   CLOSEST_DEFENDER CLOSEST_DEFENDER_PLAYER_ID  CLOSE_DEF_DIST  \\\n",
       "0         made     Anderson, Alan                     101187             1.3   \n",
       "1       missed  Bogdanovic, Bojan                     202711             6.1   \n",
       "2       missed  Bogdanovic, Bojan                     202711             0.9   \n",
       "3       missed      Brown, Markel                     203900             3.4   \n",
       "4       missed    Young, Thaddeus                     201152             1.1   \n",
       "\n",
       "   FGM  PTS    player_name player_id  \n",
       "0    1    2  brian roberts    203148  \n",
       "1    0    0  brian roberts    203148  \n",
       "2    0    0  brian roberts    203148  \n",
       "3    0    0  brian roberts    203148  \n",
       "4    0    0  brian roberts    203148  \n",
       "\n",
       "[5 rows x 21 columns]"
      ]
     },
     "execution_count": 39,
     "metadata": {},
     "output_type": "execute_result"
    }
   ],
   "source": [
    "df.head()\n"
   ]
  },
  {
   "cell_type": "markdown",
   "id": "e6a5d1b1",
   "metadata": {},
   "source": [
    "| **Nom de la colonne**          | **Description**                                                                                                |\n",
    "| ------------------------------ | -------------------------------------------------------------------------------------------------------------- |\n",
    "| **SHOT_CLOCK**                 | Temps restant sur l’horloge des tirs (en secondes) au moment du tir. Peut être manquant sur certaines actions. |\n",
    "| **MATCHUP**                    | Indique le match joué, souvent sous la forme `\"LAL vs GSW\"` ou `\"GSW @ LAL\"`.                                  |\n",
    "| **LOCATION**                   | Désigne si l’équipe du joueur jouait à domicile (`HOME`) ou à l’extérieur (`AWAY`).                            |\n",
    "| **W**                          | Résultat final du match pour l’équipe du joueur : `W` = victoire, `L` = défaite.                               |\n",
    "| **GAME_ID**                    | Identifiant unique du match dans la base de données NBA.                                                       |\n",
    "| **FINAL_MARGIN**               | Écart de points final du match (positif = victoire, négatif = défaite).                                        |\n",
    "| **SHOT_NUMBER**                | Numéro d’ordre du tir tenté par le joueur dans le match (1er tir, 2e tir, etc.).                               |\n",
    "| **PERIOD**                     | Quart-temps dans lequel le tir a eu lieu (1 à 4, parfois plus pour les prolongations).                         |\n",
    "| **GAME_CLOCK**                 | Temps restant dans le quart-temps au moment du tir (format `MM:SS`).                                           |\n",
    "| **DRIBBLES**                   | Nombre de dribbles effectués par le joueur avant de tirer.                                                     |\n",
    "| **TOUCH_TIME**                 | Durée (en secondes) pendant laquelle le joueur a eu la balle avant de tirer.                                   |\n",
    "| **SHOT_DIST**                  | Distance du tir par rapport au panier (en pieds).                                                              |\n",
    "| **PTS_TYPE**                   | Type de tir : `2` pour un tir à 2 points, `3` pour un tir à 3 points.                                          |\n",
    "| **SHOT_RESULT**                | Résultat du tir : `\"Made\"` = réussi, `\"Missed\"` = raté.                                                        |\n",
    "| **CLOSEST_DEFENDER**           | Nom du défenseur le plus proche au moment du tir.                                                              |\n",
    "| **CLOSEST_DEFENDER_PLAYER_ID** | Identifiant du défenseur le plus proche.                                                                       |\n",
    "| **CLOSE_DEF_DIST**             | Distance (en pieds) entre le tireur et le défenseur le plus proche.                                            |\n",
    "| **FGM**                        | *Field Goal Made* : 1 si le tir est marqué, 0 sinon.                                                           |\n",
    "| **PTS**                        | Nombre de points marqués sur l’action (0, 2 ou 3).                                                             |\n",
    "| **player_name**                | Nom du joueur qui a tenté le tir.                                                                              |\n",
    "| **player_id**                  | Identifiant unique du joueur dans la base NBA.                                                                 |\n"
   ]
  },
  {
   "cell_type": "code",
   "execution_count": 40,
   "id": "c246eb7a",
   "metadata": {},
   "outputs": [
    {
     "name": "stdout",
     "output_type": "stream",
     "text": [
      "shape : (128069, 21)\n",
      "GAME_ID                         int64\n",
      "MATCHUP                        object\n",
      "LOCATION                       object\n",
      "W                              object\n",
      "FINAL_MARGIN                    int64\n",
      "SHOT_NUMBER                     int64\n",
      "PERIOD                          int64\n",
      "GAME_CLOCK                     object\n",
      "SHOT_CLOCK                    float64\n",
      "DRIBBLES                        int64\n",
      "TOUCH_TIME                    float64\n",
      "SHOT_DIST                     float64\n",
      "PTS_TYPE                        int64\n",
      "SHOT_RESULT                    object\n",
      "CLOSEST_DEFENDER               object\n",
      "CLOSEST_DEFENDER_PLAYER_ID      int64\n",
      "CLOSE_DEF_DIST                float64\n",
      "FGM                             int64\n",
      "PTS                             int64\n",
      "player_name                    object\n",
      "player_id                       int64\n",
      "dtype: object\n"
     ]
    }
   ],
   "source": [
    "print(\"shape :\" ,df.shape)\n",
    "print(df.dtypes)"
   ]
  },
  {
   "cell_type": "code",
   "execution_count": 41,
   "id": "5bb45f51",
   "metadata": {},
   "outputs": [],
   "source": [
    "def check_na():\n",
    "    print(\"\\n=== VALEURS MANQUANTES ===\")\n",
    "    na_counts = df.isna().sum()\n",
    "    na_pct = (na_counts / len(df)) * 100\n",
    "    na_summary = pd.DataFrame({'missing': na_counts, 'missing_%': na_pct.round(2)})\n",
    "    print(na_summary.sort_values(by='missing_%', ascending=False))"
   ]
  },
  {
   "cell_type": "code",
   "execution_count": 42,
   "id": "1ca59052",
   "metadata": {},
   "outputs": [
    {
     "name": "stdout",
     "output_type": "stream",
     "text": [
      "\n",
      "=== VALEURS MANQUANTES ===\n",
      "                            missing  missing_%\n",
      "SHOT_CLOCK                     5567       4.35\n",
      "MATCHUP                           0       0.00\n",
      "LOCATION                          0       0.00\n",
      "W                                 0       0.00\n",
      "GAME_ID                           0       0.00\n",
      "FINAL_MARGIN                      0       0.00\n",
      "SHOT_NUMBER                       0       0.00\n",
      "PERIOD                            0       0.00\n",
      "GAME_CLOCK                        0       0.00\n",
      "DRIBBLES                          0       0.00\n",
      "TOUCH_TIME                        0       0.00\n",
      "SHOT_DIST                         0       0.00\n",
      "PTS_TYPE                          0       0.00\n",
      "SHOT_RESULT                       0       0.00\n",
      "CLOSEST_DEFENDER                  0       0.00\n",
      "CLOSEST_DEFENDER_PLAYER_ID        0       0.00\n",
      "CLOSE_DEF_DIST                    0       0.00\n",
      "FGM                               0       0.00\n",
      "PTS                               0       0.00\n",
      "player_name                       0       0.00\n",
      "player_id                         0       0.00\n",
      "\n",
      "SHOT_RESULT\n",
      "missed    70164\n",
      "made      57905\n",
      "Name: count, dtype: int64\n"
     ]
    }
   ],
   "source": [
    "check_na()\n",
    "print()\n",
    "print(df['SHOT_RESULT'].value_counts())"
   ]
  },
  {
   "cell_type": "code",
   "execution_count": 43,
   "id": "3dc74f57",
   "metadata": {},
   "outputs": [
    {
     "data": {
      "application/vnd.microsoft.datawrangler.viewer.v0+json": {
       "columns": [
        {
         "name": "PTS_TYPE",
         "rawType": "int64",
         "type": "integer"
        },
        {
         "name": "count",
         "rawType": "int64",
         "type": "integer"
        }
       ],
       "ref": "d3fdbb66-d31f-4112-a803-bb7c8b60389c",
       "rows": [
        [
         "2",
         "3321"
        ],
        [
         "3",
         "2246"
        ]
       ],
       "shape": {
        "columns": 1,
        "rows": 2
       }
      },
      "text/plain": [
       "PTS_TYPE\n",
       "2    3321\n",
       "3    2246\n",
       "Name: count, dtype: int64"
      ]
     },
     "execution_count": 43,
     "metadata": {},
     "output_type": "execute_result"
    }
   ],
   "source": [
    "#pourquoi shot_clock a parfois des valuers manquantes ? \n",
    "\n",
    "#h1 se sont les fautes (lancés frants) ou quel cas on devrais avoir de pts_types a 1 (faux)\n",
    "df[df['SHOT_CLOCK'].isna()]['PTS_TYPE'].value_counts()"
   ]
  },
  {
   "cell_type": "code",
   "execution_count": 44,
   "id": "cc7183fb",
   "metadata": {},
   "outputs": [
    {
     "data": {
      "application/vnd.microsoft.datawrangler.viewer.v0+json": {
       "columns": [
        {
         "name": "PERIOD",
         "rawType": "int64",
         "type": "integer"
        },
        {
         "name": "count",
         "rawType": "int64",
         "type": "integer"
        }
       ],
       "ref": "5ea1addd-d930-4d8e-9823-ce89a0d182f7",
       "rows": [
        [
         "1",
         "1578"
        ],
        [
         "2",
         "1503"
        ],
        [
         "4",
         "1182"
        ],
        [
         "3",
         "1179"
        ],
        [
         "5",
         "103"
        ],
        [
         "6",
         "19"
        ],
        [
         "7",
         "3"
        ]
       ],
       "shape": {
        "columns": 1,
        "rows": 7
       }
      },
      "text/plain": [
       "PERIOD\n",
       "1    1578\n",
       "2    1503\n",
       "4    1182\n",
       "3    1179\n",
       "5     103\n",
       "6      19\n",
       "7       3\n",
       "Name: count, dtype: int64"
      ]
     },
     "execution_count": 44,
     "metadata": {},
     "output_type": "execute_result"
    }
   ],
   "source": [
    "#h2 en debut de matach ? \n",
    "df[df['SHOT_CLOCK'].isna()]['PERIOD'].value_counts()"
   ]
  },
  {
   "cell_type": "code",
   "execution_count": 45,
   "id": "ec08bf59",
   "metadata": {},
   "outputs": [
    {
     "data": {
      "application/vnd.microsoft.datawrangler.viewer.v0+json": {
       "columns": [
        {
         "name": "GAME_CLOCK",
         "rawType": "object",
         "type": "string"
        },
        {
         "name": "count",
         "rawType": "int64",
         "type": "integer"
        }
       ],
       "ref": "8a45a1ce-5a5f-45c7-bd45-e631b1a142c6",
       "rows": [
        [
         "0:01",
         "849"
        ],
        [
         "0:02",
         "525"
        ],
        [
         "0:00",
         "480"
        ],
        [
         "0:03",
         "385"
        ],
        [
         "0:04",
         "273"
        ],
        [
         "0:05",
         "190"
        ],
        [
         "0:06",
         "119"
        ],
        [
         "0:07",
         "94"
        ],
        [
         "0:09",
         "72"
        ],
        [
         "0:10",
         "66"
        ],
        [
         "0:08",
         "66"
        ],
        [
         "0:15",
         "54"
        ],
        [
         "0:11",
         "52"
        ],
        [
         "0:12",
         "45"
        ],
        [
         "0:14",
         "43"
        ],
        [
         "0:17",
         "38"
        ],
        [
         "0:18",
         "36"
        ],
        [
         "0:16",
         "35"
        ],
        [
         "0:13",
         "34"
        ],
        [
         "0:19",
         "28"
        ],
        [
         "0:21",
         "26"
        ],
        [
         "0:20",
         "23"
        ],
        [
         "0:52",
         "9"
        ],
        [
         "8:35",
         "9"
        ],
        [
         "9:51",
         "9"
        ],
        [
         "0:22",
         "9"
        ],
        [
         "5:30",
         "8"
        ],
        [
         "0:23",
         "8"
        ],
        [
         "3:07",
         "8"
        ],
        [
         "7:15",
         "7"
        ],
        [
         "7:34",
         "7"
        ],
        [
         "9:53",
         "7"
        ],
        [
         "11:22",
         "7"
        ],
        [
         "11:19",
         "7"
        ],
        [
         "1:02",
         "7"
        ],
        [
         "9:30",
         "7"
        ],
        [
         "11:23",
         "7"
        ],
        [
         "6:50",
         "7"
        ],
        [
         "9:22",
         "7"
        ],
        [
         "10:58",
         "7"
        ],
        [
         "3:46",
         "7"
        ],
        [
         "3:22",
         "7"
        ],
        [
         "2:41",
         "7"
        ],
        [
         "10:36",
         "6"
        ],
        [
         "6:43",
         "6"
        ],
        [
         "1:29",
         "6"
        ],
        [
         "4:40",
         "6"
        ],
        [
         "1:52",
         "6"
        ],
        [
         "6:37",
         "6"
        ],
        [
         "3:45",
         "6"
        ]
       ],
       "shape": {
        "columns": 1,
        "rows": 680
       }
      },
      "text/plain": [
       "GAME_CLOCK\n",
       "0:01     849\n",
       "0:02     525\n",
       "0:00     480\n",
       "0:03     385\n",
       "0:04     273\n",
       "        ... \n",
       "11:52      1\n",
       "2:57       1\n",
       "10:56      1\n",
       "0:42       1\n",
       "10:42      1\n",
       "Name: count, Length: 680, dtype: int64"
      ]
     },
     "execution_count": 45,
     "metadata": {},
     "output_type": "execute_result"
    }
   ],
   "source": [
    "df[df['SHOT_CLOCK'].isna()]['GAME_CLOCK'].value_counts()"
   ]
  },
  {
   "cell_type": "markdown",
   "id": "6a710dec",
   "metadata": {},
   "source": [
    "Les valeurs manquantes dans SHOT_CLOCK apparaissent majoritairement lorsque le GAME_CLOCK est inférieur à 24 secondes.\n",
    "Cela correspond à la fin des quart-temps, moment où le chronomètre des tirs (shot clock) n’est plus affiché car il est absorbé par le chronomètre principal du jeu.\n",
    "Ces valeurs NaN sont donc logiques et ne traduisent pas une erreur de données.\n",
    "\n",
    "Cependant certaines données sont plus tard pour l'instant aucune conclusion n'est possible."
   ]
  },
  {
   "cell_type": "code",
   "execution_count": 46,
   "id": "8dd9eb0f",
   "metadata": {},
   "outputs": [
    {
     "name": "stdout",
     "output_type": "stream",
     "text": [
      "     PTS_TYPE  SHOT_DIST SHOT_RESULT\n",
      "2           2       10.1      missed\n",
      "24          3       25.2      missed\n",
      "54          3       34.4      missed\n",
      "76          2       13.1        made\n",
      "129         2       12.0      missed\n",
      "134         2       17.9      missed\n",
      "141         2       10.4        made\n",
      "145         2       18.3      missed\n",
      "184         3       27.1      missed\n",
      "204         3       32.9      missed\n"
     ]
    }
   ],
   "source": [
    "missing_shot_clock = df[df['SHOT_CLOCK'].isna()]\n",
    "print(missing_shot_clock[['PTS_TYPE', 'SHOT_DIST', 'SHOT_RESULT']].head(10))"
   ]
  },
  {
   "cell_type": "code",
   "execution_count": 47,
   "id": "bb233282",
   "metadata": {},
   "outputs": [
    {
     "name": "stdout",
     "output_type": "stream",
     "text": [
      "Valeurs manquantes restantes dans SHOT_CLOCK : 0\n"
     ]
    }
   ],
   "source": [
    "# TODO: Pour l'instant, on supprime les lignes sans SHOT_CLOCK\n",
    "#       (à revoir plus tard : comprendre la logique du manquant avant d’imputer)\n",
    "df = df.dropna(subset=['SHOT_CLOCK']).copy()\n",
    "\n",
    "# Vérification : s'il reste encore des valeurs manquantes\n",
    "missing_count = df['SHOT_CLOCK'].isna().sum()\n",
    "print(f\"Valeurs manquantes restantes dans SHOT_CLOCK : {missing_count}\")\n"
   ]
  },
  {
   "cell_type": "code",
   "execution_count": 48,
   "id": "8341b092",
   "metadata": {},
   "outputs": [],
   "source": [
    "#TODO mettre le game clock en temps complet prendre la periode (1,2,3,4) 1 quart temps = 12 min \n",
    "\n",
    "# --- Convertir GAME_CLOCK en secondes ---\n",
    "def clock_to_seconds(clock_str):\n",
    "    \"\"\"Convertit une chaîne 'MM:SS' en secondes.\"\"\"\n",
    "    if isinstance(clock_str, str):\n",
    "        m, s = clock_str.split(':')\n",
    "        return int(m) * 60 + int(s)\n",
    "    return None\n",
    "\n",
    "#game clock est décroissant on commence à 12 min (ici on veux récupérer le temps écoulé depuis le depuis du quart temps)\n",
    "df['TIME_SPENT_QUATER_SEC'] = 12*60 - df['GAME_CLOCK'].apply(clock_to_seconds) \n",
    "\n",
    "# Calculer le temps absolu depuis le début du match\n",
    "df['GAME_TIME_TOTAL'] = (df['PERIOD'] - 1) * 12*60 + (df['TIME_SPENT_QUATER_SEC'])"
   ]
  },
  {
   "cell_type": "code",
   "execution_count": 49,
   "id": "03d7c046",
   "metadata": {},
   "outputs": [
    {
     "data": {
      "application/vnd.microsoft.datawrangler.viewer.v0+json": {
       "columns": [
        {
         "name": "index",
         "rawType": "int64",
         "type": "integer"
        },
        {
         "name": "LOCATION",
         "rawType": "int64",
         "type": "integer"
        },
        {
         "name": "SHOT_NUMBER",
         "rawType": "int64",
         "type": "integer"
        },
        {
         "name": "DRIBBLES",
         "rawType": "int64",
         "type": "integer"
        },
        {
         "name": "TOUCH_TIME",
         "rawType": "float64",
         "type": "float"
        },
        {
         "name": "SHOT_DIST",
         "rawType": "float64",
         "type": "float"
        },
        {
         "name": "SHOT_RESULT",
         "rawType": "int64",
         "type": "integer"
        },
        {
         "name": "CLOSE_DEF_DIST",
         "rawType": "float64",
         "type": "float"
        },
        {
         "name": "player_name",
         "rawType": "object",
         "type": "string"
        },
        {
         "name": "TIME_SPENT_QUATER_SEC",
         "rawType": "int64",
         "type": "integer"
        },
        {
         "name": "GAME_TIME_TOTAL",
         "rawType": "int64",
         "type": "integer"
        },
        {
         "name": "CONTESTED",
         "rawType": "int64",
         "type": "integer"
        },
        {
         "name": "CLUTCH",
         "rawType": "int64",
         "type": "integer"
        }
       ],
       "ref": "6172647b-823a-4a5a-91ff-844a0e816049",
       "rows": [
        [
         "0",
         "0",
         "1",
         "2",
         "1.9",
         "2.34696",
         "1",
         "0.39624000000000004",
         "brian roberts",
         "651",
         "651",
         "1",
         "0"
        ],
        [
         "1",
         "0",
         "2",
         "0",
         "0.8",
         "8.59536",
         "0",
         "1.85928",
         "brian roberts",
         "706",
         "706",
         "0",
         "1"
        ],
        [
         "3",
         "0",
         "4",
         "2",
         "1.9",
         "5.24256",
         "0",
         "1.0363200000000001",
         "brian roberts",
         "13",
         "733",
         "0",
         "0"
        ],
        [
         "4",
         "0",
         "5",
         "2",
         "2.7",
         "1.12776",
         "0",
         "0.33528",
         "brian roberts",
         "86",
         "806",
         "1",
         "0"
        ],
        [
         "5",
         "0",
         "6",
         "2",
         "4.4",
         "5.60832",
         "0",
         "0.7924800000000001",
         "brian roberts",
         "225",
         "945",
         "0",
         "0"
        ]
       ],
       "shape": {
        "columns": 12,
        "rows": 5
       }
      },
      "text/html": [
       "<div>\n",
       "<style scoped>\n",
       "    .dataframe tbody tr th:only-of-type {\n",
       "        vertical-align: middle;\n",
       "    }\n",
       "\n",
       "    .dataframe tbody tr th {\n",
       "        vertical-align: top;\n",
       "    }\n",
       "\n",
       "    .dataframe thead th {\n",
       "        text-align: right;\n",
       "    }\n",
       "</style>\n",
       "<table border=\"1\" class=\"dataframe\">\n",
       "  <thead>\n",
       "    <tr style=\"text-align: right;\">\n",
       "      <th></th>\n",
       "      <th>LOCATION</th>\n",
       "      <th>SHOT_NUMBER</th>\n",
       "      <th>DRIBBLES</th>\n",
       "      <th>TOUCH_TIME</th>\n",
       "      <th>SHOT_DIST</th>\n",
       "      <th>SHOT_RESULT</th>\n",
       "      <th>CLOSE_DEF_DIST</th>\n",
       "      <th>player_name</th>\n",
       "      <th>TIME_SPENT_QUATER_SEC</th>\n",
       "      <th>GAME_TIME_TOTAL</th>\n",
       "      <th>CONTESTED</th>\n",
       "      <th>CLUTCH</th>\n",
       "    </tr>\n",
       "  </thead>\n",
       "  <tbody>\n",
       "    <tr>\n",
       "      <th>0</th>\n",
       "      <td>0</td>\n",
       "      <td>1</td>\n",
       "      <td>2</td>\n",
       "      <td>1.9</td>\n",
       "      <td>2.34696</td>\n",
       "      <td>1</td>\n",
       "      <td>0.39624</td>\n",
       "      <td>brian roberts</td>\n",
       "      <td>651</td>\n",
       "      <td>651</td>\n",
       "      <td>1</td>\n",
       "      <td>0</td>\n",
       "    </tr>\n",
       "    <tr>\n",
       "      <th>1</th>\n",
       "      <td>0</td>\n",
       "      <td>2</td>\n",
       "      <td>0</td>\n",
       "      <td>0.8</td>\n",
       "      <td>8.59536</td>\n",
       "      <td>0</td>\n",
       "      <td>1.85928</td>\n",
       "      <td>brian roberts</td>\n",
       "      <td>706</td>\n",
       "      <td>706</td>\n",
       "      <td>0</td>\n",
       "      <td>1</td>\n",
       "    </tr>\n",
       "    <tr>\n",
       "      <th>3</th>\n",
       "      <td>0</td>\n",
       "      <td>4</td>\n",
       "      <td>2</td>\n",
       "      <td>1.9</td>\n",
       "      <td>5.24256</td>\n",
       "      <td>0</td>\n",
       "      <td>1.03632</td>\n",
       "      <td>brian roberts</td>\n",
       "      <td>13</td>\n",
       "      <td>733</td>\n",
       "      <td>0</td>\n",
       "      <td>0</td>\n",
       "    </tr>\n",
       "    <tr>\n",
       "      <th>4</th>\n",
       "      <td>0</td>\n",
       "      <td>5</td>\n",
       "      <td>2</td>\n",
       "      <td>2.7</td>\n",
       "      <td>1.12776</td>\n",
       "      <td>0</td>\n",
       "      <td>0.33528</td>\n",
       "      <td>brian roberts</td>\n",
       "      <td>86</td>\n",
       "      <td>806</td>\n",
       "      <td>1</td>\n",
       "      <td>0</td>\n",
       "    </tr>\n",
       "    <tr>\n",
       "      <th>5</th>\n",
       "      <td>0</td>\n",
       "      <td>6</td>\n",
       "      <td>2</td>\n",
       "      <td>4.4</td>\n",
       "      <td>5.60832</td>\n",
       "      <td>0</td>\n",
       "      <td>0.79248</td>\n",
       "      <td>brian roberts</td>\n",
       "      <td>225</td>\n",
       "      <td>945</td>\n",
       "      <td>0</td>\n",
       "      <td>0</td>\n",
       "    </tr>\n",
       "  </tbody>\n",
       "</table>\n",
       "</div>"
      ],
      "text/plain": [
       "   LOCATION  SHOT_NUMBER  DRIBBLES  TOUCH_TIME  SHOT_DIST  SHOT_RESULT  \\\n",
       "0         0            1         2         1.9    2.34696            1   \n",
       "1         0            2         0         0.8    8.59536            0   \n",
       "3         0            4         2         1.9    5.24256            0   \n",
       "4         0            5         2         2.7    1.12776            0   \n",
       "5         0            6         2         4.4    5.60832            0   \n",
       "\n",
       "   CLOSE_DEF_DIST    player_name  TIME_SPENT_QUATER_SEC  GAME_TIME_TOTAL  \\\n",
       "0         0.39624  brian roberts                    651              651   \n",
       "1         1.85928  brian roberts                    706              706   \n",
       "3         1.03632  brian roberts                     13              733   \n",
       "4         0.33528  brian roberts                     86              806   \n",
       "5         0.79248  brian roberts                    225              945   \n",
       "\n",
       "   CONTESTED  CLUTCH  \n",
       "0          1       0  \n",
       "1          0       1  \n",
       "3          0       0  \n",
       "4          1       0  \n",
       "5          0       0  "
      ]
     },
     "execution_count": 49,
     "metadata": {},
     "output_type": "execute_result"
    }
   ],
   "source": [
    "#on one hot code les collonnes interresantes et drop le non intéressantes \n",
    "# Vérifier si SHOT_RESULT contient déjà des valeurs numériques\n",
    "if df['SHOT_RESULT'].dtype == 'object':\n",
    "    df['SHOT_RESULT'] = df['SHOT_RESULT'].map({'made': 1, 'missed': 0})\n",
    "\n",
    "# Vérifier si LOCATION contient déjà des valeurs numériques\n",
    "if df['LOCATION'].dtype == 'object':\n",
    "    df['LOCATION'] = df['LOCATION'].map({'H': 1, 'A': 0})\n",
    "    \n",
    "#indique si le shot est contesté ou non \n",
    "if 'CLOSE_DEF_DIST' in df.columns:\n",
    "    df['CONTESTED'] = (df['CLOSE_DEF_DIST'] < 2.0).astype(int)\n",
    "\n",
    "#si il reste une possession dans le quart-temps\n",
    "if 'TIME_SPENT_QUATER_SEC' in df.columns:\n",
    "    df['CLUTCH'] = (df['TIME_SPENT_QUATER_SEC'] > 11*60+40).astype(int)\n",
    "\n",
    "\n",
    "# --- Conversion pied → mètre ---\n",
    "# 1 pied = 0.3048 m\n",
    "if 'SHOT_DIST' in df.columns:\n",
    "    df['SHOT_DIST'] = df['SHOT_DIST'] * 0.3048\n",
    "\n",
    "if 'CLOSE_DEF_DIST' in df.columns:\n",
    "    df['CLOSE_DEF_DIST'] = df['CLOSE_DEF_DIST'] * 0.3048\n",
    "\n",
    "\n",
    "df = df.drop([\n",
    "    'MATCHUP',\n",
    "    'W', \n",
    "    'GAME_ID',\n",
    "    'CLOSEST_DEFENDER',\n",
    "    'CLOSEST_DEFENDER_PLAYER_ID',\n",
    "    'FGM',\n",
    "    'PTS',\n",
    "    'player_id',\n",
    "    'PERIOD', \n",
    "    'GAME_CLOCK',\n",
    "    'PTS_TYPE',  # dépend de la distance au panier, déjà prise en compte\n",
    "    'FINAL_MARGIN',\n",
    "    'SHOT_CLOCK'\n",
    "], axis=1, errors='ignore')\n",
    "\n",
    "\n",
    "df.head()"
   ]
  },
  {
   "cell_type": "markdown",
   "id": "732d2d69",
   "metadata": {},
   "source": [
    "On cherche à créer un dataset pour un ou deux jouers en particulier pour prédire leur prédiction de shot en particulier "
   ]
  },
  {
   "cell_type": "code",
   "execution_count": 50,
   "id": "79a7a76f",
   "metadata": {},
   "outputs": [
    {
     "name": "stdout",
     "output_type": "stream",
     "text": [
      "player_name\n",
      "lamarcus aldridge    1010\n",
      "james harden         1006\n",
      "mnta ellis           1004\n",
      "klay thompson         953\n",
      "lebron james          947\n",
      "                     ... \n",
      "mike miller            94\n",
      "joey dorsey            88\n",
      "alan crabbe            87\n",
      "jerome jordan          80\n",
      "greg smith             46\n",
      "Name: count, Length: 281, dtype: int64\n"
     ]
    }
   ],
   "source": [
    "print(df['player_name'].value_counts())"
   ]
  },
  {
   "cell_type": "code",
   "execution_count": 51,
   "id": "2f075f3b",
   "metadata": {},
   "outputs": [
    {
     "data": {
      "text/plain": [
       "np.int64(941)"
      ]
     },
     "execution_count": 51,
     "metadata": {},
     "output_type": "execute_result"
    }
   ],
   "source": [
    "df['player_name'].value_counts()['stephen curry']"
   ]
  },
  {
   "cell_type": "code",
   "execution_count": 52,
   "id": "823857b7",
   "metadata": {},
   "outputs": [
    {
     "name": "stdout",
     "output_type": "stream",
     "text": [
      "shape : (122502, 12)\n",
      "LOCATION                   int64\n",
      "SHOT_NUMBER                int64\n",
      "DRIBBLES                   int64\n",
      "TOUCH_TIME               float64\n",
      "SHOT_DIST                float64\n",
      "SHOT_RESULT                int64\n",
      "CLOSE_DEF_DIST           float64\n",
      "player_name               object\n",
      "TIME_SPENT_QUATER_SEC      int64\n",
      "GAME_TIME_TOTAL            int64\n",
      "CONTESTED                  int64\n",
      "CLUTCH                     int64\n",
      "dtype: object\n"
     ]
    }
   ],
   "source": [
    "print(\"shape :\" ,df.shape)\n",
    "print(df.dtypes)"
   ]
  },
  {
   "cell_type": "markdown",
   "id": "78a50d3e",
   "metadata": {},
   "source": [
    "On cherche à fair une regression logistique donc on dois standardisé les données car elle est sensible à l'échelle"
   ]
  },
  {
   "cell_type": "code",
   "execution_count": 53,
   "id": "8e0ae4d1",
   "metadata": {},
   "outputs": [],
   "source": [
    "# Dataset pour LeBron James\n",
    "df_lebron = df[df['player_name'] == 'lebron james'].drop(['player_name'], axis=1)\n",
    "\n",
    "# Dataset pour Stephen Curry\n",
    "df_curry = df[df['player_name'] == 'stephen curry'].drop(['player_name'], axis=1)"
   ]
  },
  {
   "cell_type": "code",
   "execution_count": 54,
   "id": "2516b98a",
   "metadata": {},
   "outputs": [
    {
     "data": {
      "application/vnd.microsoft.datawrangler.viewer.v0+json": {
       "columns": [
        {
         "name": "index",
         "rawType": "object",
         "type": "string"
        },
        {
         "name": "LOCATION",
         "rawType": "float64",
         "type": "float"
        },
        {
         "name": "SHOT_NUMBER",
         "rawType": "float64",
         "type": "float"
        },
        {
         "name": "DRIBBLES",
         "rawType": "float64",
         "type": "float"
        },
        {
         "name": "TOUCH_TIME",
         "rawType": "float64",
         "type": "float"
        },
        {
         "name": "SHOT_DIST",
         "rawType": "float64",
         "type": "float"
        },
        {
         "name": "SHOT_RESULT",
         "rawType": "float64",
         "type": "float"
        },
        {
         "name": "CLOSE_DEF_DIST",
         "rawType": "float64",
         "type": "float"
        },
        {
         "name": "TIME_SPENT_QUATER_SEC",
         "rawType": "float64",
         "type": "float"
        },
        {
         "name": "GAME_TIME_TOTAL",
         "rawType": "float64",
         "type": "float"
        },
        {
         "name": "CONTESTED",
         "rawType": "float64",
         "type": "float"
        },
        {
         "name": "CLUTCH",
         "rawType": "float64",
         "type": "float"
        }
       ],
       "ref": "029de0be-c391-40b9-83d9-d7b3c983b9d3",
       "rows": [
        [
         "count",
         "947.0",
         "947.0",
         "947.0",
         "947.0",
         "947.0",
         "947.0",
         "947.0",
         "947.0",
         "947.0",
         "947.0",
         "947.0"
        ],
        [
         "mean",
         "0.5068637803590285",
         "10.674762407602957",
         "4.6019007391763465",
         "5.671066525871172",
         "4.207688363252376",
         "0.4941921858500528",
         "1.2765873706441395",
         "369.54065469904964",
         "1389.857444561774",
         "0.14149947201689547",
         "0.021119324181626188"
        ],
        [
         "std",
         "0.5002170622155657",
         "6.587821650827352",
         "5.3335783198668585",
         "4.670125379478763",
         "2.8058389340510907",
         "0.5002304511440411",
         "1.0210509004427137",
         "209.28423570792424",
         "846.4212173140907",
         "0.34872020737770215",
         "0.1438580957354632"
        ],
        [
         "min",
         "0.0",
         "1.0",
         "0.0",
         "-4.3",
         "0.030480000000000004",
         "0.0",
         "0.0",
         "11.0",
         "13.0",
         "0.0",
         "0.0"
        ],
        [
         "25%",
         "0.0",
         "5.0",
         "1.0",
         "2.3",
         "1.4935200000000002",
         "0.0",
         "0.77724",
         "187.0",
         "652.0",
         "0.0",
         "0.0"
        ],
        [
         "50%",
         "1.0",
         "10.0",
         "3.0",
         "4.5",
         "3.71856",
         "0.0",
         "1.15824",
         "361.0",
         "1380.0",
         "0.0",
         "0.0"
        ],
        [
         "75%",
         "1.0",
         "15.0",
         "7.0",
         "7.8",
         "7.07136",
         "1.0",
         "1.524",
         "565.0",
         "2066.0",
         "0.0",
         "0.0"
        ],
        [
         "max",
         "1.0",
         "35.0",
         "26.0",
         "23.3",
         "11.21664",
         "1.0",
         "16.21536",
         "717.0",
         "3572.0",
         "1.0",
         "1.0"
        ]
       ],
       "shape": {
        "columns": 11,
        "rows": 8
       }
      },
      "text/html": [
       "<div>\n",
       "<style scoped>\n",
       "    .dataframe tbody tr th:only-of-type {\n",
       "        vertical-align: middle;\n",
       "    }\n",
       "\n",
       "    .dataframe tbody tr th {\n",
       "        vertical-align: top;\n",
       "    }\n",
       "\n",
       "    .dataframe thead th {\n",
       "        text-align: right;\n",
       "    }\n",
       "</style>\n",
       "<table border=\"1\" class=\"dataframe\">\n",
       "  <thead>\n",
       "    <tr style=\"text-align: right;\">\n",
       "      <th></th>\n",
       "      <th>LOCATION</th>\n",
       "      <th>SHOT_NUMBER</th>\n",
       "      <th>DRIBBLES</th>\n",
       "      <th>TOUCH_TIME</th>\n",
       "      <th>SHOT_DIST</th>\n",
       "      <th>SHOT_RESULT</th>\n",
       "      <th>CLOSE_DEF_DIST</th>\n",
       "      <th>TIME_SPENT_QUATER_SEC</th>\n",
       "      <th>GAME_TIME_TOTAL</th>\n",
       "      <th>CONTESTED</th>\n",
       "      <th>CLUTCH</th>\n",
       "    </tr>\n",
       "  </thead>\n",
       "  <tbody>\n",
       "    <tr>\n",
       "      <th>count</th>\n",
       "      <td>947.000000</td>\n",
       "      <td>947.000000</td>\n",
       "      <td>947.000000</td>\n",
       "      <td>947.000000</td>\n",
       "      <td>947.000000</td>\n",
       "      <td>947.000000</td>\n",
       "      <td>947.000000</td>\n",
       "      <td>947.000000</td>\n",
       "      <td>947.000000</td>\n",
       "      <td>947.000000</td>\n",
       "      <td>947.000000</td>\n",
       "    </tr>\n",
       "    <tr>\n",
       "      <th>mean</th>\n",
       "      <td>0.506864</td>\n",
       "      <td>10.674762</td>\n",
       "      <td>4.601901</td>\n",
       "      <td>5.671067</td>\n",
       "      <td>4.207688</td>\n",
       "      <td>0.494192</td>\n",
       "      <td>1.276587</td>\n",
       "      <td>369.540655</td>\n",
       "      <td>1389.857445</td>\n",
       "      <td>0.141499</td>\n",
       "      <td>0.021119</td>\n",
       "    </tr>\n",
       "    <tr>\n",
       "      <th>std</th>\n",
       "      <td>0.500217</td>\n",
       "      <td>6.587822</td>\n",
       "      <td>5.333578</td>\n",
       "      <td>4.670125</td>\n",
       "      <td>2.805839</td>\n",
       "      <td>0.500230</td>\n",
       "      <td>1.021051</td>\n",
       "      <td>209.284236</td>\n",
       "      <td>846.421217</td>\n",
       "      <td>0.348720</td>\n",
       "      <td>0.143858</td>\n",
       "    </tr>\n",
       "    <tr>\n",
       "      <th>min</th>\n",
       "      <td>0.000000</td>\n",
       "      <td>1.000000</td>\n",
       "      <td>0.000000</td>\n",
       "      <td>-4.300000</td>\n",
       "      <td>0.030480</td>\n",
       "      <td>0.000000</td>\n",
       "      <td>0.000000</td>\n",
       "      <td>11.000000</td>\n",
       "      <td>13.000000</td>\n",
       "      <td>0.000000</td>\n",
       "      <td>0.000000</td>\n",
       "    </tr>\n",
       "    <tr>\n",
       "      <th>25%</th>\n",
       "      <td>0.000000</td>\n",
       "      <td>5.000000</td>\n",
       "      <td>1.000000</td>\n",
       "      <td>2.300000</td>\n",
       "      <td>1.493520</td>\n",
       "      <td>0.000000</td>\n",
       "      <td>0.777240</td>\n",
       "      <td>187.000000</td>\n",
       "      <td>652.000000</td>\n",
       "      <td>0.000000</td>\n",
       "      <td>0.000000</td>\n",
       "    </tr>\n",
       "    <tr>\n",
       "      <th>50%</th>\n",
       "      <td>1.000000</td>\n",
       "      <td>10.000000</td>\n",
       "      <td>3.000000</td>\n",
       "      <td>4.500000</td>\n",
       "      <td>3.718560</td>\n",
       "      <td>0.000000</td>\n",
       "      <td>1.158240</td>\n",
       "      <td>361.000000</td>\n",
       "      <td>1380.000000</td>\n",
       "      <td>0.000000</td>\n",
       "      <td>0.000000</td>\n",
       "    </tr>\n",
       "    <tr>\n",
       "      <th>75%</th>\n",
       "      <td>1.000000</td>\n",
       "      <td>15.000000</td>\n",
       "      <td>7.000000</td>\n",
       "      <td>7.800000</td>\n",
       "      <td>7.071360</td>\n",
       "      <td>1.000000</td>\n",
       "      <td>1.524000</td>\n",
       "      <td>565.000000</td>\n",
       "      <td>2066.000000</td>\n",
       "      <td>0.000000</td>\n",
       "      <td>0.000000</td>\n",
       "    </tr>\n",
       "    <tr>\n",
       "      <th>max</th>\n",
       "      <td>1.000000</td>\n",
       "      <td>35.000000</td>\n",
       "      <td>26.000000</td>\n",
       "      <td>23.300000</td>\n",
       "      <td>11.216640</td>\n",
       "      <td>1.000000</td>\n",
       "      <td>16.215360</td>\n",
       "      <td>717.000000</td>\n",
       "      <td>3572.000000</td>\n",
       "      <td>1.000000</td>\n",
       "      <td>1.000000</td>\n",
       "    </tr>\n",
       "  </tbody>\n",
       "</table>\n",
       "</div>"
      ],
      "text/plain": [
       "         LOCATION  SHOT_NUMBER    DRIBBLES  TOUCH_TIME   SHOT_DIST  \\\n",
       "count  947.000000   947.000000  947.000000  947.000000  947.000000   \n",
       "mean     0.506864    10.674762    4.601901    5.671067    4.207688   \n",
       "std      0.500217     6.587822    5.333578    4.670125    2.805839   \n",
       "min      0.000000     1.000000    0.000000   -4.300000    0.030480   \n",
       "25%      0.000000     5.000000    1.000000    2.300000    1.493520   \n",
       "50%      1.000000    10.000000    3.000000    4.500000    3.718560   \n",
       "75%      1.000000    15.000000    7.000000    7.800000    7.071360   \n",
       "max      1.000000    35.000000   26.000000   23.300000   11.216640   \n",
       "\n",
       "       SHOT_RESULT  CLOSE_DEF_DIST  TIME_SPENT_QUATER_SEC  GAME_TIME_TOTAL  \\\n",
       "count   947.000000      947.000000             947.000000       947.000000   \n",
       "mean      0.494192        1.276587             369.540655      1389.857445   \n",
       "std       0.500230        1.021051             209.284236       846.421217   \n",
       "min       0.000000        0.000000              11.000000        13.000000   \n",
       "25%       0.000000        0.777240             187.000000       652.000000   \n",
       "50%       0.000000        1.158240             361.000000      1380.000000   \n",
       "75%       1.000000        1.524000             565.000000      2066.000000   \n",
       "max       1.000000       16.215360             717.000000      3572.000000   \n",
       "\n",
       "        CONTESTED      CLUTCH  \n",
       "count  947.000000  947.000000  \n",
       "mean     0.141499    0.021119  \n",
       "std      0.348720    0.143858  \n",
       "min      0.000000    0.000000  \n",
       "25%      0.000000    0.000000  \n",
       "50%      0.000000    0.000000  \n",
       "75%      0.000000    0.000000  \n",
       "max      1.000000    1.000000  "
      ]
     },
     "execution_count": 54,
     "metadata": {},
     "output_type": "execute_result"
    }
   ],
   "source": [
    "df_lebron.describe()"
   ]
  },
  {
   "cell_type": "code",
   "execution_count": 55,
   "id": "e1293e31",
   "metadata": {},
   "outputs": [
    {
     "data": {
      "application/vnd.microsoft.datawrangler.viewer.v0+json": {
       "columns": [
        {
         "name": "index",
         "rawType": "object",
         "type": "string"
        },
        {
         "name": "LOCATION",
         "rawType": "float64",
         "type": "float"
        },
        {
         "name": "SHOT_NUMBER",
         "rawType": "float64",
         "type": "float"
        },
        {
         "name": "DRIBBLES",
         "rawType": "float64",
         "type": "float"
        },
        {
         "name": "TOUCH_TIME",
         "rawType": "float64",
         "type": "float"
        },
        {
         "name": "SHOT_DIST",
         "rawType": "float64",
         "type": "float"
        },
        {
         "name": "SHOT_RESULT",
         "rawType": "float64",
         "type": "float"
        },
        {
         "name": "CLOSE_DEF_DIST",
         "rawType": "float64",
         "type": "float"
        },
        {
         "name": "TIME_SPENT_QUATER_SEC",
         "rawType": "float64",
         "type": "float"
        },
        {
         "name": "GAME_TIME_TOTAL",
         "rawType": "float64",
         "type": "float"
        },
        {
         "name": "CONTESTED",
         "rawType": "float64",
         "type": "float"
        },
        {
         "name": "CLUTCH",
         "rawType": "float64",
         "type": "float"
        }
       ],
       "ref": "4c0cf8c8-16ac-458d-8d12-0f1651211b1a",
       "rows": [
        [
         "count",
         "941.0",
         "941.0",
         "941.0",
         "941.0",
         "941.0",
         "941.0",
         "941.0",
         "941.0",
         "941.0",
         "941.0",
         "941.0"
        ],
        [
         "mean",
         "0.45483528161530284",
         "9.421891604675876",
         "3.6174282678002125",
         "3.833900106269926",
         "5.264618320935175",
         "0.49309245483528164",
         "1.37108174282678",
         "398.5154091392136",
         "1378.664187035069",
         "0.12114771519659936",
         "0.01381509032943677"
        ],
        [
         "std",
         "0.49822076994535985",
         "5.659816273326584",
         "4.081128621590606",
         "3.2604412615162786",
         "2.7895916700983063",
         "0.5002181449196338",
         "0.8377333716197953",
         "188.7880919054074",
         "863.5105747132452",
         "0.3264723774891088",
         "0.11678496253442636"
        ],
        [
         "min",
         "0.0",
         "1.0",
         "0.0",
         "0.0",
         "0.030480000000000004",
         "0.0",
         "0.0",
         "12.0",
         "12.0",
         "0.0",
         "0.0"
        ],
        [
         "25%",
         "0.0",
         "5.0",
         "0.0",
         "1.0",
         "2.31648",
         "0.0",
         "0.85344",
         "244.0",
         "509.0",
         "0.0",
         "0.0"
        ],
        [
         "50%",
         "0.0",
         "9.0",
         "2.0",
         "3.0",
         "6.644640000000001",
         "0.0",
         "1.2192",
         "417.0",
         "1418.0",
         "0.0",
         "0.0"
        ],
        [
         "75%",
         "1.0",
         "14.0",
         "6.0",
         "5.8",
         "7.58952",
         "1.0",
         "1.70688",
         "560.0",
         "2002.0",
         "0.0",
         "0.0"
        ],
        [
         "max",
         "1.0",
         "26.0",
         "23.0",
         "20.0",
         "9.814560000000002",
         "1.0",
         "8.74776",
         "714.0",
         "3563.0",
         "1.0",
         "1.0"
        ]
       ],
       "shape": {
        "columns": 11,
        "rows": 8
       }
      },
      "text/html": [
       "<div>\n",
       "<style scoped>\n",
       "    .dataframe tbody tr th:only-of-type {\n",
       "        vertical-align: middle;\n",
       "    }\n",
       "\n",
       "    .dataframe tbody tr th {\n",
       "        vertical-align: top;\n",
       "    }\n",
       "\n",
       "    .dataframe thead th {\n",
       "        text-align: right;\n",
       "    }\n",
       "</style>\n",
       "<table border=\"1\" class=\"dataframe\">\n",
       "  <thead>\n",
       "    <tr style=\"text-align: right;\">\n",
       "      <th></th>\n",
       "      <th>LOCATION</th>\n",
       "      <th>SHOT_NUMBER</th>\n",
       "      <th>DRIBBLES</th>\n",
       "      <th>TOUCH_TIME</th>\n",
       "      <th>SHOT_DIST</th>\n",
       "      <th>SHOT_RESULT</th>\n",
       "      <th>CLOSE_DEF_DIST</th>\n",
       "      <th>TIME_SPENT_QUATER_SEC</th>\n",
       "      <th>GAME_TIME_TOTAL</th>\n",
       "      <th>CONTESTED</th>\n",
       "      <th>CLUTCH</th>\n",
       "    </tr>\n",
       "  </thead>\n",
       "  <tbody>\n",
       "    <tr>\n",
       "      <th>count</th>\n",
       "      <td>941.000000</td>\n",
       "      <td>941.000000</td>\n",
       "      <td>941.000000</td>\n",
       "      <td>941.000000</td>\n",
       "      <td>941.000000</td>\n",
       "      <td>941.000000</td>\n",
       "      <td>941.000000</td>\n",
       "      <td>941.000000</td>\n",
       "      <td>941.000000</td>\n",
       "      <td>941.000000</td>\n",
       "      <td>941.000000</td>\n",
       "    </tr>\n",
       "    <tr>\n",
       "      <th>mean</th>\n",
       "      <td>0.454835</td>\n",
       "      <td>9.421892</td>\n",
       "      <td>3.617428</td>\n",
       "      <td>3.833900</td>\n",
       "      <td>5.264618</td>\n",
       "      <td>0.493092</td>\n",
       "      <td>1.371082</td>\n",
       "      <td>398.515409</td>\n",
       "      <td>1378.664187</td>\n",
       "      <td>0.121148</td>\n",
       "      <td>0.013815</td>\n",
       "    </tr>\n",
       "    <tr>\n",
       "      <th>std</th>\n",
       "      <td>0.498221</td>\n",
       "      <td>5.659816</td>\n",
       "      <td>4.081129</td>\n",
       "      <td>3.260441</td>\n",
       "      <td>2.789592</td>\n",
       "      <td>0.500218</td>\n",
       "      <td>0.837733</td>\n",
       "      <td>188.788092</td>\n",
       "      <td>863.510575</td>\n",
       "      <td>0.326472</td>\n",
       "      <td>0.116785</td>\n",
       "    </tr>\n",
       "    <tr>\n",
       "      <th>min</th>\n",
       "      <td>0.000000</td>\n",
       "      <td>1.000000</td>\n",
       "      <td>0.000000</td>\n",
       "      <td>0.000000</td>\n",
       "      <td>0.030480</td>\n",
       "      <td>0.000000</td>\n",
       "      <td>0.000000</td>\n",
       "      <td>12.000000</td>\n",
       "      <td>12.000000</td>\n",
       "      <td>0.000000</td>\n",
       "      <td>0.000000</td>\n",
       "    </tr>\n",
       "    <tr>\n",
       "      <th>25%</th>\n",
       "      <td>0.000000</td>\n",
       "      <td>5.000000</td>\n",
       "      <td>0.000000</td>\n",
       "      <td>1.000000</td>\n",
       "      <td>2.316480</td>\n",
       "      <td>0.000000</td>\n",
       "      <td>0.853440</td>\n",
       "      <td>244.000000</td>\n",
       "      <td>509.000000</td>\n",
       "      <td>0.000000</td>\n",
       "      <td>0.000000</td>\n",
       "    </tr>\n",
       "    <tr>\n",
       "      <th>50%</th>\n",
       "      <td>0.000000</td>\n",
       "      <td>9.000000</td>\n",
       "      <td>2.000000</td>\n",
       "      <td>3.000000</td>\n",
       "      <td>6.644640</td>\n",
       "      <td>0.000000</td>\n",
       "      <td>1.219200</td>\n",
       "      <td>417.000000</td>\n",
       "      <td>1418.000000</td>\n",
       "      <td>0.000000</td>\n",
       "      <td>0.000000</td>\n",
       "    </tr>\n",
       "    <tr>\n",
       "      <th>75%</th>\n",
       "      <td>1.000000</td>\n",
       "      <td>14.000000</td>\n",
       "      <td>6.000000</td>\n",
       "      <td>5.800000</td>\n",
       "      <td>7.589520</td>\n",
       "      <td>1.000000</td>\n",
       "      <td>1.706880</td>\n",
       "      <td>560.000000</td>\n",
       "      <td>2002.000000</td>\n",
       "      <td>0.000000</td>\n",
       "      <td>0.000000</td>\n",
       "    </tr>\n",
       "    <tr>\n",
       "      <th>max</th>\n",
       "      <td>1.000000</td>\n",
       "      <td>26.000000</td>\n",
       "      <td>23.000000</td>\n",
       "      <td>20.000000</td>\n",
       "      <td>9.814560</td>\n",
       "      <td>1.000000</td>\n",
       "      <td>8.747760</td>\n",
       "      <td>714.000000</td>\n",
       "      <td>3563.000000</td>\n",
       "      <td>1.000000</td>\n",
       "      <td>1.000000</td>\n",
       "    </tr>\n",
       "  </tbody>\n",
       "</table>\n",
       "</div>"
      ],
      "text/plain": [
       "         LOCATION  SHOT_NUMBER    DRIBBLES  TOUCH_TIME   SHOT_DIST  \\\n",
       "count  941.000000   941.000000  941.000000  941.000000  941.000000   \n",
       "mean     0.454835     9.421892    3.617428    3.833900    5.264618   \n",
       "std      0.498221     5.659816    4.081129    3.260441    2.789592   \n",
       "min      0.000000     1.000000    0.000000    0.000000    0.030480   \n",
       "25%      0.000000     5.000000    0.000000    1.000000    2.316480   \n",
       "50%      0.000000     9.000000    2.000000    3.000000    6.644640   \n",
       "75%      1.000000    14.000000    6.000000    5.800000    7.589520   \n",
       "max      1.000000    26.000000   23.000000   20.000000    9.814560   \n",
       "\n",
       "       SHOT_RESULT  CLOSE_DEF_DIST  TIME_SPENT_QUATER_SEC  GAME_TIME_TOTAL  \\\n",
       "count   941.000000      941.000000             941.000000       941.000000   \n",
       "mean      0.493092        1.371082             398.515409      1378.664187   \n",
       "std       0.500218        0.837733             188.788092       863.510575   \n",
       "min       0.000000        0.000000              12.000000        12.000000   \n",
       "25%       0.000000        0.853440             244.000000       509.000000   \n",
       "50%       0.000000        1.219200             417.000000      1418.000000   \n",
       "75%       1.000000        1.706880             560.000000      2002.000000   \n",
       "max       1.000000        8.747760             714.000000      3563.000000   \n",
       "\n",
       "        CONTESTED      CLUTCH  \n",
       "count  941.000000  941.000000  \n",
       "mean     0.121148    0.013815  \n",
       "std      0.326472    0.116785  \n",
       "min      0.000000    0.000000  \n",
       "25%      0.000000    0.000000  \n",
       "50%      0.000000    0.000000  \n",
       "75%      0.000000    0.000000  \n",
       "max      1.000000    1.000000  "
      ]
     },
     "execution_count": 55,
     "metadata": {},
     "output_type": "execute_result"
    }
   ],
   "source": [
    "df_curry.describe()"
   ]
  },
  {
   "cell_type": "markdown",
   "id": "52bc7b78",
   "metadata": {},
   "source": [
    "| Variable                      | Curry (moy ± std) | LeBron (moy ± std) | Interprétation                          |\n",
    "| ----------------------------- | ----------------- | ------------------ | --------------------------------------- |\n",
    "| **DRIBBLES**                  | 3.6 ± 4.1         | 4.6 ± 5.3          | Petits entiers (0–10), faible amplitude |\n",
    "| **TOUCH_TIME (s)**            | 3.8 ± 3.3         | 5.7 ± 4.7          | Quelques secondes                       |\n",
    "| **SHOT_DIST (ft)**            | 17.3 ± 9.2        | 13.8 ± 9.2         | Ordre de grandeur 10–20                 |\n",
    "| **CLOSE_DEF_DIST (ft)**       | 4.5 ± 2.7         | 4.2 ± 3.3          | Valeurs de 0–10                         |\n",
    "| **TIME_SPENT_QUATER_SEC (s)** | 398 ± 189         | 370 ± 209          | Centaines de secondes                   |\n",
    "| **GAME_TIME_TOTAL (s)**       | 1379 ± 864        | 1390 ± 846         | Milliers de secondes                    |\n",
    "\n",
    "Les moyennes et écarts-types montrent des ordres de grandeur très différents :\n",
    "Ces écarts d’échelle (ex. GAME_TIME_TOTAL ≈ 1400 vs DRIBBLES ≈ 4) faussent les coefficients pour tout modèle linéaire (logistique, SVM, etc.).\n",
    "Standardisation nécessaire.\n"
   ]
  },
  {
   "cell_type": "code",
   "execution_count": 56,
   "id": "4a91b366",
   "metadata": {},
   "outputs": [
    {
     "name": "stdout",
     "output_type": "stream",
     "text": [
      "Standardisation terminée sur lebron dataset: ['DRIBBLES', 'TOUCH_TIME', 'SHOT_DIST', 'CLOSE_DEF_DIST', 'TIME_SPENT_QUATER_SEC', 'GAME_TIME_TOTAL']\n",
      "Forme du DataFrame : (947, 11)\n",
      "                               mean       std\n",
      "DRIBBLES              -3.751546e-17  1.000528\n",
      "TOUCH_TIME             1.500618e-17  1.000528\n",
      "SHOT_DIST              9.754019e-17  1.000528\n",
      "CLOSE_DEF_DIST        -7.127937e-17  1.000528\n",
      "TIME_SPENT_QUATER_SEC -6.002473e-17  1.000528\n",
      "GAME_TIME_TOTAL        8.440978e-17  1.000528\n",
      "Standardisation terminée sur curry dataset: ['DRIBBLES', 'TOUCH_TIME', 'SHOT_DIST', 'CLOSE_DEF_DIST', 'TIME_SPENT_QUATER_SEC', 'GAME_TIME_TOTAL']\n",
      "Forme du DataFrame : (941, 11)\n",
      "                               mean       std\n",
      "DRIBBLES              -4.530559e-17  1.000532\n",
      "TOUCH_TIME            -1.359168e-16  1.000532\n",
      "SHOT_DIST              2.491808e-16  1.000532\n",
      "CLOSE_DEF_DIST         1.132640e-17  1.000532\n",
      "TIME_SPENT_QUATER_SEC  0.000000e+00  1.000532\n",
      "GAME_TIME_TOTAL        1.132640e-17  1.000532\n"
     ]
    }
   ],
   "source": [
    "#on centre et réduit les données non bianaires Standardisation \n",
    "cols_to_standardize = [\n",
    "    'DRIBBLES',\n",
    "    'TOUCH_TIME',\n",
    "    'SHOT_DIST',\n",
    "    'CLOSE_DEF_DIST',\n",
    "    'TIME_SPENT_QUATER_SEC',\n",
    "    'GAME_TIME_TOTAL'\n",
    "]\n",
    "\n",
    "cols_to_standardize = [c for c in cols_to_standardize if c in df.columns]\n",
    "\n",
    "\n",
    "scaler = StandardScaler()\n",
    "df_curry[cols_to_standardize] = scaler.fit_transform(df_curry[cols_to_standardize])\n",
    "df_lebron[cols_to_standardize] = scaler.fit_transform(df_lebron[cols_to_standardize])\n",
    "\n",
    "\n",
    "print(\"Standardisation terminée sur lebron dataset:\", cols_to_standardize)\n",
    "print(\"Forme du DataFrame :\", df_lebron.shape)\n",
    "print(df_lebron[cols_to_standardize].describe().T[['mean', 'std']])\n",
    "\n",
    "print(\"Standardisation terminée sur curry dataset:\", cols_to_standardize)\n",
    "print(\"Forme du DataFrame :\", df_curry.shape)\n",
    "print(df_curry[cols_to_standardize].describe().T[['mean', 'std']])"
   ]
  },
  {
   "cell_type": "code",
   "execution_count": 57,
   "id": "f06aca3d",
   "metadata": {},
   "outputs": [
    {
     "data": {
      "image/png": "[encoded data removed]",
      "text/plain": [
       "<Figure size 800x600 with 2 Axes>"
      ]
     },
     "metadata": {},
     "output_type": "display_data"
    }
   ],
   "source": [
    "corr_matrix = df_curry.corr(numeric_only=True)\n",
    "\n",
    "corr_matrix\n",
    "plt.figure(figsize=(8,6))\n",
    "sns.heatmap(corr_matrix, annot=True, cmap='coolwarm', fmt=\".2f\")\n",
    "plt.title('Matrice de corrélation Curry dataset')\n",
    "plt.show()\n"
   ]
  },
  {
   "cell_type": "code",
   "execution_count": 58,
   "id": "77c8cb8d",
   "metadata": {},
   "outputs": [
    {
     "data": {
      "image/png": "[encoded data removed]",
      "text/plain": [
       "<Figure size 800x600 with 2 Axes>"
      ]
     },
     "metadata": {},
     "output_type": "display_data"
    }
   ],
   "source": [
    "corr_matrix = df_lebron.corr(numeric_only=True)\n",
    "\n",
    "corr_matrix\n",
    "plt.figure(figsize=(8,6))\n",
    "sns.heatmap(corr_matrix, annot=True, cmap='coolwarm', fmt=\".2f\")\n",
    "plt.title('Matrice de corrélation Lebron dataset')\n",
    "plt.show()\n"
   ]
  },
  {
   "cell_type": "markdown",
   "id": "b3cb50a6",
   "metadata": {},
   "source": [
    "GAME_TIME_TOTAL et SHOT_NUMBER.\n",
    "Cela paraît logique : plus le temps s’écoule, plus un joueur a d’occasions de tirer.\n",
    "Toutefois, il peut être intéressant de conserver ces deux variables, car certains joueurs (les remplaçants) disposent de moins de temps de jeu et donc d’un nombre de tirs plus limité. Leur profil de tir peut différer sensiblement de celui des titulaires. On pourras retirer pour nos jeux de donnés dans un second temps.\n",
    "\n",
    "TOUCH_TIME et DRIBBLES montrent également une corrélation naturelle :\n",
    "plus un joueur dribble, plus il conserve la balle longtemps.\n",
    "Néanmoins, cette relation reste intéressante à analyser, car elle peut révéler des différences d’efficacité selon le style de jeu : par exemple, déterminer si un joueur marque davantage après plusieurs dribbles ou sur réception directe (catch-and-shoot)."
   ]
  },
  {
   "cell_type": "code",
   "execution_count": 60,
   "id": "76bb11f0",
   "metadata": {},
   "outputs": [
    {
     "name": "stdout",
     "output_type": "stream",
     "text": [
      "✅ Sauvegarde terminée avec succès !\n",
      "Fichiers enregistrés dans le dossier : data_cleaned\n",
      "- data_cleaned\\curry_preprocessed.csv\n",
      "- data_cleaned\\lebron_preprocessed.csv\n"
     ]
    }
   ],
   "source": [
    "import os\n",
    "\n",
    "# --- Création d'un dossier de sortie s'il n'existe pas ---\n",
    "output_dir = \"data_cleaned\"\n",
    "os.makedirs(output_dir, exist_ok=True)\n",
    "\n",
    "# --- Sauvegarde des datasets traités ---\n",
    "curry_path = os.path.join(output_dir, \"curry_preprocessed.csv\")\n",
    "lebron_path = os.path.join(output_dir, \"lebron_preprocessed.csv\")\n",
    "\n",
    "df_curry.to_csv(curry_path, index=False)\n",
    "df_lebron.to_csv(lebron_path, index=False)\n",
    "\n",
    "print(\"✅ Sauvegarde terminée avec succès !\")\n",
    "print(f\"Fichiers enregistrés dans le dossier : {output_dir}\")\n",
    "print(f\"- {curry_path}\")\n",
    "print(f\"- {lebron_path}\")\n"
   ]
  }
 ],
 "metadata": {
  "kernelspec": {
   "display_name": "Python 3",
   "language": "python",
   "name": "python3"
  },
  "language_info": {
   "codemirror_mode": {
    "name": "ipython",
    "version": 3
   },
   "file_extension": ".py",
   "mimetype": "text/x-python",
   "name": "python",
   "nbconvert_exporter": "python",
   "pygments_lexer": "ipython3",
   "version": "3.12.2"
  }
 },
 "nbformat": 4,
 "nbformat_minor": 5
}
